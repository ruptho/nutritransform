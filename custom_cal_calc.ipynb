{
 "cells": [
  {
   "cell_type": "code",
   "execution_count": 1,
   "id": "c6a03128",
   "metadata": {},
   "outputs": [],
   "source": [
    "%load_ext autoreload\n",
    "%autoreload 2"
   ]
  },
  {
   "cell_type": "code",
   "execution_count": 2,
   "id": "19f2bdb8",
   "metadata": {},
   "outputs": [
    {
     "name": "stderr",
     "output_type": "stream",
     "text": [
      "\n",
      "Bad key text.latex.preview in file /opt/conda/lib/python3.7/site-packages/matplotlib/mpl-data/stylelib/_classic_test.mplstyle, line 123 ('text.latex.preview : False')\n",
      "You probably need to get an updated matplotlibrc file from\n",
      "https://github.com/matplotlib/matplotlib/blob/v3.5.2/matplotlibrc.template\n",
      "or from the matplotlib source distribution\n",
      "\n",
      "Bad key mathtext.fallback_to_cm in file /opt/conda/lib/python3.7/site-packages/matplotlib/mpl-data/stylelib/_classic_test.mplstyle, line 155 ('mathtext.fallback_to_cm : True  # When True, use symbols from the Computer Modern')\n",
      "You probably need to get an updated matplotlibrc file from\n",
      "https://github.com/matplotlib/matplotlib/blob/v3.5.2/matplotlibrc.template\n",
      "or from the matplotlib source distribution\n",
      "\n",
      "Bad key savefig.jpeg_quality in file /opt/conda/lib/python3.7/site-packages/matplotlib/mpl-data/stylelib/_classic_test.mplstyle, line 418 ('savefig.jpeg_quality: 95       # when a jpeg is saved, the default quality parameter.')\n",
      "You probably need to get an updated matplotlibrc file from\n",
      "https://github.com/matplotlib/matplotlib/blob/v3.5.2/matplotlibrc.template\n",
      "or from the matplotlib source distribution\n",
      "\n",
      "Bad key keymap.all_axes in file /opt/conda/lib/python3.7/site-packages/matplotlib/mpl-data/stylelib/_classic_test.mplstyle, line 466 ('keymap.all_axes : a                 # enable all axes')\n",
      "You probably need to get an updated matplotlibrc file from\n",
      "https://github.com/matplotlib/matplotlib/blob/v3.5.2/matplotlibrc.template\n",
      "or from the matplotlib source distribution\n",
      "\n",
      "Bad key animation.avconv_path in file /opt/conda/lib/python3.7/site-packages/matplotlib/mpl-data/stylelib/_classic_test.mplstyle, line 477 ('animation.avconv_path: avconv     # Path to avconv binary. Without full path')\n",
      "You probably need to get an updated matplotlibrc file from\n",
      "https://github.com/matplotlib/matplotlib/blob/v3.5.2/matplotlibrc.template\n",
      "or from the matplotlib source distribution\n",
      "\n",
      "Bad key animation.avconv_args in file /opt/conda/lib/python3.7/site-packages/matplotlib/mpl-data/stylelib/_classic_test.mplstyle, line 479 ('animation.avconv_args:            # Additional arguments to pass to avconv')\n",
      "You probably need to get an updated matplotlibrc file from\n",
      "https://github.com/matplotlib/matplotlib/blob/v3.5.2/matplotlibrc.template\n",
      "or from the matplotlib source distribution\n"
     ]
    }
   ],
   "source": [
    "import pandas as pd\n",
    "import numpy as np\n",
    "import matplotlib.pyplot as plt\n",
    "import json\n",
    "from collections import defaultdict\n",
    "\n",
    "# https://www.reddit.com/r/pushshift/comments/w23fg5/gaps_in_rs_submission_dumps_can_anyone_confirm/\n",
    "# https://www.reddit.com/r/food/comments/exg935/a_massive_rule_overhaul/\n",
    "# https://www.reddit.com/r/food/comments/rhok28/announcement_new_titles_rules_are_going_to_be/"
   ]
  },
  {
   "cell_type": "markdown",
   "id": "6c4e98ee",
   "metadata": {},
   "source": [
    "Rule changes:\n",
    " - \"Please describe the food in the title\" https://www.reddit.com/r/food/comments/3vvk91/mod_post_rule_clarification_we_require/\n",
    " - \"Going forward, all link posts must have \"only one\" of the following tags\" - with tag dscription\n",
    "     - https://www.reddit.com/r/food/comments/56nlo5/mod_post_psa_update_please_see_the_following_rule/\n",
    " - announced in february 2020 (tags, 100% of titles need to be food, etc.)\n",
    "        - https://www.reddit.com/r/food/comments/exg935/a_massive_rule_overhaul/\n",
    "        - when did they take effect?\n",
    " - new title rules (70% of title = food only. Take effect December 2021)\n",
    "        - https://www.reddit.com/r/food/comments/rhok28/announcement_new_titles_rules_are_going_to_be/\n",
    " - post flairs were gone but came back in June 2020: https://www.reddit.com/r/food/comments/gwsbg9/post_flairs_are_back/"
   ]
  },
  {
   "cell_type": "markdown",
   "id": "32b1b1e5",
   "metadata": {},
   "source": [
    "70% of the title has to specifically describe what the food is. Backstory to the food / where the ingredients come from do not fall within the 70%. Use a comment on the post for backstory. No ALL CAPS, emojis or NON-OC Add a Tag at the Front of Your Title: * [I ate] - food you ate in a restaurant * [Homemade] - food you made at home * [Pro/Chef] - food you made if you work in the food industry"
   ]
  },
  {
   "cell_type": "code",
   "execution_count": 3,
   "id": "3f945f97",
   "metadata": {},
   "outputs": [],
   "source": [
    "df_subs = pd.read_json('../../data/RedditCrawl/202204/wellbeing/submissions/food/food_submissions.txt', lines=True)\n",
    "df_subs_food = df_subs[df_subs.subreddit == 'food']"
   ]
  },
  {
   "cell_type": "code",
   "execution_count": null,
   "id": "a1d0f9f7",
   "metadata": {},
   "outputs": [],
   "source": [
    "df_subs_posts['date_utc'] = pd.to_datetime(df_subs_posts.created_utc, unit='s')"
   ]
  },
  {
   "cell_type": "code",
   "execution_count": 4,
   "id": "f9f9f043",
   "metadata": {},
   "outputs": [
    {
     "name": "stdout",
     "output_type": "stream",
     "text": [
      "All posts ever 1303769\n",
      ">2017 757009\n",
      "Removed and deleted posts 756253\n",
      "Remove duplicates 748194\n"
     ]
    },
    {
     "name": "stderr",
     "output_type": "stream",
     "text": [
      "/opt/conda/lib/python3.7/site-packages/ipykernel_launcher.py:18: UserWarning: This pattern has match groups. To actually get the groups, use str.extract.\n",
      "/opt/conda/lib/python3.7/site-packages/ipykernel_launcher.py:19: UserWarning: This pattern has match groups. To actually get the groups, use str.extract.\n"
     ]
    },
    {
     "name": "stdout",
     "output_type": "stream",
     "text": [
      "Matched Regex 512943\n",
      "Remaining after stripping empty 512261\n",
      "Remaining after removing deleted users 400962\n"
     ]
    }
   ],
   "source": [
    "# without deleted authors\n",
    "reg_str = '\\[ *(i ?(ate|eat)|home[ -]?made|pro[/ ]chef) *\\]'\n",
    "\n",
    "df_subs_posts = df_subs_food.copy()\n",
    "print('All posts ever', len(df_subs_posts))\n",
    "\n",
    "df_subs_posts['date_utc'] = pd.to_datetime(df_subs_posts.created_utc, unit='s')\n",
    "df_subs_posts['date_day'] = df_subs_posts['date_utc'].dt.date\n",
    "df_subs_posts = df_subs_posts[(df_subs_posts.date_utc >= pd.to_datetime('2017-01-01')) & (df_subs_posts.date_utc <= pd.to_datetime('2021-01-01'))]\n",
    "\n",
    "print('>2017', len(df_subs_posts))\n",
    "df_subs_posts_norem = df_subs_posts[~(df_subs_posts.title.isin(['[removed]', '[deleted]', '[deleted by user]']) | pd.isna(df_subs_posts.title) | df_subs_posts.author.str.lower().isin(['[automoderator]']))].copy()\n",
    "print('Removed and deleted posts', len(df_subs_posts_norem))\n",
    "\n",
    "df_subs_posts_norem_nodup = df_subs_posts_norem.drop_duplicates(subset=['author', 'title', 'date_day'], keep='last')\n",
    "print('Remove duplicates', len(df_subs_posts_norem_nodup))\n",
    "\n",
    "df_sub_regex_posts = df_subs_posts_norem_nodup[df_subs_posts_norem_nodup.title.str.lower().str.contains(reg_str, regex=True)].copy()\n",
    "df_sub_nonregex_posts = df_subs_posts_norem_nodup[~df_subs_posts_norem_nodup.title.str.lower().str.contains(reg_str, regex=True)].copy()\n",
    "\n",
    "print('Matched Regex', len(df_sub_regex_posts))\n",
    "\n",
    "df_sub_regex_posts['clean_title'] = df_sub_regex_posts.title.str.lower().str.replace('&amp;', ' and ', regex=False)\n",
    "df_sub_regex_posts['clean_title'] = df_sub_regex_posts.clean_title.str.replace('\\[.+?\\]', ' ', regex=True).str.replace('( )+', ' ', regex=True).str.strip()\n",
    "\n",
    "df_filtered = df_sub_regex_posts[df_sub_regex_posts.clean_title.str.len() >= 3]\n",
    "print('Remaining after stripping empty', len(df_filtered))\n",
    "\n",
    "df_filtered_nodel = df_filtered[~pd.isna(df_filtered.author) & ~df_filtered.author.isin(['[removed]', '[deleted]', '[AutoModerator]'])]\n",
    "print('Remaining after removing deleted users', len(df_filtered_nodel))"
   ]
  },
  {
   "cell_type": "code",
   "execution_count": 1689,
   "id": "b73bb101",
   "metadata": {},
   "outputs": [],
   "source": [
    "val_counts = df_filtered_nodel.author.value_counts()"
   ]
  },
  {
   "cell_type": "code",
   "execution_count": 1690,
   "id": "242e5381",
   "metadata": {},
   "outputs": [],
   "source": [
    "author_counts = df_filtered_nodel.author.value_counts()"
   ]
  },
  {
   "cell_type": "code",
   "execution_count": 1702,
   "id": "17ff5f86",
   "metadata": {},
   "outputs": [],
   "source": [
    "np.savetxt('food_data/authors_min_3.txt', author_counts[author_counts >= 3].index.values, '%s', delimiter='NODELIMPLEASE')"
   ]
  },
  {
   "cell_type": "code",
   "execution_count": 2109,
   "id": "cc74da39",
   "metadata": {},
   "outputs": [
    {
     "data": {
      "text/plain": [
       "Americanmalayalee    227\n",
       "shomali11            185\n",
       "jasmin6391           144\n",
       "MissMollyMakes       120\n",
       "davestarr            109\n",
       "                    ... \n",
       "OfficerBonasera        1\n",
       "ddexel                 1\n",
       "Dasupalouie            1\n",
       "didnotcutthebaby       1\n",
       "tootsmefroots          1\n",
       "Name: author, Length: 39914, dtype: int64"
      ]
     },
     "execution_count": 2109,
     "metadata": {},
     "output_type": "execute_result"
    }
   ],
   "source": [
    "df_filtered_nodel[(df_filtered_nodel.date_utc >= pd.to_datetime('2017-01-01')) & (df_filtered_nodel.date_utc < pd.to_datetime('2018-01-01'))]"
   ]
  },
  {
   "cell_type": "code",
   "execution_count": 2170,
   "id": "103f8cc5",
   "metadata": {},
   "outputs": [
    {
     "name": "stdout",
     "output_type": "stream",
     "text": [
      "2017 authors with 3 posts 5831\n",
      "2018 authors with 3 posts 6331\n",
      "2019 authors with 3 posts 7421\n",
      "2020 authors with 3 posts 12344\n"
     ]
    }
   ],
   "source": [
    "authors_17 = df_filtered_nodel[(df_filtered_nodel.date_utc >= pd.to_datetime('2017-01-01')) & (df_filtered_nodel.date_utc < pd.to_datetime('2018-01-01'))].author.value_counts()\n",
    "authors_17 = authors_17[(authors_17 >=3)]#& (authors_17 <= 50)]\n",
    "print('2017 authors with 3 posts', len(authors_17))\n",
    "authors_18 = df_filtered_nodel[(df_filtered_nodel.date_utc >= pd.to_datetime('2018-01-01')) & (df_filtered_nodel.date_utc < pd.to_datetime('2019-01-01'))].author.value_counts()\n",
    "authors_18 = authors_18[(authors_18 >=3)]#& (authors_18 <= 50)]\n",
    "print('2018 authors with 3 posts', len(authors_18))\n",
    "authors_19 = df_filtered_nodel[(df_filtered_nodel.date_utc >= pd.to_datetime('2019-01-01')) & (df_filtered_nodel.date_utc < pd.to_datetime('2020-01-01'))].author.value_counts()\n",
    "authors_19 = authors_19[(authors_19 >=3)]#& (authors_19 <= 50)]\n",
    "print('2019 authors with 3 posts', len(authors_19))\n",
    "authors_20 = df_filtered_nodel[(df_filtered_nodel.date_utc >= pd.to_datetime('2020-01-01')) & (df_filtered_nodel.date_utc < pd.to_datetime('2021-01-01'))].author.value_counts()\n",
    "authors_20 = authors_20[(authors_20 >=3)]#& (authors_20 <= 50)]\n",
    "print('2020 authors with 3 posts', len(authors_20))"
   ]
  },
  {
   "cell_type": "code",
   "execution_count": 2159,
   "id": "a562c060",
   "metadata": {},
   "outputs": [
    {
     "data": {
      "text/plain": [
       "304"
      ]
     },
     "execution_count": 2159,
     "metadata": {},
     "output_type": "execute_result"
    }
   ],
   "source": [
    "len(set(authors_17.index) & set(authors_18.index) & set(authors_19.index)& set(authors_20.index))"
   ]
  },
  {
   "cell_type": "code",
   "execution_count": 2152,
   "id": "ce94d809",
   "metadata": {},
   "outputs": [],
   "source": [
    "all_authors_years = set(authors_17.index) | set(authors_18.index) | set(authors_19.index) | set(authors_20.index)"
   ]
  },
  {
   "cell_type": "code",
   "execution_count": 2171,
   "id": "31b6a551",
   "metadata": {},
   "outputs": [],
   "source": [
    "filter_3posts = df_filtered_nodel.author.isin(set(author_counts[author_counts >= 3].index.values))"
   ]
  },
  {
   "cell_type": "code",
   "execution_count": 2172,
   "id": "3bd83bc7",
   "metadata": {},
   "outputs": [],
   "source": [
    "filter_3posts_years = df_filtered_nodel.author.isin(all_authors_years)"
   ]
  },
  {
   "cell_type": "code",
   "execution_count": 2173,
   "id": "d0927af0",
   "metadata": {},
   "outputs": [],
   "source": [
    "filters_authors = ( (df_filtered_nodel.author.isin(set(authors_17.index)) & (df_filtered_nodel.date_utc >= pd.to_datetime('2017-01-01')) & (df_filtered_nodel.date_utc < pd.to_datetime('2018-01-01'))) |\n",
    "                    (df_filtered_nodel.author.isin(set(authors_18.index)) & (df_filtered_nodel.date_utc >= pd.to_datetime('2018-01-01')) & (df_filtered_nodel.date_utc < pd.to_datetime('2019-01-01'))) |\n",
    "                    (df_filtered_nodel.author.isin(set(authors_19.index)) & (df_filtered_nodel.date_utc >= pd.to_datetime('2019-01-01')) & (df_filtered_nodel.date_utc < pd.to_datetime('2020-01-01'))) |\n",
    "                    (df_filtered_nodel.author.isin(set(authors_20.index)) & (df_filtered_nodel.date_utc >= pd.to_datetime('2020-01-01')) & (df_filtered_nodel.date_utc < pd.to_datetime('2021-01-01')))\n",
    "                  )"
   ]
  },
  {
   "cell_type": "code",
   "execution_count": 2167,
   "id": "32b18685",
   "metadata": {},
   "outputs": [
    {
     "data": {
      "text/plain": [
       "217357"
      ]
     },
     "execution_count": 2167,
     "metadata": {},
     "output_type": "execute_result"
    }
   ],
   "source": [
    "np.sum(filters_authors)"
   ]
  },
  {
   "cell_type": "code",
   "execution_count": 2163,
   "id": "de1acb89",
   "metadata": {},
   "outputs": [
    {
     "data": {
      "text/plain": [
       "198472"
      ]
     },
     "execution_count": 2163,
     "metadata": {},
     "output_type": "execute_result"
    }
   ],
   "source": [
    "np.sum(filters_authors)"
   ]
  },
  {
   "cell_type": "code",
   "execution_count": 951,
   "id": "006effa1",
   "metadata": {},
   "outputs": [],
   "source": [
    "df_recipes = df_filtered[df_filtered.link_flair_text.fillna('').str.lower().str.contains('recipe')]"
   ]
  },
  {
   "cell_type": "code",
   "execution_count": 5,
   "id": "5c6b20d1",
   "metadata": {},
   "outputs": [
    {
     "name": "stdout",
     "output_type": "stream",
     "text": [
      "comparison: Posts with any tag in title 544412\n"
     ]
    }
   ],
   "source": [
    "df_tag = df_subs_posts[df_subs_posts.title.str.lower().str.contains('\\[.+?\\]')]\n",
    "print('comparison: Posts with any tag in title', len(df_tag))"
   ]
  },
  {
   "cell_type": "code",
   "execution_count": null,
   "id": "c67bdf6a",
   "metadata": {},
   "outputs": [],
   "source": [
    "df_filtered_nodel[df_filtered_nodel.author.isin(set(author_counts[author_counts >= 3].index.values))]"
   ]
  },
  {
   "cell_type": "code",
   "execution_count": null,
   "id": "b23c908e",
   "metadata": {},
   "outputs": [],
   "source": [
    "fig, ax = plt.subplots(nrows=1, figsize=(25, 6), sharex=True)\n",
    "bins=250\n",
    "df_subs_posts.date_utc.dt.date.hist(bins=bins, ax=ax, label='All posts')\n",
    "df_subs_posts_norem.date_utc.dt.date.hist(bins=bins, ax=ax, label='No removed/deleted/Automoderator')\n",
    "df_subs_posts_norem_nodup.date_utc.dt.date.hist(bins=bins, ax=ax, label='No removed/deleted/Automoderator and no duplicates')\n",
    "#ax[0].set_ylabel('All food posts\\n(including removed posts)')\n",
    "df_tag.date_utc.dt.date.hist(bins=bins, ax=ax, label='Posts with any tag')\n",
    "df_filtered.date_utc.dt.date.hist(bins=bins, ax=ax, label='Filtered posts (tag regex, removed posts)')\n",
    "#ax[1].set_ylabel('Filtered posts\\n(regex, removed posts)')\n",
    "df_filtered_nodel.date_utc.dt.date.hist(bins=bins, ax=ax, label='Filtered posts (tag regex, removed posts + deleted users)')\n",
    "df_filtered_nodel[filter_3posts].date_utc.dt.date.hist(bins=bins, ax=ax, label='Filtered posts (Users >3 posts)')\n",
    "df_filtered_nodel[filter_3posts_years].date_utc.dt.date.hist(bins=bins, ax=ax, label='Filtered posts (Users >3 posts per year)')\n",
    "df_filtered_nodel[filters_authors].date_utc.dt.date.hist(bins=bins, ax=ax, label='Filtered posts (Users >3 posts per year only posts in that year)')\n",
    "\n",
    "#ax[2].set_ylabel('Filtered posts\\n(regex, removed posts & users)')\n",
    "ax.legend(loc='upper left')"
   ]
  },
  {
   "cell_type": "code",
   "execution_count": 1765,
   "id": "373dc8dd",
   "metadata": {},
   "outputs": [],
   "source": [
    "def extract_food_data(path, food_db):\n",
    "    data_struct = []\n",
    "    with open(path, 'r') as myfile:\n",
    "        data = json.load(myfile)[food_db]\n",
    "\n",
    "    units = defaultdict(set)\n",
    "    for food_item in data:\n",
    "        food_data = {}\n",
    "        food_data['name'] = food_item['description']\n",
    "\n",
    "        food_data['parent_name'] = food_item['wweiaFoodCategory']['wweiaFoodCategoryDescription'] if food_db == 'SurveyFoods' else food_data['name']\n",
    "        for nutrient_info in food_item['foodNutrients']:\n",
    "            if 'amount' in nutrient_info:\n",
    "                if nutrient_info['nutrient']['name'] == 'Energy':\n",
    "                        if nutrient_info['nutrient']['unitName'] == 'kcal':\n",
    "                            food_data[nutrient_info['nutrient']['name']] = nutrient_info['amount']\n",
    "                            units[nutrient_info['nutrient']['name']].add(nutrient_info['nutrient']['unitName'])\n",
    "\n",
    "                else:\n",
    "                    food_data[nutrient_info['nutrient']['name']] = nutrient_info['amount']\n",
    "                    units[nutrient_info['nutrient']['name']].add(nutrient_info['nutrient']['unitName'])\n",
    "            else:\n",
    "                #print(nutrient_info)\n",
    "                pass # No info available\n",
    "        data_struct.append(food_data)\n",
    "    return pd.DataFrame(data_struct), units"
   ]
  },
  {
   "cell_type": "markdown",
   "id": "c4d221bc",
   "metadata": {},
   "source": [
    "# Nutritient info:\n",
    "- https://www.nzdl.org/cgi-bin/library.cgi?e=d-00000-00---off-0mhl--00-0----0-10-0---0---0direct-10---4-------0-1l--11-en-50---20-about---00-0-1-00-0-0-11-1-0utfZz-8-00&a=d&c=mhl&cl=CL1.1&d=HASHc5831578d1d2af498d537a.5.2.4\n",
    "\n",
    "# Foundation Food Field Description\n",
    "https://fdc.nal.usda.gov/docs/Foundation_Foods_Documentation_Apr2020.pdf\n",
    "Foundation Foods does not provide data on all nutrients. This is because of the uniqueness of the\n",
    "data: \n",
    "- Some nutrients are not found in certain foods (e.g., cholesterol in plant foods, protein in oils).\n",
    "- Some nutrients in a food have not yet been analyzed. Data analyses are continually conducted\n",
    "and as data on nutrients are obtained, values will be added to food profiles.\n",
    "\n",
    "### Proximate fields\n",
    "“Proximate component” refers to the following macronutrients: water (moisture), protein, total lipid\n",
    "(fat), total carbohydrate, and ash. Except for a few food items, nutrient profiles contain values for the\n",
    "proximate components and at least one other nutrient\n",
    "- Carbohydrate content, referred to as “carbohydrate by difference” in the tables, is expressed as the\n",
    "difference between 100 and the sum of the percentages of water, protein, total lipid (fat), ash, and\n",
    "alcohol (when present). - **PERCENTAGE**\n",
    "-“Sugars, total NLEA” refers to the sum of the values for individual monosaccharides (galactose, glucose,\n",
    "and fructose) and disaccharides (sucrose, lactose, and maltose), which are those sugars analyzed for\n",
    "nutrition labelling. Because the analyses of total dietary fiber, total sugars, and starch content are\n",
    "conducted separately and reflect the analytical variability inherent in the measurement process, the\n",
    "sum of these carbohydrate fractions may not equal the carbohydrate-by-difference value or may even\n",
    "exceed it\n",
    "- Food energy is expressed in kcal and kJ. One kcal equals 4.184 kJ. The data represent physiologically\n",
    "available energy, which is the value remaining after digestive and urinary losses are deducted from gross\n",
    "energy (Merrill and Watt, 1973). Most energy values are calculated using the default factors of 4, 9, and\n",
    "4 for protein, fat, and carbohydrates, respectively. Calorie factors for protein, fat, and carbohydrates are\n",
    "included in the Food Descriptions table for many food items. For foods containing alcohol, a factor of 6.93 is used to calculate kcal/g of alcohol (Merrill and Watt, 1973)\n",
    "- Vitamins reported in the database include ascorbic acid, thiamin, riboflavin, niacin, pantothenic acid,\n",
    "vitamin B 6, vitamin B 12, folate, choline, vitamin A, vitamin D, vitamin E, and vitamin K. Many of the values\n",
    "were obtained in small sample sizes, often of composited samples.\n",
    "- \"Protein\". The values for protein are calculated from the amount of total nitrogen in the food using the nitrogen-\n",
    "to-protein conversion factors recommended by Jones (1941) for most food items. The factor applied\n",
    "to each food item is provided in the NFactor field in the Food Description table. Values in Foundation Foods are now listed as “calculated.” This differs from the approach taken in SR\n",
    "Legacy, which denotes protein as “analytical.”\n",
    "- Lipid component. Fatty acid values are expressed in g per 100 g of food. Logically, the sum of the fatty acids may not add\n",
    "up to the value for total lipid. Total lipid values used on food labels represent the amount of triglyceride\n",
    "that would produce the amount of lipid fatty acids determined using gas chromatography, as required\n",
    "by the NLEA."
   ]
  },
  {
   "cell_type": "code",
   "execution_count": 922,
   "id": "276f6b46",
   "metadata": {},
   "outputs": [],
   "source": [
    "# https://fdc.nal.usda.gov/fdc-app.html#/food-details/2341748/nutrients"
   ]
  },
  {
   "cell_type": "code",
   "execution_count": 1766,
   "id": "553d0a6f",
   "metadata": {},
   "outputs": [],
   "source": [
    "foundation_data, foundation_units = extract_food_data('food_data/FoodData_Central_foundation_food_json_2022-10-28.json', food_db='FoundationFoods')\n",
    "foundation_data['data_source'] = 'foundation'\n",
    "survey_data, survey_units = extract_food_data('food_data/FoodData_Central_survey_food_json_2022-10-28.json', food_db='SurveyFoods')\n",
    "survey_data['data_source'] = 'survey22'\n",
    "survey_21_data, survey_21_units = extract_food_data('food_data/FoodData_Central_survey_food_json_2021-10-28.json', food_db='SurveyFoods')\n",
    "survey_21_data['data_source'] = 'survey21'\n",
    "legacy_data, legacy_units = extract_food_data('food_data/FoodData_Central_sr_legacy_food_json_2021-10-28.json', food_db='SRLegacyFoods')\n",
    "legacy_data['data_source'] = 'legacy'"
   ]
  },
  {
   "cell_type": "code",
   "execution_count": 2206,
   "id": "ad2b97a6",
   "metadata": {},
   "outputs": [],
   "source": [
    "food_data_all = pd.concat([foundation_data, survey_data, survey_21_data, legacy_data])\n",
    "food_data_all['bow'] = food_data_all.name.str.split(', ')\n",
    "food_data_all = food_data_all.drop_duplicates(subset='name')\n",
    "food_data_all['title_simple'] = food_data_all.name.str.replace('[,]+', ' ', regex=True).str.replace('( )+', ' ', regex=True).str.lower()\n",
    "food_data_all['title_simple_reversed'] = food_data_all.name.str.lower().str.split(', ').apply(lambda l: ' '.join(list(reversed(l))))\n",
    "\n",
    "food_data_cooked = food_data_all[~food_data_all.name.str.contains(' raw| uncooked| unheated') & \n",
    "                                 ~pd.isna(food_data_all.Energy)]"
   ]
  },
  {
   "cell_type": "markdown",
   "id": "c9f9770b",
   "metadata": {},
   "source": [
    "# spacy analysis"
   ]
  },
  {
   "cell_type": "code",
   "execution_count": 10,
   "id": "36e530f5",
   "metadata": {},
   "outputs": [],
   "source": [
    "import spacy"
   ]
  },
  {
   "cell_type": "code",
   "execution_count": 11,
   "id": "581286bc",
   "metadata": {},
   "outputs": [],
   "source": [
    "nlp = spacy.load(\"en_core_web_lg\")"
   ]
  },
  {
   "cell_type": "code",
   "execution_count": 217,
   "id": "02b8c75c",
   "metadata": {},
   "outputs": [],
   "source": [
    "nlp_tf = spacy.load(\"/home/jovyan/en_vectors_floret_lg\")"
   ]
  },
  {
   "cell_type": "code",
   "execution_count": 351,
   "id": "f0ba34f2",
   "metadata": {},
   "outputs": [],
   "source": [
    "spacy_nlp_foundation_data_dict = {title: nlp(title) for title in food_data_cooked[food_data_cooked.data_source=='foundation'].title_simple}\n",
    "spacy_nlp_tf_foundation_data_dict = {title: nlp_tf(title) for title in food_data_cooked[food_data_cooked.data_source=='foundation'].title_simple}"
   ]
  },
  {
   "cell_type": "code",
   "execution_count": 1006,
   "id": "4c1e816a",
   "metadata": {},
   "outputs": [],
   "source": [
    "spacy_nlp_data_dict = {title: spacy_obj for title, spacy_obj in spacy_nlp_data_dict.items() if spacy_obj.vector.any()}\n",
    "spacy_nlp_tf_data_dict = {title: spacy_obj for title, spacy_obj in spacy_nlp_tf_data_dict.items() if spacy_obj.vector.any()}"
   ]
  },
  {
   "cell_type": "code",
   "execution_count": null,
   "id": "991f31d9",
   "metadata": {},
   "outputs": [],
   "source": [
    "spacy_nlp_foundation_data_dict = {title: spacy_obj for title, spacy_obj in spacy_nlp_foundation_data_dict.items() if spacy_obj.vector.any()}\n",
    "spacy_nlp_tf_foundation_data_dict = {title: spacy_obj for title, spacy_obj in spacy_nlp_tf_foundation_data_dict.items() if spacy_obj.vector.any()}"
   ]
  },
  {
   "cell_type": "code",
   "execution_count": 12,
   "id": "f00d6c62",
   "metadata": {},
   "outputs": [],
   "source": [
    "test_data = pd.read_csv('food_data/new_sampled_food_nutrition.csv', index_col=0)"
   ]
  },
  {
   "cell_type": "code",
   "execution_count": 13,
   "id": "685a16be",
   "metadata": {},
   "outputs": [],
   "source": [
    "sample_nlp = {title: nlp(title) if not pd.isna(title) else np.nan for title in test_data.clean_title}"
   ]
  },
  {
   "cell_type": "code",
   "execution_count": 1007,
   "id": "f9340090",
   "metadata": {},
   "outputs": [],
   "source": [
    "def convert_nouns_to_lemmas(span):\n",
    "    tokens_new = []\n",
    "    curr_i = 0\n",
    "    for token in span:\n",
    "        if token.text == '-':\n",
    "            continue\n",
    "        elif token.pos_ == 'NOUN':\n",
    "            tok_str = token.lemma_\n",
    "            tokens_new.append(tok_str)\n",
    "        elif token.pos_ in ['PART', 'PUNCT']:\n",
    "            if curr_i == 0:\n",
    "                continue\n",
    "            tokens_new[curr_i-1] += token.text\n",
    "            curr_i -= 1\n",
    "        else:\n",
    "            tok_str = token.text\n",
    "            tokens_new.append(tok_str)\n",
    "        curr_i += 1\n",
    "    return nlp(' '.join(tokens_new))\n",
    "\n",
    "def lookup_nutrition(span, df_food=food_data_cooked):\n",
    "    # think about single words!!!\n",
    "    \n",
    "    # full match\n",
    "    df_match = pd.DataFrame()\n",
    "    full_match = span.text in df_food.title_simple\n",
    "    if np.any(full_match):\n",
    "        df_match = df_food[full_match]\n",
    "    \n",
    "    # partial match\n",
    "    word_strings = []\n",
    "    curr_i = 0\n",
    "    for word in span:\n",
    "        if word.pos_ == 'PART':\n",
    "            if curr_i == 0:\n",
    "                continue\n",
    "            word_strings[curr_i-1] += word.text\n",
    "        word_strings.append(word.text)\n",
    "        curr_i += 1\n",
    "    partial_match = df_food.bow_simple.apply(lambda t: all(word in t for word in word_strings))\n",
    "    \n",
    "    if np.any(partial_match):\n",
    "        df_match = df_food[partial_match]\n",
    "    \n",
    "    return {'matches': df_match, 'nutrition': df_match.mean()}\n",
    "\n",
    "\n",
    "def lookup_or_cache_result(span, span_cache):\n",
    "    if span.text not in span_cache:\n",
    "        span_cache[span.text] = lookup_nutrition(chunk_lemma) if chunk_lemma.text not in chunks_found else chunks_found[chunk_lemma.text]\n",
    "    return span_cache[span]"
   ]
  },
  {
   "cell_type": "code",
   "execution_count": 63,
   "id": "485f2fe4",
   "metadata": {},
   "outputs": [],
   "source": [
    "import re\n",
    "import logger\n",
    "\n",
    "sample_tests = ['asparagus and tofu stir fry']#'shephard\\'s peanut butter and nutella creme pies and potatoes'\n",
    "\n",
    "# Other Idea: Try and get longer splits, then flip it and look for occurences of \"foundation food\"\n",
    "def parse_title_to_nutrition(title, chunks_found, log_cal):\n",
    "    nlp_full = nlp(title)\n",
    "    nut_vals = []\n",
    "    log_cal.info(f'====================== ')\n",
    "    log_cal.info(title)\n",
    "    log_cal.info(f'======================')\n",
    "\n",
    "    noun_chunks = list(nlp_full.noun_chunks)\n",
    "    for chunk in noun_chunks:\n",
    "        # look for exact match/contained in text\n",
    "        log_cal.info(f'lookup |{chunk}|')\n",
    "        chunk_nutrition = lookup_nutrition(chunk) if chunk.text not in chunks_found else chunks_found[chunk.text]\n",
    "\n",
    "        if chunk_nutrition['matches'].empty:\n",
    "            # convert nouns to lemmas, try again\n",
    "            nlp_lemma = convert_nouns_to_lemmas(chunk)\n",
    "            for chunk_lemma in nlp_lemma.noun_chunks:\n",
    "                # look for lemma match/contained in text\n",
    "                log_cal.info(f'lookup lemma |{chunk_lemma}|')\n",
    "                chunk_nutrition = lookup_nutrition(chunk_lemma) if chunk_lemma.text not in chunks_found else chunks_found[chunk_lemma.text]\n",
    "\n",
    "                if chunk_nutrition['matches'].empty:\n",
    "                    # now split up junc by CONJ/PUNCT/ADP\n",
    "                    new_toks = []\n",
    "                    curr_toks, curr_i = [], 0\n",
    "                    for token in chunk:\n",
    "                        if token.pos_ not in ['CCONJ', 'ADP', 'PUNCT']:\n",
    "                            if token.pos_ in ['PART', 'PUNCT']:\n",
    "                                if curr_i == 0:\n",
    "                                    continue\n",
    "                                curr_toks[curr_i - 1] += token.text\n",
    "                            elif token.text == '-':\n",
    "                                continue\n",
    "                            else:\n",
    "                                curr_toks.append(token.text)\n",
    "                                curr_i += 1\n",
    "                        else:\n",
    "                            new_toks.append(curr_toks)\n",
    "                            curr_toks, curr_i = [], 0\n",
    "                    if len(curr_toks) > 0:\n",
    "                        new_toks.append(curr_toks)\n",
    "\n",
    "                    for split_chunks in [nlp(' '.join(new_tok)).noun_chunks for new_tok in new_toks]:\n",
    "                        for split_chunk in split_chunks:\n",
    "                            log_cal.info(f'lookup split |{split_chunk}|')\n",
    "                            chunk_nutrition = lookup_nutrition(split_chunk) if split_chunk.text not in chunks_found else chunks_found[split_chunk.text]\n",
    "                            if chunk_nutrition['matches'].empty:\n",
    "                                nlp_lemma = convert_nouns_to_lemmas(split_chunk)\n",
    "                                for split_chunk_lemma in nlp_lemma.noun_chunks:\n",
    "                                    log_cal.info(f'lookup split lemma |{split_chunk_lemma.text}|')\n",
    "                                    chunk_nutrition = lookup_nutrition(split_chunk_lemma) if split_chunk_lemma.text not in chunks_found else chunks_found[split_chunk_lemma.text]\n",
    "\n",
    "                                    if chunk_nutrition['matches'].empty:\n",
    "                                        log_cal.info(f'[NOT FOUND] |{split_chunk_lemma}|')\n",
    "                                    else:\n",
    "                                        nut_vals.append(chunk_nutrition)\n",
    "                            else:\n",
    "                                nut_vals.append(chunk_nutrition)\n",
    "                else:\n",
    "                    nut_vals.append(chunk_nutrition)\n",
    "        else:\n",
    "            nut_vals.append(chunk_nutrition)\n",
    "    return nut_vals\n",
    "\n",
    "def parse_titles_to_nutrition(titles, logger_title='calorie'):\n",
    "    import time\n",
    "    log_cal = logger.Logger.instance(logger_title, propagate=False)\n",
    "    chunks_found = {}\n",
    "    titles_nutrition = []\n",
    "    log_cal.info(f'Start processing {len(titles)}')\n",
    "    start = time.time()\n",
    "    for title in titles:\n",
    "        titles_nutrition.append(parse_title_to_nutrition(title, chunks_found, log_cal) if not pd.isna(title) else None)\n",
    "    minutes = (time.time() - start) / 60\n",
    "    log_cal.info(f'Finished processing {len(titles)} in {minutes:.2f} Minutes')\n",
    "    return titles_nutrition, chunks_found"
   ]
  },
  {
   "cell_type": "code",
   "execution_count": 17,
   "id": "46b41581",
   "metadata": {},
   "outputs": [
    {
     "data": {
      "text/html": [
       "<div>\n",
       "<style scoped>\n",
       "    .dataframe tbody tr th:only-of-type {\n",
       "        vertical-align: middle;\n",
       "    }\n",
       "\n",
       "    .dataframe tbody tr th {\n",
       "        vertical-align: top;\n",
       "    }\n",
       "\n",
       "    .dataframe thead th {\n",
       "        text-align: right;\n",
       "    }\n",
       "</style>\n",
       "<table border=\"1\" class=\"dataframe\">\n",
       "  <thead>\n",
       "    <tr style=\"text-align: right;\">\n",
       "      <th></th>\n",
       "      <th>index</th>\n",
       "      <th>subredditId</th>\n",
       "      <th>subreddit</th>\n",
       "      <th>created_at</th>\n",
       "      <th>author</th>\n",
       "      <th>author_flair_text</th>\n",
       "      <th>author_flair_css_class</th>\n",
       "      <th>num_comments</th>\n",
       "      <th>url</th>\n",
       "      <th>score</th>\n",
       "      <th>...</th>\n",
       "      <th>calories</th>\n",
       "      <th>carbohydrates_total_g</th>\n",
       "      <th>cholesterol_mg</th>\n",
       "      <th>fat_saturated_g</th>\n",
       "      <th>fat_total_g</th>\n",
       "      <th>fiber_g</th>\n",
       "      <th>potassium_mg</th>\n",
       "      <th>protein_g</th>\n",
       "      <th>sodium_mg</th>\n",
       "      <th>sugar_g</th>\n",
       "    </tr>\n",
       "  </thead>\n",
       "  <tbody>\n",
       "    <tr>\n",
       "      <th>2927942</th>\n",
       "      <td>2927942</td>\n",
       "      <td>t5_2qh55</td>\n",
       "      <td>food</td>\n",
       "      <td>1555653575</td>\n",
       "      <td>13rhythm</td>\n",
       "      <td>None</td>\n",
       "      <td>None</td>\n",
       "      <td>2.0</td>\n",
       "      <td>https://i.imgur.com/NzupNro.jpg</td>\n",
       "      <td>24.0</td>\n",
       "      <td>...</td>\n",
       "      <td>143.700000</td>\n",
       "      <td>3.100000</td>\n",
       "      <td>89.000000</td>\n",
       "      <td>0.300000</td>\n",
       "      <td>1.900000</td>\n",
       "      <td>0.000000</td>\n",
       "      <td>229.000000</td>\n",
       "      <td>26.500000</td>\n",
       "      <td>224.000000</td>\n",
       "      <td>0.000000</td>\n",
       "    </tr>\n",
       "    <tr>\n",
       "      <th>3189342</th>\n",
       "      <td>3189342</td>\n",
       "      <td>t5_2qh55</td>\n",
       "      <td>food</td>\n",
       "      <td>1592245503</td>\n",
       "      <td>wowisuck3</td>\n",
       "      <td>None</td>\n",
       "      <td>None</td>\n",
       "      <td>2.0</td>\n",
       "      <td>https://i.redd.it/uyld9ndt94551.jpg</td>\n",
       "      <td>17.0</td>\n",
       "      <td>...</td>\n",
       "      <td>252.150000</td>\n",
       "      <td>33.950000</td>\n",
       "      <td>26.500000</td>\n",
       "      <td>2.650000</td>\n",
       "      <td>7.600000</td>\n",
       "      <td>1.350000</td>\n",
       "      <td>119.500000</td>\n",
       "      <td>11.950000</td>\n",
       "      <td>424.500000</td>\n",
       "      <td>2.850000</td>\n",
       "    </tr>\n",
       "    <tr>\n",
       "      <th>3305279</th>\n",
       "      <td>3305279</td>\n",
       "      <td>t5_2qh55</td>\n",
       "      <td>food</td>\n",
       "      <td>1609796503</td>\n",
       "      <td>[deleted]</td>\n",
       "      <td>None</td>\n",
       "      <td>None</td>\n",
       "      <td>0.0</td>\n",
       "      <td>https://i.redd.it/fe8px4czxd961.jpg</td>\n",
       "      <td>2.0</td>\n",
       "      <td>...</td>\n",
       "      <td>225.833333</td>\n",
       "      <td>4.533333</td>\n",
       "      <td>46.666667</td>\n",
       "      <td>5.383333</td>\n",
       "      <td>17.083333</td>\n",
       "      <td>1.200000</td>\n",
       "      <td>199.500000</td>\n",
       "      <td>13.616667</td>\n",
       "      <td>388.166667</td>\n",
       "      <td>1.716667</td>\n",
       "    </tr>\n",
       "    <tr>\n",
       "      <th>2782074</th>\n",
       "      <td>2782074</td>\n",
       "      <td>t5_2qh55</td>\n",
       "      <td>food</td>\n",
       "      <td>1530287875</td>\n",
       "      <td>pointandshooty</td>\n",
       "      <td>None</td>\n",
       "      <td>None</td>\n",
       "      <td>1.0</td>\n",
       "      <td>https://i.redd.it/g82xkistpy611.jpg</td>\n",
       "      <td>4.0</td>\n",
       "      <td>...</td>\n",
       "      <td>NaN</td>\n",
       "      <td>NaN</td>\n",
       "      <td>NaN</td>\n",
       "      <td>NaN</td>\n",
       "      <td>NaN</td>\n",
       "      <td>NaN</td>\n",
       "      <td>NaN</td>\n",
       "      <td>NaN</td>\n",
       "      <td>NaN</td>\n",
       "      <td>NaN</td>\n",
       "    </tr>\n",
       "    <tr>\n",
       "      <th>2745573</th>\n",
       "      <td>2745573</td>\n",
       "      <td>t5_2qh55</td>\n",
       "      <td>food</td>\n",
       "      <td>1523039492</td>\n",
       "      <td>MrBritalian</td>\n",
       "      <td>None</td>\n",
       "      <td>None</td>\n",
       "      <td>0.0</td>\n",
       "      <td>https://i.redd.it/oxmwb8o90cq01.jpg</td>\n",
       "      <td>1.0</td>\n",
       "      <td>...</td>\n",
       "      <td>205.733333</td>\n",
       "      <td>10.683333</td>\n",
       "      <td>57.666667</td>\n",
       "      <td>6.983333</td>\n",
       "      <td>13.516667</td>\n",
       "      <td>1.083333</td>\n",
       "      <td>154.166667</td>\n",
       "      <td>10.450000</td>\n",
       "      <td>289.333333</td>\n",
       "      <td>3.216667</td>\n",
       "    </tr>\n",
       "    <tr>\n",
       "      <th>3305699</th>\n",
       "      <td>3305699</td>\n",
       "      <td>t5_2qh55</td>\n",
       "      <td>food</td>\n",
       "      <td>1609872982</td>\n",
       "      <td>cozy_apricot_360</td>\n",
       "      <td>None</td>\n",
       "      <td>None</td>\n",
       "      <td>0.0</td>\n",
       "      <td>https://i.redd.it/uqr7sg5e9k961.jpg</td>\n",
       "      <td>11.0</td>\n",
       "      <td>...</td>\n",
       "      <td>303.525000</td>\n",
       "      <td>33.750000</td>\n",
       "      <td>7.500000</td>\n",
       "      <td>4.150000</td>\n",
       "      <td>17.000000</td>\n",
       "      <td>4.300000</td>\n",
       "      <td>153.500000</td>\n",
       "      <td>6.550000</td>\n",
       "      <td>93.500000</td>\n",
       "      <td>13.200000</td>\n",
       "    </tr>\n",
       "    <tr>\n",
       "      <th>2674602</th>\n",
       "      <td>2674602</td>\n",
       "      <td>t5_2qh55</td>\n",
       "      <td>food</td>\n",
       "      <td>1508382876</td>\n",
       "      <td>CO_Surfer</td>\n",
       "      <td>None</td>\n",
       "      <td>None</td>\n",
       "      <td>8.0</td>\n",
       "      <td>https://i.redd.it/5tjm7bi6fpsz.jpg</td>\n",
       "      <td>47.0</td>\n",
       "      <td>...</td>\n",
       "      <td>208.885714</td>\n",
       "      <td>7.585714</td>\n",
       "      <td>50.428571</td>\n",
       "      <td>5.985714</td>\n",
       "      <td>14.785714</td>\n",
       "      <td>0.757143</td>\n",
       "      <td>187.142857</td>\n",
       "      <td>11.514286</td>\n",
       "      <td>547.000000</td>\n",
       "      <td>2.700000</td>\n",
       "    </tr>\n",
       "    <tr>\n",
       "      <th>3021309</th>\n",
       "      <td>3021309</td>\n",
       "      <td>t5_2qh55</td>\n",
       "      <td>food</td>\n",
       "      <td>1571239652</td>\n",
       "      <td>Kamranmalyk</td>\n",
       "      <td>None</td>\n",
       "      <td>None</td>\n",
       "      <td>0.0</td>\n",
       "      <td>https://v.redd.it/fw0m1wti8xs31</td>\n",
       "      <td>1.0</td>\n",
       "      <td>...</td>\n",
       "      <td>198.400000</td>\n",
       "      <td>16.200000</td>\n",
       "      <td>187.000000</td>\n",
       "      <td>3.700000</td>\n",
       "      <td>10.300000</td>\n",
       "      <td>0.800000</td>\n",
       "      <td>143.000000</td>\n",
       "      <td>9.400000</td>\n",
       "      <td>265.000000</td>\n",
       "      <td>2.700000</td>\n",
       "    </tr>\n",
       "    <tr>\n",
       "      <th>3238289</th>\n",
       "      <td>3238289</td>\n",
       "      <td>t5_2qh55</td>\n",
       "      <td>food</td>\n",
       "      <td>1598955285</td>\n",
       "      <td>Realistic_Mon</td>\n",
       "      <td>None</td>\n",
       "      <td>None</td>\n",
       "      <td>0.0</td>\n",
       "      <td>https://i.redd.it/5ehu3u7ehik51.jpg</td>\n",
       "      <td>1.0</td>\n",
       "      <td>...</td>\n",
       "      <td>172.300000</td>\n",
       "      <td>12.400000</td>\n",
       "      <td>48.000000</td>\n",
       "      <td>4.500000</td>\n",
       "      <td>8.200000</td>\n",
       "      <td>0.900000</td>\n",
       "      <td>180.000000</td>\n",
       "      <td>10.600000</td>\n",
       "      <td>355.000000</td>\n",
       "      <td>2.200000</td>\n",
       "    </tr>\n",
       "    <tr>\n",
       "      <th>3349402</th>\n",
       "      <td>3349402</td>\n",
       "      <td>t5_2qh55</td>\n",
       "      <td>food</td>\n",
       "      <td>1616359931</td>\n",
       "      <td>Bowerstone77</td>\n",
       "      <td>None</td>\n",
       "      <td>None</td>\n",
       "      <td>1.0</td>\n",
       "      <td>https://i.redd.it/2qzhqpre2go61.jpg</td>\n",
       "      <td>1.0</td>\n",
       "      <td>...</td>\n",
       "      <td>81.700000</td>\n",
       "      <td>1.200000</td>\n",
       "      <td>0.000000</td>\n",
       "      <td>0.900000</td>\n",
       "      <td>5.200000</td>\n",
       "      <td>1.000000</td>\n",
       "      <td>111.000000</td>\n",
       "      <td>10.000000</td>\n",
       "      <td>3.000000</td>\n",
       "      <td>0.700000</td>\n",
       "    </tr>\n",
       "  </tbody>\n",
       "</table>\n",
       "<p>10 rows × 37 columns</p>\n",
       "</div>"
      ],
      "text/plain": [
       "           index subredditId subreddit  created_at            author  \\\n",
       "2927942  2927942    t5_2qh55      food  1555653575          13rhythm   \n",
       "3189342  3189342    t5_2qh55      food  1592245503         wowisuck3   \n",
       "3305279  3305279    t5_2qh55      food  1609796503         [deleted]   \n",
       "2782074  2782074    t5_2qh55      food  1530287875    pointandshooty   \n",
       "2745573  2745573    t5_2qh55      food  1523039492       MrBritalian   \n",
       "3305699  3305699    t5_2qh55      food  1609872982  cozy_apricot_360   \n",
       "2674602  2674602    t5_2qh55      food  1508382876         CO_Surfer   \n",
       "3021309  3021309    t5_2qh55      food  1571239652       Kamranmalyk   \n",
       "3238289  3238289    t5_2qh55      food  1598955285     Realistic_Mon   \n",
       "3349402  3349402    t5_2qh55      food  1616359931      Bowerstone77   \n",
       "\n",
       "        author_flair_text author_flair_css_class  num_comments  \\\n",
       "2927942              None                   None           2.0   \n",
       "3189342              None                   None           2.0   \n",
       "3305279              None                   None           0.0   \n",
       "2782074              None                   None           1.0   \n",
       "2745573              None                   None           0.0   \n",
       "3305699              None                   None           0.0   \n",
       "2674602              None                   None           8.0   \n",
       "3021309              None                   None           0.0   \n",
       "3238289              None                   None           0.0   \n",
       "3349402              None                   None           1.0   \n",
       "\n",
       "                                         url  score  ...    calories  \\\n",
       "2927942      https://i.imgur.com/NzupNro.jpg   24.0  ...  143.700000   \n",
       "3189342  https://i.redd.it/uyld9ndt94551.jpg   17.0  ...  252.150000   \n",
       "3305279  https://i.redd.it/fe8px4czxd961.jpg    2.0  ...  225.833333   \n",
       "2782074  https://i.redd.it/g82xkistpy611.jpg    4.0  ...         NaN   \n",
       "2745573  https://i.redd.it/oxmwb8o90cq01.jpg    1.0  ...  205.733333   \n",
       "3305699  https://i.redd.it/uqr7sg5e9k961.jpg   11.0  ...  303.525000   \n",
       "2674602   https://i.redd.it/5tjm7bi6fpsz.jpg   47.0  ...  208.885714   \n",
       "3021309      https://v.redd.it/fw0m1wti8xs31    1.0  ...  198.400000   \n",
       "3238289  https://i.redd.it/5ehu3u7ehik51.jpg    1.0  ...  172.300000   \n",
       "3349402  https://i.redd.it/2qzhqpre2go61.jpg    1.0  ...   81.700000   \n",
       "\n",
       "        carbohydrates_total_g cholesterol_mg fat_saturated_g fat_total_g  \\\n",
       "2927942              3.100000      89.000000        0.300000    1.900000   \n",
       "3189342             33.950000      26.500000        2.650000    7.600000   \n",
       "3305279              4.533333      46.666667        5.383333   17.083333   \n",
       "2782074                   NaN            NaN             NaN         NaN   \n",
       "2745573             10.683333      57.666667        6.983333   13.516667   \n",
       "3305699             33.750000       7.500000        4.150000   17.000000   \n",
       "2674602              7.585714      50.428571        5.985714   14.785714   \n",
       "3021309             16.200000     187.000000        3.700000   10.300000   \n",
       "3238289             12.400000      48.000000        4.500000    8.200000   \n",
       "3349402              1.200000       0.000000        0.900000    5.200000   \n",
       "\n",
       "          fiber_g potassium_mg  protein_g   sodium_mg    sugar_g  \n",
       "2927942  0.000000   229.000000  26.500000  224.000000   0.000000  \n",
       "3189342  1.350000   119.500000  11.950000  424.500000   2.850000  \n",
       "3305279  1.200000   199.500000  13.616667  388.166667   1.716667  \n",
       "2782074       NaN          NaN        NaN         NaN        NaN  \n",
       "2745573  1.083333   154.166667  10.450000  289.333333   3.216667  \n",
       "3305699  4.300000   153.500000   6.550000   93.500000  13.200000  \n",
       "2674602  0.757143   187.142857  11.514286  547.000000   2.700000  \n",
       "3021309  0.800000   143.000000   9.400000  265.000000   2.700000  \n",
       "3238289  0.900000   180.000000  10.600000  355.000000   2.200000  \n",
       "3349402  1.000000   111.000000  10.000000    3.000000   0.700000  \n",
       "\n",
       "[10 rows x 37 columns]"
      ]
     },
     "execution_count": 17,
     "metadata": {},
     "output_type": "execute_result"
    }
   ],
   "source": [
    "sample = test_data.sample(10)\n",
    "sample"
   ]
  },
  {
   "cell_type": "code",
   "execution_count": 36,
   "id": "d499bb32",
   "metadata": {},
   "outputs": [
    {
     "name": "stdout",
     "output_type": "stream",
     "text": [
      "New logging instance for logging//calorie_1672677894.log\n"
     ]
    },
    {
     "name": "stderr",
     "output_type": "stream",
     "text": [
      "/opt/conda/lib/python3.7/site-packages/ipykernel_launcher.py:37: FutureWarning: Dropping of nuisance columns in DataFrame reductions (with 'numeric_only=None') is deprecated; in a future version this will raise TypeError.  Select only valid columns before calling the reduction.\n"
     ]
    }
   ],
   "source": [
    "nut_data, chunk_cache = parse_titles_to_nutrition(sample.clean_title)"
   ]
  },
  {
   "cell_type": "code",
   "execution_count": 64,
   "id": "c2356693",
   "metadata": {},
   "outputs": [
    {
     "name": "stderr",
     "output_type": "stream",
     "text": [
      "/opt/conda/lib/python3.7/site-packages/ipykernel_launcher.py:45: FutureWarning: Dropping of nuisance columns in DataFrame reductions (with 'numeric_only=None') is deprecated; in a future version this will raise TypeError.  Select only valid columns before calling the reduction.\n"
     ]
    }
   ],
   "source": [
    "all_nut_data, all_chunk_cache = parse_titles_to_nutrition(test_data.clean_title)"
   ]
  },
  {
   "cell_type": "code",
   "execution_count": null,
   "id": "51b2dc34",
   "metadata": {},
   "outputs": [],
   "source": [
    "# TODO: record matches better\n",
    "data = []\n",
    "for i, nut_data in enumerate(all_nut_data):\n",
    "    #print(i)\n",
    "    if nut_data and len(nut_data) > 0:\n",
    "        df_all = pd.concat([nd['nutrition'][['Energy', 'Protein']] for nd in nut_data], axis=1)\n",
    "        #print(df_all)\n",
    "        if len(nut_data) > 1:\n",
    "            df_all = df_all.mean(axis=1)\n",
    "        else:\n",
    "            df_all = df_all.squeeze()\n",
    "        #print(df_all)\n",
    "        data.append(pd.Series(test_data.clean_title.values[i], index=['title_clean']).append(df_all).append(test_data.iloc[i][['title', 'calories', 'protein_g']]))\n",
    "        # #{i: pd.Series(test_data.clean_title.values[i], index=['title_clean']).append(pd.concat([nd['nutrition'] for nd in nut_data]))})\n",
    "df_results = pd.concat(data, axis=1).transpose()"
   ]
  },
  {
   "cell_type": "code",
   "execution_count": 186,
   "id": "dda5f28d",
   "metadata": {},
   "outputs": [
    {
     "data": {
      "text/html": [
       "<div>\n",
       "<style scoped>\n",
       "    .dataframe tbody tr th:only-of-type {\n",
       "        vertical-align: middle;\n",
       "    }\n",
       "\n",
       "    .dataframe tbody tr th {\n",
       "        vertical-align: top;\n",
       "    }\n",
       "\n",
       "    .dataframe thead th {\n",
       "        text-align: right;\n",
       "    }\n",
       "</style>\n",
       "<table border=\"1\" class=\"dataframe\">\n",
       "  <thead>\n",
       "    <tr style=\"text-align: right;\">\n",
       "      <th></th>\n",
       "      <th>0</th>\n",
       "      <th>1</th>\n",
       "    </tr>\n",
       "  </thead>\n",
       "  <tbody>\n",
       "    <tr>\n",
       "      <th>Energy</th>\n",
       "      <td>546.692308</td>\n",
       "      <td>76.00</td>\n",
       "    </tr>\n",
       "    <tr>\n",
       "      <th>Protein</th>\n",
       "      <td>5.840769</td>\n",
       "      <td>4.46</td>\n",
       "    </tr>\n",
       "  </tbody>\n",
       "</table>\n",
       "</div>"
      ],
      "text/plain": [
       "                  0      1\n",
       "Energy   546.692308  76.00\n",
       "Protein    5.840769   4.46"
      ]
     },
     "execution_count": 186,
     "metadata": {},
     "output_type": "execute_result"
    }
   ],
   "source": [
    "pd.concat([nd['nutrition'][['Energy', 'Protein']] for nd in nut_data], axis=1)"
   ]
  },
  {
   "cell_type": "markdown",
   "id": "108ffa6f",
   "metadata": {},
   "source": [
    "# Try vectors"
   ]
  },
  {
   "cell_type": "code",
   "execution_count": 2185,
   "id": "06916e3f",
   "metadata": {},
   "outputs": [
    {
     "data": {
      "text/plain": [
       "array(['tail chicken', 'smoked salmon', 'cornmeal pancakes',\n",
       "       'spanakopitta', 'dessert dip', 'chicken quesadilla',\n",
       "       'oat bunches cereal', 'gruyere cheese', 'nfs taco',\n",
       "       'nfs soft pretzels'], dtype=object)"
      ]
     },
     "execution_count": 2185,
     "metadata": {},
     "output_type": "execute_result"
    }
   ],
   "source": [
    "food_data_cooked[food_data_cooked.title_simple_reversed.str.len() < 20].title_simple_reversed.sample(10).values"
   ]
  },
  {
   "cell_type": "code",
   "execution_count": 1003,
   "id": "0864e1bc",
   "metadata": {},
   "outputs": [
    {
     "data": {
      "text/plain": [
       "2851    digiorno pizza supreme topping rising crust fr...\n",
       "5908                                          cheese feta\n",
       "1010                                       oysters canned\n",
       "3179                             cereal rice crispy plain\n",
       "3867    babyfood dessert custard pudding vanilla strained\n",
       "3140    snacks rice cakes brown rice sesame seed unsalted\n",
       "3857                                    dosa with filling\n",
       "4108                             baby toddler juice apple\n",
       "1600    peaches canned heavy syrup pack solids and liq...\n",
       "1211    beef tenderloin roast separable lean and fat t...\n",
       "Name: title_simple, dtype: object"
      ]
     },
     "execution_count": 1003,
     "metadata": {},
     "output_type": "execute_result"
    }
   ],
   "source": [
    "food_data_cooked.title_simple.sample(10)"
   ]
  },
  {
   "cell_type": "code",
   "execution_count": 1145,
   "id": "33c497e9",
   "metadata": {},
   "outputs": [],
   "source": [
    "from sentence_transformers import SentenceTransformer\n",
    "from sentence_transformers.util import cos_sim\n",
    "\n",
    "model = SentenceTransformer('all-mpnet-base-v2')\n",
    "embedded_db = model.encode(food_data_cooked.title_simple.values)\n",
    "embedded_db_dict = dict(zip(food_data_cooked.title_simple.values, embedded_db))\n",
    "embedded_db_dict = {title: vector for title, vector in embedded_db_dict.items() if vector.any()}"
   ]
  },
  {
   "cell_type": "code",
   "execution_count": 1914,
   "id": "b6ad9d36",
   "metadata": {},
   "outputs": [],
   "source": [
    "embedded_db_reverse = model.encode(food_data_cooked.title_simple_reversed.values)\n",
    "embedded_db_rev_dict = dict(zip(food_data_cooked.title_simple_reversed.values, embedded_db_reverse))\n",
    "embedded_db_rev_dict = {title: vector for title, vector in embedded_db_rev_dict.items() if vector.any()}"
   ]
  },
  {
   "cell_type": "code",
   "execution_count": 353,
   "id": "9ceca909",
   "metadata": {},
   "outputs": [],
   "source": [
    "embedded_foundation = model.encode(food_data_cooked[food_data_cooked.data_source == 'foundation'].title_simple.values)\n",
    "embedded_foundation_dict = dict(zip(food_data_cooked[food_data_cooked.data_source == 'foundation'].title_simple.values, embedded_foundation))"
   ]
  },
  {
   "cell_type": "code",
   "execution_count": null,
   "id": "76e705cb",
   "metadata": {},
   "outputs": [],
   "source": []
  },
  {
   "cell_type": "code",
   "execution_count": 1948,
   "id": "82874e13",
   "metadata": {},
   "outputs": [],
   "source": [
    "def lookup_nutrition_vectors_sent_trans(span, df_food=food_data_cooked, embedded_db=embedded_db_dict, n=5, metric='mean', columns=['Energy', 'Protein']):\n",
    "    # print(span)\n",
    "    span_vec = model.encode([span.text if type(span) != str else span])\n",
    "    similarities = cos_sim(span_vec,  np.asarray(list(embedded_db.values())))[0].numpy()#np.concatenate(list(embedded_db_dict.values())))[0].numpy()\n",
    "    df_match = pd.DataFrame(zip(list(embedded_db.keys()), similarities), columns=['title_simple', 'similarity']).nlargest(n, 'similarity')\n",
    "    df_food_match = df_food[df_food.title_simple.isin(df_match.title_simple.values)]\n",
    "    \n",
    "    return {'similarity': df_match, 'matches': df_food_match, 'nutrition': df_food_match[columns].agg(metric)}\n",
    "\n",
    "\n",
    "def lookup_all_nutrition_vectors_sent_trans(texts, df_food=food_data_cooked, embedded_db_loc=embedded_db_dict, n=5, \n",
    "                                            metric='mean', columns=['Energy', 'Protein'], title_col='title_simple'):\n",
    "    # print(span)\n",
    "    span_vectors = model.encode(texts)\n",
    "    db_np_vectors = np.asarray(list(embedded_db_loc.values()))\n",
    "    similarities = cos_sim(span_vectors, db_np_vectors).numpy()\n",
    "    matched_dict = dict(zip(texts, similarities)) # first helper dict\n",
    "    matched_dict = {key: dict(zip(list(embedded_db_loc.keys()), val)) for key, val in matched_dict.items()}\n",
    "\n",
    "    #print(matched_dict)\n",
    "\n",
    "    result_dict = {}\n",
    "    for text, similarities in matched_dict.items():\n",
    "        df_match = pd.DataFrame.from_dict(similarities, orient='index').reset_index()\n",
    "        df_match.columns = [title_col, 'similarity']\n",
    "        df_match = df_match.nlargest(n, 'similarity')\n",
    "        #print(df_match)\n",
    "        df_food_match = df_food[df_food[title_col].isin(df_match[title_col].values)]\n",
    "        result_dict[text] = {'similarity': df_match, 'matches': df_food_match, 'nutrition': df_food_match[columns].agg(metric)}\n",
    "    return result_dict\n",
    "\n",
    "\n",
    "def lookup_nutrition_vectors_word2vec(span, df_food=food_data_cooked, spacy_model=nlp, spacy_model_dict=spacy_nlp_data_dict, n=5, metric='mean', columns=['Energy', 'Protein']):\n",
    "    #print(span)\n",
    "    # think about single words!!!\n",
    "    span_nostop = spacy_model(' '.join([token.text for token in span if not token.is_stop]))\n",
    "    \n",
    "    similarities = {title: span_nostop.similarity(spacy_model_dict[title]) for title in spacy_model_dict}\n",
    "\n",
    "    df_match = pd.DataFrame.from_dict(similarities, orient='index').reset_index()\n",
    "    df_match.columns = ['title_simple', 'similarity']\n",
    "    df_match = df_match.nlargest(n, 'similarity')\n",
    "\n",
    "    df_food_match = df_food[df_food.title_simple.isin(df_match.title_simple)]\n",
    "    return {'similarity': df_match, 'matches': df_food_match, 'nutrition': df_food_match[columns].agg(metric)}\n"
   ]
  },
  {
   "cell_type": "code",
   "execution_count": 1879,
   "id": "20c88e18",
   "metadata": {},
   "outputs": [
    {
     "name": "stdout",
     "output_type": "stream",
     "text": [
      "                           title_simple_reversed  similarity\n",
      "4903                                tartar sauce    0.810347\n",
      "11523                sauce tartar ready-to-serve    0.770108\n",
      "2198                              teriyaki sauce    0.616342\n",
      "13657  sauce sweet and sour prepared-from-recipe    0.607029\n",
      "11000              sauce teriyaki ready-to-serve    0.604435\n",
      "             title_simple_reversed  similarity\n",
      "4903                  tartar sauce    0.794836\n",
      "1094                 steak tartare    0.781869\n",
      "3361               taquito chicken    0.732873\n",
      "11523  sauce tartar ready-to-serve    0.711160\n",
      "3353            quesadilla chicken    0.679642\n"
     ]
    }
   ],
   "source": [
    "results_foodcom = lookup_all_nutrition_vectors_sent_trans(['tartar sauce from scratch', 'chicken tartar'], food_data_cooked, embedded_db_loc=embedded_db_dict, columns=columns, title_col='title_simple_reversed')"
   ]
  },
  {
   "cell_type": "code",
   "execution_count": 862,
   "id": "25eca900",
   "metadata": {},
   "outputs": [
    {
     "name": "stdout",
     "output_type": "stream",
     "text": [
      "CPU times: user 3d 4h 33min 21s, sys: 1h 43s, total: 3d 5h 34min 5s\n",
      "Wall time: 2h 20min 46s\n"
     ]
    }
   ],
   "source": [
    "%%time\n",
    "results_sent_trans_all = lookup_all_nutrition_vectors_sent_trans(df_filtered.clean_title.values)"
   ]
  },
  {
   "cell_type": "code",
   "execution_count": 879,
   "id": "c07c0cb5",
   "metadata": {},
   "outputs": [
    {
     "name": "stderr",
     "output_type": "stream",
     "text": [
      "/opt/conda/lib/python3.7/site-packages/pandas/core/apply.py:577: FutureWarning: Dropping of nuisance columns in DataFrame reductions (with 'numeric_only=None') is deprecated; in a future version this will raise TypeError.  Select only valid columns before calling the reduction.\n",
      "  return f(*args, **kwargs)\n"
     ]
    }
   ],
   "source": [
    "results_sent_trans_all_nutritions = lookup_all_nutrition_vectors_sent_trans(df_filtered.clean_title.values, columns = food_data_cooked.columns[2:-3])"
   ]
  },
  {
   "cell_type": "code",
   "execution_count": 924,
   "id": "0ba39c0f",
   "metadata": {},
   "outputs": [],
   "source": [
    "columns = ['Energy', 'Water', 'Carbohydrate, by difference', 'Protein', 'Total lipid (fat)',\n",
    "           'Fiber, total dietary', 'Sugars, total including NLEA', 'Cholesterol', 'Alcohol, ethyl', \n",
    "           'Caffeine', 'Vitamin C, total ascorbic acid', 'Vitamin D (D2 + D3)']"
   ]
  },
  {
   "cell_type": "code",
   "execution_count": 927,
   "id": "52888796",
   "metadata": {},
   "outputs": [],
   "source": [
    "df_reddit_mean = transform_nut_dict_to_df(results_sent_trans_all_nutritions, columns=columns, prefix='')"
   ]
  },
  {
   "cell_type": "code",
   "execution_count": 930,
   "id": "2452c47f",
   "metadata": {},
   "outputs": [],
   "source": [
    "df_reddit_mean.to_csv('food_data/processed_sent_trans.csv', index=False)"
   ]
  },
  {
   "cell_type": "code",
   "execution_count": 956,
   "id": "f13b614b",
   "metadata": {},
   "outputs": [],
   "source": [
    "df_nut_merged = df_filtered[['author', 'title', 'clean_title', 'permalink', 'date_day']].merge(df_reddit_mean, on='clean_title', how='left')"
   ]
  },
  {
   "cell_type": "code",
   "execution_count": 1317,
   "id": "c8d8254f",
   "metadata": {},
   "outputs": [],
   "source": [
    "df_nut_merged.to_csv('food_data/processed_sent_trans_mrged.csv', index=False)"
   ]
  },
  {
   "cell_type": "code",
   "execution_count": 971,
   "id": "12b6c2a0",
   "metadata": {},
   "outputs": [],
   "source": [
    "df_nut_grouped = df_nut_merged.groupby('date_day')[columns].mean()\n",
    "df_nut_grouped_median = df_nut_merged.groupby('date_day')[columns].median()"
   ]
  },
  {
   "cell_type": "code",
   "execution_count": null,
   "id": "28819f2f",
   "metadata": {},
   "outputs": [],
   "source": [
    "results_reddit_sent_trans_median = compute_metric_vals_for_dict(results_sent_trans_all_nutritions, metric='median')\n",
    "df_reddit_median = transform_nut_dict_to_df(results_reddit_sent_trans_median, columns=columns, prefix='')\n",
    "df_reddit_median.to_csv('food_data/processed_sent_trans_median.csv', index=False)"
   ]
  },
  {
   "cell_type": "code",
   "execution_count": 552,
   "id": "14696e0c",
   "metadata": {},
   "outputs": [],
   "source": [
    "results_sent_trans = [lookup_nutrition_vectors_sent_trans(span) for span in spans]\n",
    "results_word2vec = [lookup_nutrition_vectors_word2vec(span, spacy_model=nlp, spacy_model_dict=spacy_nlp_data_dict) for span in spans]\n",
    "results_floret = [lookup_nutrition_vectors_word2vec(span, spacy_model=nlp_tf, spacy_model_dict=spacy_nlp_tf_data_dict) for span in spans]"
   ]
  },
  {
   "cell_type": "code",
   "execution_count": 553,
   "id": "bfbab080",
   "metadata": {},
   "outputs": [],
   "source": [
    "results_sent_trans_foundation = [lookup_nutrition_vectors_sent_trans(span, df_food=food_data_cooked[food_data_cooked.data_source == 'foundation'], embedded_db = embedded_foundation_dict) for span in spans]\n",
    "results_word2vec_foundation = [lookup_nutrition_vectors_word2vec(span, spacy_model=nlp, df_food=food_data_cooked[food_data_cooked.data_source == 'foundation'], spacy_model_dict=spacy_nlp_foundation_data_dict) for span in spans]\n",
    "results_floret_foundation = [lookup_nutrition_vectors_word2vec(span, spacy_model=nlp_tf, df_food=food_data_cooked[food_data_cooked.data_source == 'foundation'], spacy_model_dict=spacy_nlp_tf_foundation_data_dict) for span in spans]"
   ]
  },
  {
   "cell_type": "code",
   "execution_count": null,
   "id": "8ff077b2",
   "metadata": {},
   "outputs": [],
   "source": [
    "for i, text in enumerate(spans):\n",
    "    print('====================', text)\n",
    "    print('sent_trans', results_sent_trans[i]['nutrition'][['Energy']])\n",
    "    print('word2vec', results_word2vec[i]['nutrition'][['Energy']])\n",
    "    print('floret', results_floret[i]['nutrition'][['Energy']])"
   ]
  },
  {
   "cell_type": "code",
   "execution_count": null,
   "id": "5b425cdf",
   "metadata": {},
   "outputs": [],
   "source": [
    "for i, text in enumerate(spans):\n",
    "    print('====================', text)\n",
    "    print('sent_trans', results_sent_trans_foundation[i]['nutrition'][['Energy']])\n",
    "    print('word2vec', results_word2vec_foundation[i]['nutrition'][['Energy']])\n",
    "    print('floret', results_floret_foundation[i]['nutrition'][['Energy']])"
   ]
  },
  {
   "cell_type": "code",
   "execution_count": 568,
   "id": "fc8f9012",
   "metadata": {},
   "outputs": [
    {
     "name": "stderr",
     "output_type": "stream",
     "text": [
      "/opt/conda/lib/python3.7/site-packages/ipykernel_launcher.py:15: UserWarning: [W008] Evaluating Doc.similarity based on empty vectors.\n",
      "  from ipykernel import kernelapp as app\n"
     ]
    }
   ],
   "source": [
    "results_sent_trans = {title: lookup_nutrition_vectors_sent_trans(doc) if not pd.isna(title) else None for title, doc in sample_nlp.items()}\n",
    "results_word2vec = {title: lookup_nutrition_vectors_word2vec(doc, spacy_model=nlp, spacy_model_dict=spacy_nlp_data_dict) if not pd.isna(title) else None for title, doc in sample_nlp.items()}\n",
    "results_floret = {title: lookup_nutrition_vectors_word2vec(doc, spacy_model=nlp_tf, spacy_model_dict=spacy_nlp_tf_data_dict) if not pd.isna(title) else None for title, doc in sample_nlp.items()}"
   ]
  },
  {
   "cell_type": "code",
   "execution_count": 1030,
   "id": "ab7d2fed",
   "metadata": {},
   "outputs": [],
   "source": [
    "def transform_nut_dict_to_df(nut_dict, columns=['Energy', 'Protein'], prefix=''):\n",
    "    df_res = pd.concat([pd.Series(title, index=['clean_title']).append(\n",
    "        nuts['nutrition'][columns]) if nuts and title and (nuts['nutrition'] is not None) else pd.Series(\n",
    "        [None, None], index=columns) for title, nuts in nut_dict.items()], axis=1).transpose()\n",
    "    df_res.columns = ['clean_title'] + [f'{prefix}{col}' for col in columns]\n",
    "    \n",
    "    return df_res\n",
    "\n",
    "def compute_metric_vals_for_dict(mean_dict, columns=['Energy', 'Protein'], metric='mean'):\n",
    "    median_dict = mean_dict.copy()\n",
    "    for title in mean_dict:\n",
    "        if median_dict[title]:\n",
    "            median_dict[title]['nutrition'] = mean_dict[title]['matches'][columns].agg(metric)\n",
    "    return median_dict"
   ]
  },
  {
   "cell_type": "code",
   "execution_count": 773,
   "id": "6f2d9763",
   "metadata": {},
   "outputs": [],
   "source": [
    "df_senttrans = transform_nut_dict_to_df(results_sent_trans, prefix='stf_')\n",
    "df_word2vec = transform_nut_dict_to_df(results_word2vec, prefix='w2v_')\n",
    "df_floret = transform_nut_dict_to_df(results_floret, prefix='flo_')\n",
    "df_all_mean = df_senttrans.merge(df_word2vec, on='clean_title', how='left').merge(df_floret, on='clean_title', how='left')"
   ]
  },
  {
   "cell_type": "code",
   "execution_count": 783,
   "id": "04908c32",
   "metadata": {},
   "outputs": [],
   "source": [
    "results_sent_trans_median = compute_metric_vals_for_dict(results_sent_trans, metric='median')\n",
    "results_word2vec_median = compute_metric_vals_for_dict(results_word2vec, metric='median')\n",
    "results_floret_median = compute_metric_vals_for_dict(results_floret, metric='median')\n",
    "\n",
    "df_all_median =  transform_nut_dict_to_df(\n",
    "    results_sent_trans_median, prefix='stf_').merge(\n",
    "    transform_nut_dict_to_df(results_word2vec_median, prefix='w2v_'), on='clean_title', how='left').merge(\n",
    "    transform_nut_dict_to_df(results_floret_median, prefix='flo_'), on='clean_title', how='left')"
   ]
  },
  {
   "cell_type": "code",
   "execution_count": null,
   "id": "4cb1c884",
   "metadata": {},
   "outputs": [],
   "source": [
    "%%time\n",
    "results_sent_trans_all = {title: lookup_nutrition_vectors_sent_trans(title) if not pd.isna(title) else None for title in df_filtered.clean_title.sample(10000)}"
   ]
  },
  {
   "cell_type": "code",
   "execution_count": 888,
   "id": "c66d7958",
   "metadata": {},
   "outputs": [
    {
     "data": {
      "text/plain": [
       "406415"
      ]
     },
     "execution_count": 888,
     "metadata": {},
     "output_type": "execute_result"
    }
   ],
   "source": [
    "len(results_sent_trans_all_nutritions)"
   ]
  },
  {
   "cell_type": "code",
   "execution_count": 784,
   "id": "131cfa02",
   "metadata": {},
   "outputs": [],
   "source": [
    "test_calc_median = test_data.merge(df_all_median, how='left', on='clean_title')"
   ]
  },
  {
   "cell_type": "code",
   "execution_count": 785,
   "id": "82a482d4",
   "metadata": {},
   "outputs": [],
   "source": [
    "test_calc_mean = test_data.merge(df_all_mean, how='left', on='clean_title')"
   ]
  },
  {
   "cell_type": "markdown",
   "id": "d13b50a7",
   "metadata": {},
   "source": [
    "# west data"
   ]
  },
  {
   "cell_type": "code",
   "execution_count": 1011,
   "id": "26e1b053",
   "metadata": {},
   "outputs": [],
   "source": [
    "df_allrecipes = pd.read_csv('food_data/west/allrecipe_sample.csv', index_col=0)"
   ]
  },
  {
   "cell_type": "code",
   "execution_count": 1770,
   "id": "8720cfdf",
   "metadata": {},
   "outputs": [
    {
     "name": "stdout",
     "output_type": "stream",
     "text": [
      "CPU times: user 2h 7min 32s, sys: 2min 9s, total: 2h 9min 42s\n",
      "Wall time: 3min 34s\n"
     ]
    }
   ],
   "source": [
    "%%time\n",
    "results_allrecipes = lookup_all_nutrition_vectors_sent_trans(df_allrecipes.clean_title.values, columns=columns)"
   ]
  },
  {
   "cell_type": "code",
   "execution_count": 1771,
   "id": "5deea753",
   "metadata": {},
   "outputs": [],
   "source": [
    "df_allrecipes_mean = transform_nut_dict_to_df(results_allrecipes, columns=columns, prefix='')\n",
    "results_allrecipes_median = compute_metric_vals_for_dict(results_allrecipes, columns=columns, metric='median')\n",
    "df_allrecipes_median = transform_nut_dict_to_df(results_allrecipes_median, columns=columns, prefix='')"
   ]
  },
  {
   "cell_type": "code",
   "execution_count": 1772,
   "id": "27217b0c",
   "metadata": {},
   "outputs": [],
   "source": [
    "df_allrecipes_grouped = df_allrecipes.groupby('clean_title').mean().reset_index()"
   ]
  },
  {
   "cell_type": "code",
   "execution_count": 1775,
   "id": "dbcf72ab",
   "metadata": {},
   "outputs": [
    {
     "data": {
      "text/html": [
       "<div>\n",
       "<style scoped>\n",
       "    .dataframe tbody tr th:only-of-type {\n",
       "        vertical-align: middle;\n",
       "    }\n",
       "\n",
       "    .dataframe tbody tr th {\n",
       "        vertical-align: top;\n",
       "    }\n",
       "\n",
       "    .dataframe thead th {\n",
       "        text-align: right;\n",
       "    }\n",
       "</style>\n",
       "<table border=\"1\" class=\"dataframe\">\n",
       "  <thead>\n",
       "    <tr style=\"text-align: right;\">\n",
       "      <th></th>\n",
       "      <th>clean_title</th>\n",
       "      <th>kcal</th>\n",
       "      <th>carb</th>\n",
       "      <th>fat</th>\n",
       "      <th>prot</th>\n",
       "      <th>sodium</th>\n",
       "      <th>chol</th>\n",
       "      <th>Energy</th>\n",
       "      <th>Water</th>\n",
       "      <th>Carbohydrate, by difference</th>\n",
       "      <th>Protein</th>\n",
       "      <th>Total lipid (fat)</th>\n",
       "      <th>Fiber, total dietary</th>\n",
       "      <th>Sugars, total including NLEA</th>\n",
       "      <th>Cholesterol</th>\n",
       "      <th>Alcohol, ethyl</th>\n",
       "      <th>Caffeine</th>\n",
       "      <th>Vitamin C, total ascorbic acid</th>\n",
       "      <th>Vitamin D (D2 + D3)</th>\n",
       "    </tr>\n",
       "  </thead>\n",
       "  <tbody>\n",
       "    <tr>\n",
       "      <th>0</th>\n",
       "      <td>#1 pumpkin spice cookies</td>\n",
       "      <td>74.0</td>\n",
       "      <td>50.4</td>\n",
       "      <td>19.8</td>\n",
       "      <td>5.6</td>\n",
       "      <td>71.0</td>\n",
       "      <td>9.0</td>\n",
       "      <td>435.2</td>\n",
       "      <td>7.078</td>\n",
       "      <td>68.3</td>\n",
       "      <td>8.058</td>\n",
       "      <td>14.84</td>\n",
       "      <td>2.72</td>\n",
       "      <td>23.72</td>\n",
       "      <td>2.4</td>\n",
       "      <td>0.0</td>\n",
       "      <td>0.4</td>\n",
       "      <td>1.5</td>\n",
       "      <td>0.0</td>\n",
       "    </tr>\n",
       "    <tr>\n",
       "      <th>1</th>\n",
       "      <td>'chinese buffet' green beans</td>\n",
       "      <td>55.0</td>\n",
       "      <td>32.4</td>\n",
       "      <td>20.7</td>\n",
       "      <td>6.4</td>\n",
       "      <td>141.0</td>\n",
       "      <td>0.0</td>\n",
       "      <td>97.8</td>\n",
       "      <td>80.6</td>\n",
       "      <td>9.978</td>\n",
       "      <td>2.308</td>\n",
       "      <td>5.866</td>\n",
       "      <td>2.28</td>\n",
       "      <td>2.548</td>\n",
       "      <td>3.4</td>\n",
       "      <td>0.0</td>\n",
       "      <td>0.0</td>\n",
       "      <td>7.38</td>\n",
       "      <td>0.06</td>\n",
       "    </tr>\n",
       "    <tr>\n",
       "      <th>2</th>\n",
       "      <td>'day before payday' kielbasa and corn hash</td>\n",
       "      <td>644.0</td>\n",
       "      <td>246.0</td>\n",
       "      <td>320.4</td>\n",
       "      <td>95.2</td>\n",
       "      <td>1042.0</td>\n",
       "      <td>251.0</td>\n",
       "      <td>191.6</td>\n",
       "      <td>64.08</td>\n",
       "      <td>11.776</td>\n",
       "      <td>11.946</td>\n",
       "      <td>10.684</td>\n",
       "      <td>1.7</td>\n",
       "      <td>1.966</td>\n",
       "      <td>39.8</td>\n",
       "      <td>0.0</td>\n",
       "      <td>0.0</td>\n",
       "      <td>1.74</td>\n",
       "      <td>0.08</td>\n",
       "    </tr>\n",
       "    <tr>\n",
       "      <th>3</th>\n",
       "      <td>'something different' fruit salad</td>\n",
       "      <td>61.0</td>\n",
       "      <td>63.2</td>\n",
       "      <td>1.8</td>\n",
       "      <td>2.8</td>\n",
       "      <td>389.0</td>\n",
       "      <td>0.0</td>\n",
       "      <td>163.4</td>\n",
       "      <td>71.06</td>\n",
       "      <td>14.82</td>\n",
       "      <td>1.926</td>\n",
       "      <td>11.564</td>\n",
       "      <td>2.06</td>\n",
       "      <td>10.7</td>\n",
       "      <td>5.2</td>\n",
       "      <td>0.0</td>\n",
       "      <td>0.0</td>\n",
       "      <td>14.54</td>\n",
       "      <td>0.04</td>\n",
       "    </tr>\n",
       "    <tr>\n",
       "      <th>4</th>\n",
       "      <td>15-year-old pesto sauce</td>\n",
       "      <td>223.0</td>\n",
       "      <td>6.0</td>\n",
       "      <td>206.1</td>\n",
       "      <td>16.8</td>\n",
       "      <td>297.0</td>\n",
       "      <td>6.0</td>\n",
       "      <td>458.4</td>\n",
       "      <td>37.84</td>\n",
       "      <td>6.792</td>\n",
       "      <td>6.858</td>\n",
       "      <td>45.1</td>\n",
       "      <td>1.58</td>\n",
       "      <td>2.56</td>\n",
       "      <td>16.0</td>\n",
       "      <td>0.0</td>\n",
       "      <td>0.0</td>\n",
       "      <td>0.78</td>\n",
       "      <td>0.1</td>\n",
       "    </tr>\n",
       "    <tr>\n",
       "      <th>...</th>\n",
       "      <td>...</td>\n",
       "      <td>...</td>\n",
       "      <td>...</td>\n",
       "      <td>...</td>\n",
       "      <td>...</td>\n",
       "      <td>...</td>\n",
       "      <td>...</td>\n",
       "      <td>...</td>\n",
       "      <td>...</td>\n",
       "      <td>...</td>\n",
       "      <td>...</td>\n",
       "      <td>...</td>\n",
       "      <td>...</td>\n",
       "      <td>...</td>\n",
       "      <td>...</td>\n",
       "      <td>...</td>\n",
       "      <td>...</td>\n",
       "      <td>...</td>\n",
       "      <td>...</td>\n",
       "    </tr>\n",
       "    <tr>\n",
       "      <th>9781</th>\n",
       "      <td>zucchini-coconut cookie bars</td>\n",
       "      <td>109.0</td>\n",
       "      <td>60.4</td>\n",
       "      <td>46.8</td>\n",
       "      <td>5.6</td>\n",
       "      <td>83.0</td>\n",
       "      <td>9.0</td>\n",
       "      <td>477.0</td>\n",
       "      <td>8.914</td>\n",
       "      <td>61.08</td>\n",
       "      <td>3.89</td>\n",
       "      <td>24.8</td>\n",
       "      <td>4.34</td>\n",
       "      <td>38.68</td>\n",
       "      <td>0.0</td>\n",
       "      <td>0.0</td>\n",
       "      <td>3.8</td>\n",
       "      <td>0.66</td>\n",
       "      <td>0.0</td>\n",
       "    </tr>\n",
       "    <tr>\n",
       "      <th>9782</th>\n",
       "      <td>zucchini-raspberry bread</td>\n",
       "      <td>205.0</td>\n",
       "      <td>122.8</td>\n",
       "      <td>75.6</td>\n",
       "      <td>12.0</td>\n",
       "      <td>205.0</td>\n",
       "      <td>18.0</td>\n",
       "      <td>306.2</td>\n",
       "      <td>33.56</td>\n",
       "      <td>48.12</td>\n",
       "      <td>6.184</td>\n",
       "      <td>10.22</td>\n",
       "      <td>2.22</td>\n",
       "      <td>21.348</td>\n",
       "      <td>28.6</td>\n",
       "      <td>0.0</td>\n",
       "      <td>0.0</td>\n",
       "      <td>2.3</td>\n",
       "      <td>0.34</td>\n",
       "    </tr>\n",
       "    <tr>\n",
       "      <th>9783</th>\n",
       "      <td>zuppa de farro</td>\n",
       "      <td>218.0</td>\n",
       "      <td>114.8</td>\n",
       "      <td>90.0</td>\n",
       "      <td>29.6</td>\n",
       "      <td>811.0</td>\n",
       "      <td>17.0</td>\n",
       "      <td>133.6</td>\n",
       "      <td>72.48</td>\n",
       "      <td>15.662</td>\n",
       "      <td>3.754</td>\n",
       "      <td>6.498</td>\n",
       "      <td>1.52</td>\n",
       "      <td>7.558</td>\n",
       "      <td>16.0</td>\n",
       "      <td>0.0</td>\n",
       "      <td>0.0</td>\n",
       "      <td>8.54</td>\n",
       "      <td>0.08</td>\n",
       "    </tr>\n",
       "    <tr>\n",
       "      <th>9784</th>\n",
       "      <td>zuppa toscana</td>\n",
       "      <td>459.0</td>\n",
       "      <td>84.4</td>\n",
       "      <td>306.9</td>\n",
       "      <td>68.8</td>\n",
       "      <td>1925.0</td>\n",
       "      <td>87.0</td>\n",
       "      <td>269.0</td>\n",
       "      <td>42.862</td>\n",
       "      <td>38.14</td>\n",
       "      <td>6.796</td>\n",
       "      <td>10.33</td>\n",
       "      <td>1.06</td>\n",
       "      <td>20.36</td>\n",
       "      <td>34.0</td>\n",
       "      <td>0.0</td>\n",
       "      <td>0.0</td>\n",
       "      <td>3.76</td>\n",
       "      <td>0.16</td>\n",
       "    </tr>\n",
       "    <tr>\n",
       "      <th>9785</th>\n",
       "      <td>zwetschekuchen (german plum tart)</td>\n",
       "      <td>451.0</td>\n",
       "      <td>273.2</td>\n",
       "      <td>158.4</td>\n",
       "      <td>27.2</td>\n",
       "      <td>123.0</td>\n",
       "      <td>110.0</td>\n",
       "      <td>165.6</td>\n",
       "      <td>62.4</td>\n",
       "      <td>28.614</td>\n",
       "      <td>2.23</td>\n",
       "      <td>5.526</td>\n",
       "      <td>2.1</td>\n",
       "      <td>15.785</td>\n",
       "      <td>10.8</td>\n",
       "      <td>0.0</td>\n",
       "      <td>1.5</td>\n",
       "      <td>4.02</td>\n",
       "      <td>0.1</td>\n",
       "    </tr>\n",
       "  </tbody>\n",
       "</table>\n",
       "<p>9786 rows × 19 columns</p>\n",
       "</div>"
      ],
      "text/plain": [
       "                                     clean_title   kcal   carb    fat  prot  \\\n",
       "0                       #1 pumpkin spice cookies   74.0   50.4   19.8   5.6   \n",
       "1                   'chinese buffet' green beans   55.0   32.4   20.7   6.4   \n",
       "2     'day before payday' kielbasa and corn hash  644.0  246.0  320.4  95.2   \n",
       "3              'something different' fruit salad   61.0   63.2    1.8   2.8   \n",
       "4                        15-year-old pesto sauce  223.0    6.0  206.1  16.8   \n",
       "...                                          ...    ...    ...    ...   ...   \n",
       "9781                zucchini-coconut cookie bars  109.0   60.4   46.8   5.6   \n",
       "9782                    zucchini-raspberry bread  205.0  122.8   75.6  12.0   \n",
       "9783                              zuppa de farro  218.0  114.8   90.0  29.6   \n",
       "9784                               zuppa toscana  459.0   84.4  306.9  68.8   \n",
       "9785           zwetschekuchen (german plum tart)  451.0  273.2  158.4  27.2   \n",
       "\n",
       "      sodium   chol Energy   Water Carbohydrate, by difference Protein  \\\n",
       "0       71.0    9.0  435.2   7.078                        68.3   8.058   \n",
       "1      141.0    0.0   97.8    80.6                       9.978   2.308   \n",
       "2     1042.0  251.0  191.6   64.08                      11.776  11.946   \n",
       "3      389.0    0.0  163.4   71.06                       14.82   1.926   \n",
       "4      297.0    6.0  458.4   37.84                       6.792   6.858   \n",
       "...      ...    ...    ...     ...                         ...     ...   \n",
       "9781    83.0    9.0  477.0   8.914                       61.08    3.89   \n",
       "9782   205.0   18.0  306.2   33.56                       48.12   6.184   \n",
       "9783   811.0   17.0  133.6   72.48                      15.662   3.754   \n",
       "9784  1925.0   87.0  269.0  42.862                       38.14   6.796   \n",
       "9785   123.0  110.0  165.6    62.4                      28.614    2.23   \n",
       "\n",
       "     Total lipid (fat) Fiber, total dietary Sugars, total including NLEA  \\\n",
       "0                14.84                 2.72                        23.72   \n",
       "1                5.866                 2.28                        2.548   \n",
       "2               10.684                  1.7                        1.966   \n",
       "3               11.564                 2.06                         10.7   \n",
       "4                 45.1                 1.58                         2.56   \n",
       "...                ...                  ...                          ...   \n",
       "9781              24.8                 4.34                        38.68   \n",
       "9782             10.22                 2.22                       21.348   \n",
       "9783             6.498                 1.52                        7.558   \n",
       "9784             10.33                 1.06                        20.36   \n",
       "9785             5.526                  2.1                       15.785   \n",
       "\n",
       "     Cholesterol Alcohol, ethyl Caffeine Vitamin C, total ascorbic acid  \\\n",
       "0            2.4            0.0      0.4                            1.5   \n",
       "1            3.4            0.0      0.0                           7.38   \n",
       "2           39.8            0.0      0.0                           1.74   \n",
       "3            5.2            0.0      0.0                          14.54   \n",
       "4           16.0            0.0      0.0                           0.78   \n",
       "...          ...            ...      ...                            ...   \n",
       "9781         0.0            0.0      3.8                           0.66   \n",
       "9782        28.6            0.0      0.0                            2.3   \n",
       "9783        16.0            0.0      0.0                           8.54   \n",
       "9784        34.0            0.0      0.0                           3.76   \n",
       "9785        10.8            0.0      1.5                           4.02   \n",
       "\n",
       "     Vitamin D (D2 + D3)  \n",
       "0                    0.0  \n",
       "1                   0.06  \n",
       "2                   0.08  \n",
       "3                   0.04  \n",
       "4                    0.1  \n",
       "...                  ...  \n",
       "9781                 0.0  \n",
       "9782                0.34  \n",
       "9783                0.08  \n",
       "9784                0.16  \n",
       "9785                 0.1  \n",
       "\n",
       "[9786 rows x 19 columns]"
      ]
     },
     "execution_count": 1775,
     "metadata": {},
     "output_type": "execute_result"
    }
   ],
   "source": [
    "df_mrgd_allrec = df_allrecipes_grouped.merge(df_allrecipes_mean, on='clean_title')\n",
    "df_mrgd_allrec"
   ]
  },
  {
   "cell_type": "code",
   "execution_count": 1066,
   "id": "59ac8158",
   "metadata": {},
   "outputs": [],
   "source": [
    "df_mrgd_allrec.Energy = df_mrgd_allrec.Energy.astype(float)"
   ]
  },
  {
   "cell_type": "code",
   "execution_count": null,
   "id": "84ebf4bc",
   "metadata": {},
   "outputs": [],
   "source": [
    "df_mrgd_allrec.kcal"
   ]
  },
  {
   "cell_type": "code",
   "execution_count": 1774,
   "id": "cbc11279",
   "metadata": {},
   "outputs": [
    {
     "data": {
      "text/plain": [
       "<AxesSubplot:xlabel='Energy', ylabel='kcal'>"
      ]
     },
     "execution_count": 1774,
     "metadata": {},
     "output_type": "execute_result"
    },
    {
     "data": {
      "image/png": "[encoded data removed]",
      "text/plain": [
       "<Figure size 432x288 with 1 Axes>"
      ]
     },
     "metadata": {
      "needs_background": "light"
     },
     "output_type": "display_data"
    }
   ],
   "source": [
    "df_mrgd_allrec[['Energy', 'kcal']].plot.scatter(x='Energy', y='kcal')"
   ]
  },
  {
   "cell_type": "code",
   "execution_count": 1719,
   "id": "d0dd114d",
   "metadata": {},
   "outputs": [
    {
     "data": {
      "text/plain": [
       "<AxesSubplot:xlabel='Energy', ylabel='kcal'>"
      ]
     },
     "execution_count": 1719,
     "metadata": {},
     "output_type": "execute_result"
    },
    {
     "data": {
      "image/png": "[encoded data removed]",
      "text/plain": [
       "<Figure size 432x288 with 1 Axes>"
      ]
     },
     "metadata": {
      "needs_background": "light"
     },
     "output_type": "display_data"
    }
   ],
   "source": [
    "df_mrgd_allrec[['Energy', 'kcal']].plot.scatter(x='Energy', y='kcal')"
   ]
  },
  {
   "cell_type": "code",
   "execution_count": 1784,
   "id": "daf86241",
   "metadata": {},
   "outputs": [
    {
     "data": {
      "text/html": [
       "<div>\n",
       "<style scoped>\n",
       "    .dataframe tbody tr th:only-of-type {\n",
       "        vertical-align: middle;\n",
       "    }\n",
       "\n",
       "    .dataframe tbody tr th {\n",
       "        vertical-align: top;\n",
       "    }\n",
       "\n",
       "    .dataframe thead th {\n",
       "        text-align: right;\n",
       "    }\n",
       "</style>\n",
       "<table border=\"1\" class=\"dataframe\">\n",
       "  <thead>\n",
       "    <tr style=\"text-align: right;\">\n",
       "      <th></th>\n",
       "      <th>clean_title</th>\n",
       "      <th>kcal</th>\n",
       "      <th>carb</th>\n",
       "      <th>fat</th>\n",
       "      <th>prot</th>\n",
       "      <th>sodium</th>\n",
       "      <th>chol</th>\n",
       "      <th>Energy</th>\n",
       "      <th>Water</th>\n",
       "      <th>Carbohydrate, by difference</th>\n",
       "      <th>Protein</th>\n",
       "      <th>Total lipid (fat)</th>\n",
       "      <th>Fiber, total dietary</th>\n",
       "      <th>Sugars, total including NLEA</th>\n",
       "      <th>Cholesterol</th>\n",
       "      <th>Alcohol, ethyl</th>\n",
       "      <th>Caffeine</th>\n",
       "      <th>Vitamin C, total ascorbic acid</th>\n",
       "      <th>Vitamin D (D2 + D3)</th>\n",
       "      <th>diff</th>\n",
       "    </tr>\n",
       "  </thead>\n",
       "  <tbody>\n",
       "  </tbody>\n",
       "</table>\n",
       "</div>"
      ],
      "text/plain": [
       "Empty DataFrame\n",
       "Columns: [clean_title, kcal, carb, fat, prot, sodium, chol, Energy, Water, Carbohydrate, by difference, Protein, Total lipid (fat), Fiber, total dietary, Sugars, total including NLEA, Cholesterol, Alcohol, ethyl, Caffeine, Vitamin C, total ascorbic acid, Vitamin D (D2 + D3), diff]\n",
       "Index: []"
      ]
     },
     "execution_count": 1784,
     "metadata": {},
     "output_type": "execute_result"
    }
   ],
   "source": [
    "df_mrgd_allrec[df_mrgd_allrec.kcal == np.inf]"
   ]
  },
  {
   "cell_type": "code",
   "execution_count": 1787,
   "id": "3a8f65e3",
   "metadata": {},
   "outputs": [],
   "source": [
    "df_mrgd_allrec['diff'] = (df_mrgd_allrec['kcal'] - df_mrgd_allrec['Energy']).astype(float)"
   ]
  },
  {
   "cell_type": "code",
   "execution_count": 1788,
   "id": "fa5d652d",
   "metadata": {},
   "outputs": [
    {
     "data": {
      "text/html": [
       "<div>\n",
       "<style scoped>\n",
       "    .dataframe tbody tr th:only-of-type {\n",
       "        vertical-align: middle;\n",
       "    }\n",
       "\n",
       "    .dataframe tbody tr th {\n",
       "        vertical-align: top;\n",
       "    }\n",
       "\n",
       "    .dataframe thead th {\n",
       "        text-align: right;\n",
       "    }\n",
       "</style>\n",
       "<table border=\"1\" class=\"dataframe\">\n",
       "  <thead>\n",
       "    <tr style=\"text-align: right;\">\n",
       "      <th></th>\n",
       "      <th>clean_title</th>\n",
       "      <th>kcal</th>\n",
       "      <th>carb</th>\n",
       "      <th>fat</th>\n",
       "      <th>prot</th>\n",
       "      <th>sodium</th>\n",
       "      <th>chol</th>\n",
       "      <th>Energy</th>\n",
       "      <th>Water</th>\n",
       "      <th>Carbohydrate, by difference</th>\n",
       "      <th>Protein</th>\n",
       "      <th>Total lipid (fat)</th>\n",
       "      <th>Fiber, total dietary</th>\n",
       "      <th>Sugars, total including NLEA</th>\n",
       "      <th>Cholesterol</th>\n",
       "      <th>Alcohol, ethyl</th>\n",
       "      <th>Caffeine</th>\n",
       "      <th>Vitamin C, total ascorbic acid</th>\n",
       "      <th>Vitamin D (D2 + D3)</th>\n",
       "      <th>diff</th>\n",
       "    </tr>\n",
       "  </thead>\n",
       "  <tbody>\n",
       "    <tr>\n",
       "      <th>4253</th>\n",
       "      <td>grapeseed oil crust</td>\n",
       "      <td>159.0</td>\n",
       "      <td>60.0</td>\n",
       "      <td>93.6</td>\n",
       "      <td>6.4</td>\n",
       "      <td>18.0</td>\n",
       "      <td>0.0</td>\n",
       "      <td>887.2</td>\n",
       "      <td>0.0</td>\n",
       "      <td>0.0</td>\n",
       "      <td>0.0</td>\n",
       "      <td>100.0</td>\n",
       "      <td>0.0</td>\n",
       "      <td>0.0</td>\n",
       "      <td>0.0</td>\n",
       "      <td>0.0</td>\n",
       "      <td>0.0</td>\n",
       "      <td>0.0</td>\n",
       "      <td>0.0</td>\n",
       "      <td>-728.2</td>\n",
       "    </tr>\n",
       "    <tr>\n",
       "      <th>4867</th>\n",
       "      <td>infused olive oil</td>\n",
       "      <td>239.0</td>\n",
       "      <td>0.4</td>\n",
       "      <td>243.0</td>\n",
       "      <td>0.0</td>\n",
       "      <td>56.0</td>\n",
       "      <td>0.0</td>\n",
       "      <td>887.2</td>\n",
       "      <td>0.0</td>\n",
       "      <td>0.0</td>\n",
       "      <td>0.0</td>\n",
       "      <td>100.0</td>\n",
       "      <td>0.0</td>\n",
       "      <td>0.0</td>\n",
       "      <td>0.0</td>\n",
       "      <td>0.0</td>\n",
       "      <td>0.0</td>\n",
       "      <td>0.0</td>\n",
       "      <td>0.0</td>\n",
       "      <td>-648.2</td>\n",
       "    </tr>\n",
       "    <tr>\n",
       "      <th>4754</th>\n",
       "      <td>hot and spicy pecans</td>\n",
       "      <td>118.0</td>\n",
       "      <td>10.4</td>\n",
       "      <td>109.8</td>\n",
       "      <td>6.0</td>\n",
       "      <td>62.0</td>\n",
       "      <td>4.0</td>\n",
       "      <td>682.2</td>\n",
       "      <td>3.242</td>\n",
       "      <td>17.1</td>\n",
       "      <td>8.444</td>\n",
       "      <td>69.46</td>\n",
       "      <td>8.84</td>\n",
       "      <td>8.0</td>\n",
       "      <td>0.0</td>\n",
       "      <td>0.0</td>\n",
       "      <td>0.0</td>\n",
       "      <td>1.02</td>\n",
       "      <td>0.0</td>\n",
       "      <td>-564.2</td>\n",
       "    </tr>\n",
       "    <tr>\n",
       "      <th>6587</th>\n",
       "      <td>pecan sandies</td>\n",
       "      <td>90.0</td>\n",
       "      <td>35.2</td>\n",
       "      <td>53.1</td>\n",
       "      <td>3.6</td>\n",
       "      <td>61.0</td>\n",
       "      <td>4.0</td>\n",
       "      <td>641.8</td>\n",
       "      <td>6.406</td>\n",
       "      <td>20.82</td>\n",
       "      <td>8.39</td>\n",
       "      <td>62.8</td>\n",
       "      <td>8.04</td>\n",
       "      <td>9.32</td>\n",
       "      <td>17.8</td>\n",
       "      <td>0.0</td>\n",
       "      <td>0.0</td>\n",
       "      <td>0.92</td>\n",
       "      <td>0.1</td>\n",
       "      <td>-551.8</td>\n",
       "    </tr>\n",
       "    <tr>\n",
       "      <th>4603</th>\n",
       "      <td>herb cheese butter</td>\n",
       "      <td>54.0</td>\n",
       "      <td>0.8</td>\n",
       "      <td>53.1</td>\n",
       "      <td>1.2</td>\n",
       "      <td>99.0</td>\n",
       "      <td>16.0</td>\n",
       "      <td>604.8</td>\n",
       "      <td>18.568</td>\n",
       "      <td>17.312</td>\n",
       "      <td>3.186</td>\n",
       "      <td>59.98</td>\n",
       "      <td>0.68</td>\n",
       "      <td>11.576</td>\n",
       "      <td>21.0</td>\n",
       "      <td>0.0</td>\n",
       "      <td>0.0</td>\n",
       "      <td>0.06</td>\n",
       "      <td>0.1</td>\n",
       "      <td>-550.8</td>\n",
       "    </tr>\n",
       "  </tbody>\n",
       "</table>\n",
       "</div>"
      ],
      "text/plain": [
       "               clean_title   kcal  carb    fat  prot  sodium  chol Energy  \\\n",
       "4253   grapeseed oil crust  159.0  60.0   93.6   6.4    18.0   0.0  887.2   \n",
       "4867     infused olive oil  239.0   0.4  243.0   0.0    56.0   0.0  887.2   \n",
       "4754  hot and spicy pecans  118.0  10.4  109.8   6.0    62.0   4.0  682.2   \n",
       "6587         pecan sandies   90.0  35.2   53.1   3.6    61.0   4.0  641.8   \n",
       "4603    herb cheese butter   54.0   0.8   53.1   1.2    99.0  16.0  604.8   \n",
       "\n",
       "       Water Carbohydrate, by difference Protein Total lipid (fat)  \\\n",
       "4253     0.0                         0.0     0.0             100.0   \n",
       "4867     0.0                         0.0     0.0             100.0   \n",
       "4754   3.242                        17.1   8.444             69.46   \n",
       "6587   6.406                       20.82    8.39              62.8   \n",
       "4603  18.568                      17.312   3.186             59.98   \n",
       "\n",
       "     Fiber, total dietary Sugars, total including NLEA Cholesterol  \\\n",
       "4253                  0.0                          0.0         0.0   \n",
       "4867                  0.0                          0.0         0.0   \n",
       "4754                 8.84                          8.0         0.0   \n",
       "6587                 8.04                         9.32        17.8   \n",
       "4603                 0.68                       11.576        21.0   \n",
       "\n",
       "     Alcohol, ethyl Caffeine Vitamin C, total ascorbic acid  \\\n",
       "4253            0.0      0.0                            0.0   \n",
       "4867            0.0      0.0                            0.0   \n",
       "4754            0.0      0.0                           1.02   \n",
       "6587            0.0      0.0                           0.92   \n",
       "4603            0.0      0.0                           0.06   \n",
       "\n",
       "     Vitamin D (D2 + D3)   diff  \n",
       "4253                 0.0 -728.2  \n",
       "4867                 0.0 -648.2  \n",
       "4754                 0.0 -564.2  \n",
       "6587                 0.1 -551.8  \n",
       "4603                 0.1 -550.8  "
      ]
     },
     "execution_count": 1788,
     "metadata": {},
     "output_type": "execute_result"
    }
   ],
   "source": [
    "df_mrgd_allrec.nsmallest(5, 'diff')"
   ]
  },
  {
   "cell_type": "code",
   "execution_count": 1779,
   "id": "90e313d8",
   "metadata": {},
   "outputs": [
    {
     "data": {
      "text/html": [
       "<div>\n",
       "<style scoped>\n",
       "    .dataframe tbody tr th:only-of-type {\n",
       "        vertical-align: middle;\n",
       "    }\n",
       "\n",
       "    .dataframe tbody tr th {\n",
       "        vertical-align: top;\n",
       "    }\n",
       "\n",
       "    .dataframe thead th {\n",
       "        text-align: right;\n",
       "    }\n",
       "</style>\n",
       "<table border=\"1\" class=\"dataframe\">\n",
       "  <thead>\n",
       "    <tr style=\"text-align: right;\">\n",
       "      <th></th>\n",
       "      <th>name</th>\n",
       "      <th>Energy</th>\n",
       "    </tr>\n",
       "  </thead>\n",
       "  <tbody>\n",
       "    <tr>\n",
       "      <th>4</th>\n",
       "      <td>Nuts, almonds, dry roasted, with salt added</td>\n",
       "      <td>620.0</td>\n",
       "    </tr>\n",
       "    <tr>\n",
       "      <th>2208</th>\n",
       "      <td>Almonds, honey roasted</td>\n",
       "      <td>579.0</td>\n",
       "    </tr>\n",
       "    <tr>\n",
       "      <th>2249</th>\n",
       "      <td>Walnuts, honey roasted</td>\n",
       "      <td>617.0</td>\n",
       "    </tr>\n",
       "    <tr>\n",
       "      <th>1090</th>\n",
       "      <td>Nuts, almonds, oil roasted, lightly salted</td>\n",
       "      <td>607.0</td>\n",
       "    </tr>\n",
       "    <tr>\n",
       "      <th>1907</th>\n",
       "      <td>Nuts, almonds, oil roasted, with salt added</td>\n",
       "      <td>607.0</td>\n",
       "    </tr>\n",
       "  </tbody>\n",
       "</table>\n",
       "</div>"
      ],
      "text/plain": [
       "                                             name  Energy\n",
       "4     Nuts, almonds, dry roasted, with salt added   620.0\n",
       "2208                       Almonds, honey roasted   579.0\n",
       "2249                       Walnuts, honey roasted   617.0\n",
       "1090   Nuts, almonds, oil roasted, lightly salted   607.0\n",
       "1907  Nuts, almonds, oil roasted, with salt added   607.0"
      ]
     },
     "execution_count": 1779,
     "metadata": {},
     "output_type": "execute_result"
    }
   ],
   "source": [
    "results_allrecipes['cinnamon-roasted almonds']['matches'][['name', 'Energy']]"
   ]
  },
  {
   "cell_type": "code",
   "execution_count": 1743,
   "id": "84f7807f",
   "metadata": {},
   "outputs": [
    {
     "data": {
      "text/html": [
       "<div>\n",
       "<style scoped>\n",
       "    .dataframe tbody tr th:only-of-type {\n",
       "        vertical-align: middle;\n",
       "    }\n",
       "\n",
       "    .dataframe tbody tr th {\n",
       "        vertical-align: top;\n",
       "    }\n",
       "\n",
       "    .dataframe thead th {\n",
       "        text-align: right;\n",
       "    }\n",
       "</style>\n",
       "<table border=\"1\" class=\"dataframe\">\n",
       "  <thead>\n",
       "    <tr style=\"text-align: right;\">\n",
       "      <th></th>\n",
       "      <th>name</th>\n",
       "      <th>Energy</th>\n",
       "      <th>data_source</th>\n",
       "    </tr>\n",
       "  </thead>\n",
       "  <tbody>\n",
       "    <tr>\n",
       "      <th>4</th>\n",
       "      <td>Nuts, almonds, dry roasted, with salt added</td>\n",
       "      <td>2590.0</td>\n",
       "      <td>foundation</td>\n",
       "    </tr>\n",
       "  </tbody>\n",
       "</table>\n",
       "</div>"
      ],
      "text/plain": [
       "                                          name  Energy data_source\n",
       "4  Nuts, almonds, dry roasted, with salt added  2590.0  foundation"
      ]
     },
     "execution_count": 1743,
     "metadata": {},
     "output_type": "execute_result"
    }
   ],
   "source": [
    "food_data_cooked[food_data_cooked.name == 'Nuts, almonds, dry roasted, with salt added'][['name', 'Energy', 'data_source']]"
   ]
  },
  {
   "cell_type": "code",
   "execution_count": 1725,
   "id": "614ff9c9",
   "metadata": {},
   "outputs": [
    {
     "data": {
      "text/html": [
       "<div>\n",
       "<style scoped>\n",
       "    .dataframe tbody tr th:only-of-type {\n",
       "        vertical-align: middle;\n",
       "    }\n",
       "\n",
       "    .dataframe tbody tr th {\n",
       "        vertical-align: top;\n",
       "    }\n",
       "\n",
       "    .dataframe thead th {\n",
       "        text-align: right;\n",
       "    }\n",
       "</style>\n",
       "<table border=\"1\" class=\"dataframe\">\n",
       "  <thead>\n",
       "    <tr style=\"text-align: right;\">\n",
       "      <th></th>\n",
       "      <th>clean_title</th>\n",
       "      <th>kcal</th>\n",
       "      <th>carb</th>\n",
       "      <th>fat</th>\n",
       "      <th>prot</th>\n",
       "      <th>sodium</th>\n",
       "      <th>chol</th>\n",
       "      <th>Energy</th>\n",
       "      <th>Water</th>\n",
       "      <th>Carbohydrate, by difference</th>\n",
       "      <th>Protein</th>\n",
       "      <th>Total lipid (fat)</th>\n",
       "      <th>Fiber, total dietary</th>\n",
       "      <th>Sugars, total including NLEA</th>\n",
       "      <th>Cholesterol</th>\n",
       "      <th>Alcohol, ethyl</th>\n",
       "      <th>Caffeine</th>\n",
       "      <th>Vitamin C, total ascorbic acid</th>\n",
       "      <th>Vitamin D (D2 + D3)</th>\n",
       "      <th>diff</th>\n",
       "    </tr>\n",
       "  </thead>\n",
       "  <tbody>\n",
       "    <tr>\n",
       "      <th>2385</th>\n",
       "      <td>cinnamon-roasted almonds</td>\n",
       "      <td>231.0</td>\n",
       "      <td>53.2</td>\n",
       "      <td>162.0</td>\n",
       "      <td>31.2</td>\n",
       "      <td>40.0</td>\n",
       "      <td>0.0</td>\n",
       "      <td>1000.0</td>\n",
       "      <td>2.436</td>\n",
       "      <td>23.66</td>\n",
       "      <td>17.42</td>\n",
       "      <td>53.48</td>\n",
       "      <td>8.76</td>\n",
       "      <td>14.4</td>\n",
       "      <td>0.0</td>\n",
       "      <td>0.0</td>\n",
       "      <td>0.0</td>\n",
       "      <td>0.18</td>\n",
       "      <td>0.0</td>\n",
       "      <td>-769.0</td>\n",
       "    </tr>\n",
       "    <tr>\n",
       "      <th>4253</th>\n",
       "      <td>grapeseed oil crust</td>\n",
       "      <td>159.0</td>\n",
       "      <td>60.0</td>\n",
       "      <td>93.6</td>\n",
       "      <td>6.4</td>\n",
       "      <td>18.0</td>\n",
       "      <td>0.0</td>\n",
       "      <td>887.2</td>\n",
       "      <td>0.0</td>\n",
       "      <td>0.0</td>\n",
       "      <td>0.0</td>\n",
       "      <td>100.0</td>\n",
       "      <td>0.0</td>\n",
       "      <td>0.0</td>\n",
       "      <td>0.0</td>\n",
       "      <td>0.0</td>\n",
       "      <td>0.0</td>\n",
       "      <td>0.0</td>\n",
       "      <td>0.0</td>\n",
       "      <td>-728.2</td>\n",
       "    </tr>\n",
       "    <tr>\n",
       "      <th>6143</th>\n",
       "      <td>oatmeal chocolate chip cookies iv</td>\n",
       "      <td>36.0</td>\n",
       "      <td>22.8</td>\n",
       "      <td>12.6</td>\n",
       "      <td>1.6</td>\n",
       "      <td>26.0</td>\n",
       "      <td>0.0</td>\n",
       "      <td>728.0</td>\n",
       "      <td>6.122</td>\n",
       "      <td>68.06</td>\n",
       "      <td>5.734</td>\n",
       "      <td>18.76</td>\n",
       "      <td>2.98</td>\n",
       "      <td>30.6</td>\n",
       "      <td>0.0</td>\n",
       "      <td>0.0</td>\n",
       "      <td>8.666667</td>\n",
       "      <td>0.3</td>\n",
       "      <td>0.0</td>\n",
       "      <td>-692.0</td>\n",
       "    </tr>\n",
       "    <tr>\n",
       "      <th>5203</th>\n",
       "      <td>lacy oatmeal cookies</td>\n",
       "      <td>44.0</td>\n",
       "      <td>23.6</td>\n",
       "      <td>18.9</td>\n",
       "      <td>1.6</td>\n",
       "      <td>55.0</td>\n",
       "      <td>9.0</td>\n",
       "      <td>708.4</td>\n",
       "      <td>8.23</td>\n",
       "      <td>67.9</td>\n",
       "      <td>6.014</td>\n",
       "      <td>16.08</td>\n",
       "      <td>2.925</td>\n",
       "      <td>29.6</td>\n",
       "      <td>3.75</td>\n",
       "      <td>0.0</td>\n",
       "      <td>0.0</td>\n",
       "      <td>0.2</td>\n",
       "      <td>0.0</td>\n",
       "      <td>-664.4</td>\n",
       "    </tr>\n",
       "    <tr>\n",
       "      <th>2261</th>\n",
       "      <td>chocolate oatmeal cookies</td>\n",
       "      <td>79.0</td>\n",
       "      <td>44.4</td>\n",
       "      <td>32.4</td>\n",
       "      <td>4.4</td>\n",
       "      <td>92.0</td>\n",
       "      <td>6.0</td>\n",
       "      <td>728.0</td>\n",
       "      <td>6.122</td>\n",
       "      <td>68.06</td>\n",
       "      <td>5.734</td>\n",
       "      <td>18.76</td>\n",
       "      <td>2.98</td>\n",
       "      <td>30.6</td>\n",
       "      <td>0.0</td>\n",
       "      <td>0.0</td>\n",
       "      <td>8.666667</td>\n",
       "      <td>0.3</td>\n",
       "      <td>0.0</td>\n",
       "      <td>-649.0</td>\n",
       "    </tr>\n",
       "  </tbody>\n",
       "</table>\n",
       "</div>"
      ],
      "text/plain": [
       "                            clean_title   kcal  carb    fat  prot  sodium  \\\n",
       "2385           cinnamon-roasted almonds  231.0  53.2  162.0  31.2    40.0   \n",
       "4253                grapeseed oil crust  159.0  60.0   93.6   6.4    18.0   \n",
       "6143  oatmeal chocolate chip cookies iv   36.0  22.8   12.6   1.6    26.0   \n",
       "5203               lacy oatmeal cookies   44.0  23.6   18.9   1.6    55.0   \n",
       "2261          chocolate oatmeal cookies   79.0  44.4   32.4   4.4    92.0   \n",
       "\n",
       "      chol  Energy  Water Carbohydrate, by difference Protein  \\\n",
       "2385   0.0  1000.0  2.436                       23.66   17.42   \n",
       "4253   0.0   887.2    0.0                         0.0     0.0   \n",
       "6143   0.0   728.0  6.122                       68.06   5.734   \n",
       "5203   9.0   708.4   8.23                        67.9   6.014   \n",
       "2261   6.0   728.0  6.122                       68.06   5.734   \n",
       "\n",
       "     Total lipid (fat) Fiber, total dietary Sugars, total including NLEA  \\\n",
       "2385             53.48                 8.76                         14.4   \n",
       "4253             100.0                  0.0                          0.0   \n",
       "6143             18.76                 2.98                         30.6   \n",
       "5203             16.08                2.925                         29.6   \n",
       "2261             18.76                 2.98                         30.6   \n",
       "\n",
       "     Cholesterol Alcohol, ethyl  Caffeine Vitamin C, total ascorbic acid  \\\n",
       "2385         0.0            0.0       0.0                           0.18   \n",
       "4253         0.0            0.0       0.0                            0.0   \n",
       "6143         0.0            0.0  8.666667                            0.3   \n",
       "5203        3.75            0.0       0.0                            0.2   \n",
       "2261         0.0            0.0  8.666667                            0.3   \n",
       "\n",
       "     Vitamin D (D2 + D3)   diff  \n",
       "2385                 0.0 -769.0  \n",
       "4253                 0.0 -728.2  \n",
       "6143                 0.0 -692.0  \n",
       "5203                 0.0 -664.4  \n",
       "2261                 0.0 -649.0  "
      ]
     },
     "execution_count": 1725,
     "metadata": {},
     "output_type": "execute_result"
    }
   ],
   "source": [
    "df_mrgd_allrec.nsmallest(5, 'diff')"
   ]
  },
  {
   "cell_type": "code",
   "execution_count": 1723,
   "id": "9cfc2c10",
   "metadata": {},
   "outputs": [
    {
     "data": {
      "text/plain": [
       "<AxesSubplot:>"
      ]
     },
     "execution_count": 1723,
     "metadata": {},
     "output_type": "execute_result"
    },
    {
     "data": {
      "image/png": "[encoded data removed]",
      "text/plain": [
       "<Figure size 432x288 with 1 Axes>"
      ]
     },
     "metadata": {
      "needs_background": "light"
     },
     "output_type": "display_data"
    }
   ],
   "source": [
    "np.log1p(df_mrgd_allrec['kcal']).hist(bins=100)\n"
   ]
  },
  {
   "cell_type": "code",
   "execution_count": 1083,
   "id": "bfe57bc4",
   "metadata": {},
   "outputs": [
    {
     "data": {
      "text/plain": [
       "array(['http://allrecipes.com/Recipe/a-southern-fried-chicken/detail.aspx'],\n",
       "      dtype=object)"
      ]
     },
     "execution_count": 1083,
     "metadata": {},
     "output_type": "execute_result"
    }
   ],
   "source": [
    "df_allrecipes[df_allrecipes.clean_title == 'a southern fried chicken'].url.values"
   ]
  },
  {
   "cell_type": "code",
   "execution_count": 2186,
   "id": "18c35fcc",
   "metadata": {},
   "outputs": [],
   "source": [
    "toy_example = lookup_all_nutrition_vectors_sent_trans(['chicken with broccoli'], embedded_db_loc=embedded_db_rev_dict, columns=columns, title_col='title_simple_reversed')"
   ]
  },
  {
   "cell_type": "code",
   "execution_count": 2198,
   "id": "6debf2ad",
   "metadata": {},
   "outputs": [
    {
     "data": {
      "text/html": [
       "<div>\n",
       "<style scoped>\n",
       "    .dataframe tbody tr th:only-of-type {\n",
       "        vertical-align: middle;\n",
       "    }\n",
       "\n",
       "    .dataframe tbody tr th {\n",
       "        vertical-align: top;\n",
       "    }\n",
       "\n",
       "    .dataframe thead th {\n",
       "        text-align: right;\n",
       "    }\n",
       "</style>\n",
       "<table border=\"1\" class=\"dataframe\">\n",
       "  <thead>\n",
       "    <tr style=\"text-align: right;\">\n",
       "      <th></th>\n",
       "      <th>title_simple_reversed</th>\n",
       "      <th>Energy</th>\n",
       "      <th>Protein</th>\n",
       "    </tr>\n",
       "  </thead>\n",
       "  <tbody>\n",
       "    <tr>\n",
       "      <th>1092</th>\n",
       "      <td>chicken with gravy</td>\n",
       "      <td>129.0</td>\n",
       "      <td>18.90</td>\n",
       "    </tr>\n",
       "    <tr>\n",
       "      <th>1103</th>\n",
       "      <td>chicken with mole sauce</td>\n",
       "      <td>137.0</td>\n",
       "      <td>19.00</td>\n",
       "    </tr>\n",
       "    <tr>\n",
       "      <th>1207</th>\n",
       "      <td>biryani with chicken</td>\n",
       "      <td>104.0</td>\n",
       "      <td>7.15</td>\n",
       "    </tr>\n",
       "    <tr>\n",
       "      <th>1414</th>\n",
       "      <td>beef and broccoli</td>\n",
       "      <td>160.0</td>\n",
       "      <td>10.40</td>\n",
       "    </tr>\n",
       "    <tr>\n",
       "      <th>4776</th>\n",
       "      <td>junior broccoli and chicken dinner babyfood</td>\n",
       "      <td>62.0</td>\n",
       "      <td>3.59</td>\n",
       "    </tr>\n",
       "  </tbody>\n",
       "</table>\n",
       "</div>"
      ],
      "text/plain": [
       "                            title_simple_reversed  Energy  Protein\n",
       "1092                           chicken with gravy   129.0    18.90\n",
       "1103                      chicken with mole sauce   137.0    19.00\n",
       "1207                         biryani with chicken   104.0     7.15\n",
       "1414                            beef and broccoli   160.0    10.40\n",
       "4776  junior broccoli and chicken dinner babyfood    62.0     3.59"
      ]
     },
     "execution_count": 2198,
     "metadata": {},
     "output_type": "execute_result"
    }
   ],
   "source": [
    "toy_example['chicken with broccoli']['matches'][['title_simple_reversed', 'Energy', 'Protein']]"
   ]
  },
  {
   "cell_type": "markdown",
   "id": "602a74c7",
   "metadata": {},
   "source": [
    "# foodcom"
   ]
  },
  {
   "cell_type": "code",
   "execution_count": 2033,
   "id": "8dcb0a88",
   "metadata": {},
   "outputs": [],
   "source": [
    "all_titles = set(df_filtered.clean_title)\n",
    "data_exists = set(title for title in df_foodcom.clean_title if title in all_titles)"
   ]
  },
  {
   "cell_type": "code",
   "execution_count": null,
   "id": "64da5136",
   "metadata": {},
   "outputs": [],
   "source": []
  },
  {
   "cell_type": "markdown",
   "id": "0b53ad5c",
   "metadata": {},
   "source": [
    "### highest possible nutrition: 900g/kcal - thta would encompass just FAT"
   ]
  },
  {
   "cell_type": "code",
   "execution_count": 1915,
   "id": "fcdc358c",
   "metadata": {},
   "outputs": [],
   "source": [
    "from sklearn.metrics import mean_squared_error, median_absolute_error\n",
    "\n",
    "df_foodcom = pd.read_csv('food_data/west/foodcom_sample.csv', index_col=0)\n",
    "foodcom_cj = pd.read_csv('food_data/west/foodcom_food_nutrition.csv')"
   ]
  },
  {
   "cell_type": "code",
   "execution_count": 2274,
   "id": "8e0f9dbe",
   "metadata": {},
   "outputs": [],
   "source": [
    "df_foodcom_grouped = df_foodcom.groupby('clean_title').mean().reset_index()"
   ]
  },
  {
   "cell_type": "code",
   "execution_count": null,
   "id": "8e75617e",
   "metadata": {},
   "outputs": [],
   "source": [
    "results_foodcom_rev = lookup_all_nutrition_vectors_sent_trans(df_foodcom.clean_title.values, embedded_db_loc=embedded_db_rev_dict, columns=columns, title_col='title_simple_reversed')\n",
    "df_foodcom_rev = transform_nut_dict_to_df(results_foodcom_rev, columns=columns, prefix='')\n",
    "\n",
    "df_mrgd_foodcom_rev = df_foodcom_grouped.merge(df_foodcom_rev, on='clean_title', how='left').merge(foodcom_cj[['clean_title', 'calories', 'carbohydrates_total_g', 'protein_g']].drop_duplicates(), on = 'clean_title', how='left').copy()\n",
    "df_mrgd_foodcom_rev = df_mrgd_foodcom_rev[(df_mrgd_foodcom_rev.kcal_100g < 900) & (df_mrgd_foodcom_rev.kcal_100g > 30)] # max calories = 900\n",
    "\n",
    "df_mrgd_foodcom_rev= df_mrgd_foodcom_rev[~pd.isna(df_mrgd_foodcom_rev['kcal_100g']) & ~pd.isna(df_mrgd_foodcom_rev.calories)]\n",
    "df_mrgd_foodcom_rev.Energy = df_mrgd_foodcom_rev.Energy.astype(float)"
   ]
  },
  {
   "cell_type": "code",
   "execution_count": null,
   "id": "3f5cf337",
   "metadata": {},
   "outputs": [],
   "source": [
    "results_foodcom_1 = lookup_all_nutrition_vectors_sent_trans(df_foodcom.clean_title.values, embedded_db_loc=embedded_db_rev_dict, columns=columns, title_col='title_simple_reversed', n=1)\n",
    "df_foodcom_mean_1 = transform_nut_dict_to_df(results_foodcom_1, columns=columns, prefix='')\n",
    "\n",
    "results_foodcom_3 = lookup_all_nutrition_vectors_sent_trans(df_foodcom.clean_title.values, embedded_db_loc=embedded_db_rev_dict, columns=columns, title_col='title_simple_reversed', n=3)\n",
    "df_foodcom_mean_3 = transform_nut_dict_to_df(results_foodcom_3, columns=columns, prefix='')\n",
    "\n",
    "results_foodcom_7 = lookup_all_nutrition_vectors_sent_trans(df_foodcom.clean_title.values, embedded_db_loc=embedded_db_rev_dict, columns=columns, title_col='title_simple_reversed', n=7)\n",
    "df_foodcom_mean_7 = transform_nut_dict_to_df(results_foodcom_7, columns=columns, prefix='')"
   ]
  },
  {
   "cell_type": "code",
   "execution_count": null,
   "id": "d3cf40e9",
   "metadata": {},
   "outputs": [],
   "source": [
    "df_mrgd_foodcom_1 = df_foodcom_grouped.merge(df_foodcom_mean_1, on='clean_title').merge(foodcom_cj[['clean_title', 'calories', 'carbohydrates_total_g', 'protein_g']], on = 'clean_title')\n",
    "df_mrgd_foodcom_1= df_mrgd_foodcom_1[(df_mrgd_foodcom_1.kcal_100g < 900) & (df_mrgd_foodcom_1.kcal_100g > 30) &\n",
    "                                     ~pd.isna(df_mrgd_foodcom_1['kcal_100g']) & ~pd.isna(df_mrgd_foodcom_1.calories)]\n",
    "df_mrgd_foodcom_1.Energy = df_mrgd_foodcom_1.Energy.astype(float)\n",
    "df_mrgd_foodcom_1[['kcal_100g', 'Energy']].corr('pearson')\n",
    "\n",
    "df_mrgd_foodcom_3 = df_foodcom_grouped.merge(df_foodcom_mean_3, on='clean_title').merge(foodcom_cj[['clean_title', 'calories', 'carbohydrates_total_g', 'protein_g']], on = 'clean_title')\n",
    "df_mrgd_foodcom_3= df_mrgd_foodcom_3[(df_mrgd_foodcom_3.kcal_100g < 900) & (df_mrgd_foodcom_3.kcal_100g > 30) &\n",
    "                                     ~pd.isna(df_mrgd_foodcom_3['kcal_100g']) & ~pd.isna(df_mrgd_foodcom_3.calories)]\n",
    "df_mrgd_foodcom_3.Energy = df_mrgd_foodcom_3.Energy.astype(float)\n",
    "df_mrgd_foodcom_3[['kcal_100g', 'Energy']].corr('pearson')\n"
   ]
  },
  {
   "cell_type": "code",
   "execution_count": 2228,
   "id": "7aeffe2e",
   "metadata": {},
   "outputs": [
    {
     "data": {
      "text/html": [
       "<div>\n",
       "<style scoped>\n",
       "    .dataframe tbody tr th:only-of-type {\n",
       "        vertical-align: middle;\n",
       "    }\n",
       "\n",
       "    .dataframe tbody tr th {\n",
       "        vertical-align: top;\n",
       "    }\n",
       "\n",
       "    .dataframe thead th {\n",
       "        text-align: right;\n",
       "    }\n",
       "</style>\n",
       "<table border=\"1\" class=\"dataframe\">\n",
       "  <thead>\n",
       "    <tr style=\"text-align: right;\">\n",
       "      <th></th>\n",
       "      <th>kcal_100g</th>\n",
       "      <th>Energy</th>\n",
       "    </tr>\n",
       "  </thead>\n",
       "  <tbody>\n",
       "    <tr>\n",
       "      <th>kcal_100g</th>\n",
       "      <td>1.0000</td>\n",
       "      <td>0.4995</td>\n",
       "    </tr>\n",
       "    <tr>\n",
       "      <th>Energy</th>\n",
       "      <td>0.4995</td>\n",
       "      <td>1.0000</td>\n",
       "    </tr>\n",
       "  </tbody>\n",
       "</table>\n",
       "</div>"
      ],
      "text/plain": [
       "           kcal_100g  Energy\n",
       "kcal_100g     1.0000  0.4995\n",
       "Energy        0.4995  1.0000"
      ]
     },
     "execution_count": 2228,
     "metadata": {},
     "output_type": "execute_result"
    }
   ],
   "source": [
    "df_mrgd_foodcom_7 = df_foodcom_grouped.merge(df_foodcom_mean_7, on='clean_title').merge(foodcom_cj[['clean_title', 'calories', 'carbohydrates_total_g', 'protein_g']], on = 'clean_title')\n",
    "df_mrgd_foodcom_7= df_mrgd_foodcom_7[(df_mrgd_foodcom_7.kcal_100g < 900) & (df_mrgd_foodcom_7.kcal_100g > 30) &\n",
    "                                     ~pd.isna(df_mrgd_foodcom_7['kcal_100g']) & ~pd.isna(df_mrgd_foodcom_7.calories)]\n",
    "df_mrgd_foodcom_7.Energy = df_mrgd_foodcom_7.Energy.astype(float)\n",
    "df_mrgd_foodcom_7[['kcal_100g', 'Energy']].corr('pearson')"
   ]
  },
  {
   "cell_type": "code",
   "execution_count": null,
   "id": "a2352f5d",
   "metadata": {},
   "outputs": [],
   "source": [
    "results_foodcom_9 = lookup_all_nutrition_vectors_sent_trans(df_foodcom.clean_title.values, embedded_db_loc=embedded_db_rev_dict, columns=columns, title_col='title_simple_reversed', n=9)\n",
    "df_foodcom_mean_9 = transform_nut_dict_to_df(results_foodcom_9, columns=columns, prefix='')"
   ]
  },
  {
   "cell_type": "code",
   "execution_count": 2254,
   "id": "a9be6bf5",
   "metadata": {},
   "outputs": [
    {
     "data": {
      "text/html": [
       "<div>\n",
       "<style scoped>\n",
       "    .dataframe tbody tr th:only-of-type {\n",
       "        vertical-align: middle;\n",
       "    }\n",
       "\n",
       "    .dataframe tbody tr th {\n",
       "        vertical-align: top;\n",
       "    }\n",
       "\n",
       "    .dataframe thead th {\n",
       "        text-align: right;\n",
       "    }\n",
       "</style>\n",
       "<table border=\"1\" class=\"dataframe\">\n",
       "  <thead>\n",
       "    <tr style=\"text-align: right;\">\n",
       "      <th></th>\n",
       "      <th>kcal_100g</th>\n",
       "      <th>Energy</th>\n",
       "    </tr>\n",
       "  </thead>\n",
       "  <tbody>\n",
       "    <tr>\n",
       "      <th>kcal_100g</th>\n",
       "      <td>1.000000</td>\n",
       "      <td>0.501678</td>\n",
       "    </tr>\n",
       "    <tr>\n",
       "      <th>Energy</th>\n",
       "      <td>0.501678</td>\n",
       "      <td>1.000000</td>\n",
       "    </tr>\n",
       "  </tbody>\n",
       "</table>\n",
       "</div>"
      ],
      "text/plain": [
       "           kcal_100g    Energy\n",
       "kcal_100g   1.000000  0.501678\n",
       "Energy      0.501678  1.000000"
      ]
     },
     "execution_count": 2254,
     "metadata": {},
     "output_type": "execute_result"
    }
   ],
   "source": [
    "df_mrgd_foodcom_9 = df_foodcom_grouped.merge(df_foodcom_mean_9, on='clean_title').merge(foodcom_cj[['clean_title', 'calories', 'carbohydrates_total_g', 'protein_g']], on = 'clean_title')\n",
    "df_mrgd_foodcom_9= df_mrgd_foodcom_9[(df_mrgd_foodcom_9.kcal_100g < 900) & (df_mrgd_foodcom_9.kcal_100g > 30) &\n",
    "                                     ~pd.isna(df_mrgd_foodcom_9['kcal_100g']) & ~pd.isna(df_mrgd_foodcom_9.calories)]\n",
    "df_mrgd_foodcom_9.Energy = df_mrgd_foodcom_9.Energy.astype(float)\n",
    "df_mrgd_foodcom_9[['kcal_100g', 'Energy']].corr('pearson')"
   ]
  },
  {
   "cell_type": "code",
   "execution_count": 2266,
   "id": "382ee841",
   "metadata": {},
   "outputs": [],
   "source": [
    "results_foodcom_50 = lookup_all_nutrition_vectors_sent_trans(df_foodcom.clean_title.values, embedded_db_loc=embedded_db_rev_dict, columns=columns, title_col='title_simple_reversed', n=50)\n"
   ]
  },
  {
   "cell_type": "code",
   "execution_count": null,
   "id": "a70e8b7b",
   "metadata": {},
   "outputs": [],
   "source": []
  },
  {
   "cell_type": "code",
   "execution_count": 2256,
   "id": "9cd39973",
   "metadata": {},
   "outputs": [
    {
     "data": {
      "text/html": [
       "<div>\n",
       "<style scoped>\n",
       "    .dataframe tbody tr th:only-of-type {\n",
       "        vertical-align: middle;\n",
       "    }\n",
       "\n",
       "    .dataframe tbody tr th {\n",
       "        vertical-align: top;\n",
       "    }\n",
       "\n",
       "    .dataframe thead th {\n",
       "        text-align: right;\n",
       "    }\n",
       "</style>\n",
       "<table border=\"1\" class=\"dataframe\">\n",
       "  <thead>\n",
       "    <tr style=\"text-align: right;\">\n",
       "      <th></th>\n",
       "      <th>kcal_100g</th>\n",
       "      <th>Energy</th>\n",
       "    </tr>\n",
       "  </thead>\n",
       "  <tbody>\n",
       "    <tr>\n",
       "      <th>kcal_100g</th>\n",
       "      <td>1.000000</td>\n",
       "      <td>0.503112</td>\n",
       "    </tr>\n",
       "    <tr>\n",
       "      <th>Energy</th>\n",
       "      <td>0.503112</td>\n",
       "      <td>1.000000</td>\n",
       "    </tr>\n",
       "  </tbody>\n",
       "</table>\n",
       "</div>"
      ],
      "text/plain": [
       "           kcal_100g    Energy\n",
       "kcal_100g   1.000000  0.503112\n",
       "Energy      0.503112  1.000000"
      ]
     },
     "execution_count": 2256,
     "metadata": {},
     "output_type": "execute_result"
    }
   ],
   "source": [
    "results_foodcom_11 = lookup_all_nutrition_vectors_sent_trans(df_foodcom.clean_title.values, embedded_db_loc=embedded_db_rev_dict, columns=columns, title_col='title_simple_reversed', n=11)\n",
    "df_foodcom_mean_11 = transform_nut_dict_to_df(results_foodcom_11, columns=columns, prefix='')\n",
    "df_mrgd_foodcom_11 = df_foodcom_grouped.merge(df_foodcom_mean_11, on='clean_title').merge(foodcom_cj[['clean_title', 'calories', 'carbohydrates_total_g', 'protein_g']], on = 'clean_title')\n",
    "df_mrgd_foodcom_11= df_mrgd_foodcom_11[(df_mrgd_foodcom_11.kcal_100g < 900) & (df_mrgd_foodcom_11.kcal_100g > 30) &\n",
    "                                     ~pd.isna(df_mrgd_foodcom_11['kcal_100g']) & ~pd.isna(df_mrgd_foodcom_11.calories)]\n",
    "df_mrgd_foodcom_11.Energy = df_mrgd_foodcom_11.Energy.astype(float)\n",
    "df_mrgd_foodcom_11[['kcal_100g', 'Energy']].corr('pearson')"
   ]
  },
  {
   "cell_type": "code",
   "execution_count": 2257,
   "id": "08db6430",
   "metadata": {},
   "outputs": [
    {
     "data": {
      "text/html": [
       "<div>\n",
       "<style scoped>\n",
       "    .dataframe tbody tr th:only-of-type {\n",
       "        vertical-align: middle;\n",
       "    }\n",
       "\n",
       "    .dataframe tbody tr th {\n",
       "        vertical-align: top;\n",
       "    }\n",
       "\n",
       "    .dataframe thead th {\n",
       "        text-align: right;\n",
       "    }\n",
       "</style>\n",
       "<table border=\"1\" class=\"dataframe\">\n",
       "  <thead>\n",
       "    <tr style=\"text-align: right;\">\n",
       "      <th></th>\n",
       "      <th>kcal_100g</th>\n",
       "      <th>Energy</th>\n",
       "    </tr>\n",
       "  </thead>\n",
       "  <tbody>\n",
       "    <tr>\n",
       "      <th>kcal_100g</th>\n",
       "      <td>1.000000</td>\n",
       "      <td>0.505093</td>\n",
       "    </tr>\n",
       "    <tr>\n",
       "      <th>Energy</th>\n",
       "      <td>0.505093</td>\n",
       "      <td>1.000000</td>\n",
       "    </tr>\n",
       "  </tbody>\n",
       "</table>\n",
       "</div>"
      ],
      "text/plain": [
       "           kcal_100g    Energy\n",
       "kcal_100g   1.000000  0.505093\n",
       "Energy      0.505093  1.000000"
      ]
     },
     "execution_count": 2257,
     "metadata": {},
     "output_type": "execute_result"
    }
   ],
   "source": [
    "results_foodcom_15 = lookup_all_nutrition_vectors_sent_trans(df_foodcom.clean_title.values, embedded_db_loc=embedded_db_rev_dict, columns=columns, title_col='title_simple_reversed', n=15)\n",
    "df_foodcom_mean_15 = transform_nut_dict_to_df(results_foodcom_15, columns=columns, prefix='')\n",
    "df_mrgd_foodcom_15 = df_foodcom_grouped.merge(df_foodcom_mean_15, on='clean_title').merge(foodcom_cj[['clean_title', 'calories', 'carbohydrates_total_g', 'protein_g']], on = 'clean_title')\n",
    "df_mrgd_foodcom_15= df_mrgd_foodcom_15[(df_mrgd_foodcom_15.kcal_100g < 900) & (df_mrgd_foodcom_15.kcal_100g > 30) &\n",
    "                                     ~pd.isna(df_mrgd_foodcom_15['kcal_100g']) & ~pd.isna(df_mrgd_foodcom_15.calories)]\n",
    "df_mrgd_foodcom_15.Energy = df_mrgd_foodcom_15.Energy.astype(float)\n",
    "df_mrgd_foodcom_15[['kcal_100g', 'Energy']].corr('pearson')"
   ]
  },
  {
   "cell_type": "code",
   "execution_count": 2046,
   "id": "46e4b413",
   "metadata": {},
   "outputs": [],
   "source": [
    "results_fc_rev_median = compute_metric_vals_for_dict(results_foodcom_rev, columns=columns, metric='median')\n",
    "df_fc_median = transform_nut_dict_to_df(results_fc_rev_median, columns=columns, prefix='')\n",
    "\n",
    "df_mrgd_fc_rev_median = df_foodcom_grouped.merge(df_fc_median, on='clean_title', how='left').merge(foodcom_cj[['clean_title', 'calories', 'carbohydrates_total_g', 'protein_g']].drop_duplicates(), on = 'clean_title', how='left').copy()\n",
    "df_mrgd_fc_rev_median = df_mrgd_fc_rev_median[(df_mrgd_fc_rev_median.kcal_100g < 900) & (df_mrgd_fc_rev_median.kcal_100g > 30)] # max calories = 900\n",
    "\n",
    "df_mrgd_fc_rev_median= df_mrgd_fc_rev_median[~pd.isna(df_mrgd_fc_rev_median['kcal_100g']) & ~pd.isna(df_mrgd_fc_rev_median.calories)]\n",
    "df_mrgd_fc_rev_median.Energy = df_mrgd_fc_rev_median.Energy.astype(float)"
   ]
  },
  {
   "cell_type": "code",
   "execution_count": 2211,
   "id": "cd0eb05d",
   "metadata": {},
   "outputs": [],
   "source": [
    "import bootstrapped.bootstrap as bs\n",
    "import bootstrapped.stats_functions as bs_stats"
   ]
  },
  {
   "cell_type": "code",
   "execution_count": 2238,
   "id": "ed0bb8a3",
   "metadata": {},
   "outputs": [],
   "source": [
    "def plot_hist(df):\n",
    "    all_cols = []\n",
    "    for col in ['kcal_100g', 'Energy', 'calories']:\n",
    "        df_part = df[[col]].copy()\n",
    "        df_part['value'] = df[col]\n",
    "        df_part['label'] = col\n",
    "        all_cols.append(df_part[['value', 'label']])\n",
    "    df_cols_combed = pd.concat(all_cols).reset_index(drop=True)\n",
    "\n",
    "    sns.histplot(data=df_cols_combed, x='value', hue='label', bins=100)\n",
    "    \n",
    "def calc_errors(df_err, col, orig_col = 'kcal_100g', return_err=False):\n",
    "    df_err[f'diff_{col}'] = df_err[orig_col] - df_err[col]\n",
    "    df_err[f'diff_abs_{col}'] = np.abs(df_err[f'diff_{col}'])\n",
    "    df_err[f'diff_squ_{col}'] = df_err[f'diff_{col}'] ** 2\n",
    "    print(f'MedAE for {orig_col} and {col}', np.median(df_err[f'diff_abs_{col}']))\n",
    "    print(f'MSE for {orig_col} and {col}', np.mean(df_err[f'diff_squ_{col}']))\n",
    "    return df_err if return_err else None\n",
    "    \n",
    "def calc_errors_bs(df_err, col, orig_col='kcal_100g'):\n",
    "    df_err = calc_errors(df_err, col, orig_col)\n",
    "    df_err.Energy"
   ]
  },
  {
   "cell_type": "code",
   "execution_count": 2217,
   "id": "1dabeaa3",
   "metadata": {},
   "outputs": [],
   "source": [
    "bs_CI = bs.bootstrap(df_mrgd_foodcom_rev.Energy.values, stat_func=bs_stats.mean, num_iterations=10000, num_threads=10)"
   ]
  },
  {
   "cell_type": "code",
   "execution_count": 2222,
   "id": "dacd3238",
   "metadata": {},
   "outputs": [],
   "source": [
    "bs_CI_foodcom = bs.bootstrap(df_mrgd_foodcom_rev.kcal_100g.values, stat_func=bs_stats.mean, num_iterations=10000, num_threads=10)\n"
   ]
  },
  {
   "cell_type": "code",
   "execution_count": 2219,
   "id": "86c4d145",
   "metadata": {},
   "outputs": [],
   "source": [
    "bs_CI_calories = bs.bootstrap(df_mrgd_foodcom_rev.calories.values, stat_func=bs_stats.mean, num_iterations=10000, num_threads=10)"
   ]
  },
  {
   "cell_type": "code",
   "execution_count": 2223,
   "id": "68c4f9cb",
   "metadata": {},
   "outputs": [
    {
     "name": "stdout",
     "output_type": "stream",
     "text": [
      "estimated 216.75267680724565    (214.45429917694617, 219.03707816997277)\n",
      "foodcom 210.82967862764133    (207.966892541941, 213.67273246890784)\n",
      "calories 207.89159529366006    (205.23816492609882, 210.50144674737456)\n"
     ]
    }
   ],
   "source": [
    "print('estimated', bs_CI)\n",
    "print('foodcom', bs_CI_foodcom)\n",
    "print('calories', bs_CI_calories)"
   ]
  },
  {
   "cell_type": "code",
   "execution_count": 2259,
   "id": "dd8dde71",
   "metadata": {},
   "outputs": [
    {
     "data": {
      "image/png": "[encoded data removed]",
      "text/plain": [
       "<Figure size 432x288 with 1 Axes>"
      ]
     },
     "metadata": {
      "needs_background": "light"
     },
     "output_type": "display_data"
    }
   ],
   "source": [
    "plot_hist(df_mrgd_foodcom_15)"
   ]
  },
  {
   "cell_type": "code",
   "execution_count": 2080,
   "id": "508b9d58",
   "metadata": {},
   "outputs": [
    {
     "data": {
      "image/png": "[encoded data removed]",
      "text/plain": [
       "<Figure size 432x288 with 1 Axes>"
      ]
     },
     "metadata": {
      "needs_background": "light"
     },
     "output_type": "display_data"
    }
   ],
   "source": [
    "plot_hist(df_mrgd_foodcom_3)"
   ]
  },
  {
   "cell_type": "code",
   "execution_count": 2079,
   "id": "7cd449e7",
   "metadata": {},
   "outputs": [
    {
     "data": {
      "image/png": "[encoded data removed]",
      "text/plain": [
       "<Figure size 432x288 with 1 Axes>"
      ]
     },
     "metadata": {
      "needs_background": "light"
     },
     "output_type": "display_data"
    }
   ],
   "source": [
    "plot_hist(df_mrgd_foodcom_1)"
   ]
  },
  {
   "cell_type": "code",
   "execution_count": 2057,
   "id": "7187d30b",
   "metadata": {},
   "outputs": [
    {
     "data": {
      "image/png": "[encoded data removed]",
      "text/plain": [
       "<Figure size 432x288 with 1 Axes>"
      ]
     },
     "metadata": {
      "needs_background": "light"
     },
     "output_type": "display_data"
    }
   ],
   "source": [
    "plot_hist(df_mrgd_fc_rev_median)"
   ]
  },
  {
   "cell_type": "code",
   "execution_count": 2058,
   "id": "2bc25255",
   "metadata": {},
   "outputs": [
    {
     "data": {
      "image/png": "[encoded data removed]",
      "text/plain": [
       "<Figure size 432x288 with 1 Axes>"
      ]
     },
     "metadata": {
      "needs_background": "light"
     },
     "output_type": "display_data"
    }
   ],
   "source": [
    "plot_hist(df_mrgd_foodcom_rev)"
   ]
  },
  {
   "cell_type": "code",
   "execution_count": 1981,
   "id": "a6bc5af5",
   "metadata": {},
   "outputs": [
    {
     "data": {
      "text/plain": [
       "<AxesSubplot:xlabel='value', ylabel='label'>"
      ]
     },
     "execution_count": 1981,
     "metadata": {},
     "output_type": "execute_result"
    },
    {
     "data": {
      "image/png": "[encoded data removed]",
      "text/plain": [
       "<Figure size 432x288 with 1 Axes>"
      ]
     },
     "metadata": {
      "needs_background": "light"
     },
     "output_type": "display_data"
    }
   ],
   "source": [
    "sns.boxplot(data=df_cols_combed[(df_cols_combed.value < 1000) & (df_cols_combed.value >30)], x='value', y='label')"
   ]
  },
  {
   "cell_type": "code",
   "execution_count": 2094,
   "id": "a946574d",
   "metadata": {},
   "outputs": [
    {
     "name": "stdout",
     "output_type": "stream",
     "text": [
      "MedAE for kcal_100g and Energy 68.67441860465121\n",
      "MSE for kcal_100g and Energy 19297.071537888383\n",
      "Only overlapping data\n",
      "MedAE for kcal_100g and Energy 65.68803418803418\n",
      "MSE for kcal_100g and Energy 16503.127237754572\n"
     ]
    }
   ],
   "source": [
    "calc_errors(df_mrgd_foodcom_1.copy(), 'Energy')\n",
    "print('Only overlapping data')\n",
    "calc_errors(df_mrgd_foodcom_1[df_mrgd_foodcom_1.clean_title.isin(data_exists)].copy(), 'Energy')"
   ]
  },
  {
   "cell_type": "code",
   "execution_count": 2095,
   "id": "1b8db4ca",
   "metadata": {},
   "outputs": [
    {
     "name": "stdout",
     "output_type": "stream",
     "text": [
      "MedAE for kcal_100g and Energy 63.956639566395665\n",
      "MSE for kcal_100g and Energy 16060.050383867901\n",
      "Only overlapping data\n",
      "MedAE for kcal_100g and Energy 63.94551282051283\n",
      "MSE for kcal_100g and Energy 13339.083569263306\n"
     ]
    }
   ],
   "source": [
    "calc_errors(df_mrgd_foodcom_3.copy(), 'Energy')\n",
    "print('Only overlapping data')\n",
    "calc_errors(df_mrgd_foodcom_3[df_mrgd_foodcom_3.clean_title.isin(data_exists)].copy(), 'Energy')"
   ]
  },
  {
   "cell_type": "code",
   "execution_count": 2239,
   "id": "5a98f04f",
   "metadata": {},
   "outputs": [
    {
     "name": "stdout",
     "output_type": "stream",
     "text": [
      "MedAE for kcal_100g and Energy 62.291666666666664\n",
      "MSE for kcal_100g and Energy 15084.026436550685\n",
      "Only overlapping data\n",
      "MedAE for kcal_100g and Energy 63.227848101265806\n",
      "MSE for kcal_100g and Energy 12588.69348483613\n"
     ]
    }
   ],
   "source": [
    "calc_errors(df_mrgd_foodcom_7.copy(), 'Energy')\n",
    "print('Only overlapping data')\n",
    "calc_errors(df_mrgd_foodcom_7[df_mrgd_foodcom_7.clean_title.isin(data_exists)].copy(), 'Energy')"
   ]
  },
  {
   "cell_type": "code",
   "execution_count": 2253,
   "id": "a49c6bff",
   "metadata": {},
   "outputs": [
    {
     "name": "stdout",
     "output_type": "stream",
     "text": [
      "MedAE for kcal_100g and Energy 62.076628352490445\n",
      "MSE for kcal_100g and Energy 14882.283003745919\n",
      "Only overlapping data\n",
      "MedAE for kcal_100g and Energy 65.98381785680685\n",
      "MSE for kcal_100g and Energy 12469.010928787178\n"
     ]
    }
   ],
   "source": [
    "calc_errors(df_mrgd_foodcom_9.copy(), 'Energy')\n",
    "print('Only overlapping data')\n",
    "calc_errors(df_mrgd_foodcom_9[df_mrgd_foodcom_9.clean_title.isin(data_exists)].copy(), 'Energy')"
   ]
  },
  {
   "cell_type": "code",
   "execution_count": 2252,
   "id": "fc5e6ac7",
   "metadata": {},
   "outputs": [
    {
     "name": "stdout",
     "output_type": "stream",
     "text": [
      "MedAE for kcal_100g and Energy 62.076628352490445\n",
      "MSE for kcal_100g and Energy 14882.283003745919\n",
      "Only overlapping data\n",
      "MedAE for kcal_100g and Energy 65.98381785680685\n",
      "MSE for kcal_100g and Energy 12469.010928787178\n"
     ]
    }
   ],
   "source": [
    "calc_errors(df_mrgd_foodcom_11.copy(), 'Energy')\n",
    "print('Only overlapping data')\n",
    "calc_errors(df_mrgd_foodcom_11[df_mrgd_foodcom_11.clean_title.isin(data_exists)].copy(), 'Energy')"
   ]
  },
  {
   "cell_type": "code",
   "execution_count": 2258,
   "id": "47207030",
   "metadata": {},
   "outputs": [
    {
     "name": "stdout",
     "output_type": "stream",
     "text": [
      "MedAE for kcal_100g and Energy 61.85128205128203\n",
      "MSE for kcal_100g and Energy 14624.484305251994\n",
      "Only overlapping data\n",
      "MedAE for kcal_100g and Energy 61.954545454545496\n",
      "MSE for kcal_100g and Energy 12113.931967456092\n"
     ]
    }
   ],
   "source": [
    "calc_errors(df_mrgd_foodcom_15.copy(), 'Energy')\n",
    "print('Only overlapping data')\n",
    "calc_errors(df_mrgd_foodcom_15[df_mrgd_foodcom_15.clean_title.isin(data_exists)].copy(), 'Energy')"
   ]
  },
  {
   "cell_type": "code",
   "execution_count": 2265,
   "id": "d119d9f3",
   "metadata": {},
   "outputs": [
    {
     "name": "stdout",
     "output_type": "stream",
     "text": [
      "MedAE for kcal_100g and const_median 81.44234533354597\n",
      "MSE for kcal_100g and const_median 18988.060816264093\n",
      "Only overlapping data\n",
      "MedAE for kcal_100g and const_median 74.88415955142094\n",
      "MSE for kcal_100g and const_median 17172.96531560093\n"
     ]
    }
   ],
   "source": [
    "calc_errors(df_mrgd_foodcom_15.copy(), 'const_median')\n",
    "print('Only overlapping data')\n",
    "calc_errors(df_mrgd_foodcom_15[df_mrgd_foodcom_15.clean_title.isin(data_exists)].copy(), 'const_median')"
   ]
  },
  {
   "cell_type": "code",
   "execution_count": 2263,
   "id": "710c4b2c",
   "metadata": {},
   "outputs": [],
   "source": [
    "df_mrgd_foodcom_15['const_mean'] = df_mrgd_foodcom_15.kcal_100g.mean()\n",
    "df_mrgd_foodcom_15['const_median'] = df_mrgd_foodcom_15.kcal_100g.median()"
   ]
  },
  {
   "cell_type": "code",
   "execution_count": 2264,
   "id": "2c98446e",
   "metadata": {},
   "outputs": [
    {
     "data": {
      "text/plain": [
       "0        180.484262\n",
       "1        180.484262\n",
       "2        180.484262\n",
       "3        180.484262\n",
       "4        180.484262\n",
       "            ...    \n",
       "10335    180.484262\n",
       "10337    180.484262\n",
       "10338    180.484262\n",
       "10339    180.484262\n",
       "10340    180.484262\n",
       "Name: const_median, Length: 9305, dtype: float64"
      ]
     },
     "execution_count": 2264,
     "metadata": {},
     "output_type": "execute_result"
    }
   ],
   "source": [
    "df_mrgd_foodcom_15['const_median']"
   ]
  },
  {
   "cell_type": "code",
   "execution_count": 2251,
   "id": "90a54972",
   "metadata": {},
   "outputs": [
    {
     "data": {
      "text/html": [
       "<div>\n",
       "<style scoped>\n",
       "    .dataframe tbody tr th:only-of-type {\n",
       "        vertical-align: middle;\n",
       "    }\n",
       "\n",
       "    .dataframe tbody tr th {\n",
       "        vertical-align: top;\n",
       "    }\n",
       "\n",
       "    .dataframe thead th {\n",
       "        text-align: right;\n",
       "    }\n",
       "</style>\n",
       "<table border=\"1\" class=\"dataframe\">\n",
       "  <thead>\n",
       "    <tr style=\"text-align: right;\">\n",
       "      <th></th>\n",
       "      <th>name</th>\n",
       "      <th>parent_name</th>\n",
       "      <th>Cryptoxanthin, beta</th>\n",
       "      <th>Lycopene</th>\n",
       "      <th>Tocopherol, delta</th>\n",
       "      <th>Tocotrienol, gamma</th>\n",
       "      <th>Tocotrienol, delta</th>\n",
       "      <th>Vitamin C, total ascorbic acid</th>\n",
       "      <th>Thiamin</th>\n",
       "      <th>Riboflavin</th>\n",
       "      <th>...</th>\n",
       "      <th>PUFA 20:3 n-6</th>\n",
       "      <th>Fluoride, F</th>\n",
       "      <th>PUFA 18:2 i</th>\n",
       "      <th>SFA 13:0</th>\n",
       "      <th>Phytosterols</th>\n",
       "      <th>PUFA 2:4 n-6</th>\n",
       "      <th>MUFA 18:1-11 t (18:1t n-7)</th>\n",
       "      <th>bow</th>\n",
       "      <th>title_simple</th>\n",
       "      <th>title_simple_reversed</th>\n",
       "    </tr>\n",
       "  </thead>\n",
       "  <tbody>\n",
       "    <tr>\n",
       "      <th>265</th>\n",
       "      <td>Onion dip, light</td>\n",
       "      <td>Dips, gravies, other sauces</td>\n",
       "      <td>1.0</td>\n",
       "      <td>0.0</td>\n",
       "      <td>NaN</td>\n",
       "      <td>NaN</td>\n",
       "      <td>NaN</td>\n",
       "      <td>0.9</td>\n",
       "      <td>0.030</td>\n",
       "      <td>0.067</td>\n",
       "      <td>...</td>\n",
       "      <td>NaN</td>\n",
       "      <td>NaN</td>\n",
       "      <td>NaN</td>\n",
       "      <td>NaN</td>\n",
       "      <td>NaN</td>\n",
       "      <td>NaN</td>\n",
       "      <td>NaN</td>\n",
       "      <td>[Onion dip, light]</td>\n",
       "      <td>onion dip light</td>\n",
       "      <td>light onion dip</td>\n",
       "    </tr>\n",
       "    <tr>\n",
       "      <th>268</th>\n",
       "      <td>Spinach dip, regular</td>\n",
       "      <td>Dips, gravies, other sauces</td>\n",
       "      <td>2.0</td>\n",
       "      <td>0.0</td>\n",
       "      <td>NaN</td>\n",
       "      <td>NaN</td>\n",
       "      <td>NaN</td>\n",
       "      <td>0.5</td>\n",
       "      <td>0.026</td>\n",
       "      <td>0.106</td>\n",
       "      <td>...</td>\n",
       "      <td>NaN</td>\n",
       "      <td>NaN</td>\n",
       "      <td>NaN</td>\n",
       "      <td>NaN</td>\n",
       "      <td>NaN</td>\n",
       "      <td>NaN</td>\n",
       "      <td>NaN</td>\n",
       "      <td>[Spinach dip, regular]</td>\n",
       "      <td>spinach dip regular</td>\n",
       "      <td>regular spinach dip</td>\n",
       "    </tr>\n",
       "    <tr>\n",
       "      <th>269</th>\n",
       "      <td>Spinach dip, light</td>\n",
       "      <td>Dips, gravies, other sauces</td>\n",
       "      <td>1.0</td>\n",
       "      <td>0.0</td>\n",
       "      <td>NaN</td>\n",
       "      <td>NaN</td>\n",
       "      <td>NaN</td>\n",
       "      <td>0.5</td>\n",
       "      <td>0.032</td>\n",
       "      <td>0.078</td>\n",
       "      <td>...</td>\n",
       "      <td>NaN</td>\n",
       "      <td>NaN</td>\n",
       "      <td>NaN</td>\n",
       "      <td>NaN</td>\n",
       "      <td>NaN</td>\n",
       "      <td>NaN</td>\n",
       "      <td>NaN</td>\n",
       "      <td>[Spinach dip, light]</td>\n",
       "      <td>spinach dip light</td>\n",
       "      <td>light spinach dip</td>\n",
       "    </tr>\n",
       "    <tr>\n",
       "      <th>270</th>\n",
       "      <td>Vegetable dip, regular</td>\n",
       "      <td>Dips, gravies, other sauces</td>\n",
       "      <td>2.0</td>\n",
       "      <td>0.0</td>\n",
       "      <td>NaN</td>\n",
       "      <td>NaN</td>\n",
       "      <td>NaN</td>\n",
       "      <td>1.7</td>\n",
       "      <td>0.017</td>\n",
       "      <td>0.114</td>\n",
       "      <td>...</td>\n",
       "      <td>NaN</td>\n",
       "      <td>NaN</td>\n",
       "      <td>NaN</td>\n",
       "      <td>NaN</td>\n",
       "      <td>NaN</td>\n",
       "      <td>NaN</td>\n",
       "      <td>NaN</td>\n",
       "      <td>[Vegetable dip, regular]</td>\n",
       "      <td>vegetable dip regular</td>\n",
       "      <td>regular vegetable dip</td>\n",
       "    </tr>\n",
       "    <tr>\n",
       "      <th>271</th>\n",
       "      <td>Vegetable dip, light</td>\n",
       "      <td>Dips, gravies, other sauces</td>\n",
       "      <td>1.0</td>\n",
       "      <td>0.0</td>\n",
       "      <td>NaN</td>\n",
       "      <td>NaN</td>\n",
       "      <td>NaN</td>\n",
       "      <td>1.6</td>\n",
       "      <td>0.024</td>\n",
       "      <td>0.079</td>\n",
       "      <td>...</td>\n",
       "      <td>NaN</td>\n",
       "      <td>NaN</td>\n",
       "      <td>NaN</td>\n",
       "      <td>NaN</td>\n",
       "      <td>NaN</td>\n",
       "      <td>NaN</td>\n",
       "      <td>NaN</td>\n",
       "      <td>[Vegetable dip, light]</td>\n",
       "      <td>vegetable dip light</td>\n",
       "      <td>light vegetable dip</td>\n",
       "    </tr>\n",
       "    <tr>\n",
       "      <th>2115</th>\n",
       "      <td>Bean dip, made with refried beans</td>\n",
       "      <td>Dips, gravies, other sauces</td>\n",
       "      <td>0.0</td>\n",
       "      <td>0.0</td>\n",
       "      <td>NaN</td>\n",
       "      <td>NaN</td>\n",
       "      <td>NaN</td>\n",
       "      <td>0.6</td>\n",
       "      <td>0.090</td>\n",
       "      <td>0.100</td>\n",
       "      <td>...</td>\n",
       "      <td>NaN</td>\n",
       "      <td>NaN</td>\n",
       "      <td>NaN</td>\n",
       "      <td>NaN</td>\n",
       "      <td>NaN</td>\n",
       "      <td>NaN</td>\n",
       "      <td>NaN</td>\n",
       "      <td>[Bean dip, made with refried beans]</td>\n",
       "      <td>bean dip made with refried beans</td>\n",
       "      <td>made with refried beans bean dip</td>\n",
       "    </tr>\n",
       "    <tr>\n",
       "      <th>2124</th>\n",
       "      <td>Bean cake</td>\n",
       "      <td>Bean, pea, legume dishes</td>\n",
       "      <td>0.0</td>\n",
       "      <td>0.0</td>\n",
       "      <td>NaN</td>\n",
       "      <td>NaN</td>\n",
       "      <td>NaN</td>\n",
       "      <td>0.3</td>\n",
       "      <td>0.268</td>\n",
       "      <td>0.139</td>\n",
       "      <td>...</td>\n",
       "      <td>NaN</td>\n",
       "      <td>NaN</td>\n",
       "      <td>NaN</td>\n",
       "      <td>NaN</td>\n",
       "      <td>NaN</td>\n",
       "      <td>NaN</td>\n",
       "      <td>NaN</td>\n",
       "      <td>[Bean cake]</td>\n",
       "      <td>bean cake</td>\n",
       "      <td>bean cake</td>\n",
       "    </tr>\n",
       "    <tr>\n",
       "      <th>2143</th>\n",
       "      <td>Bean chips</td>\n",
       "      <td>Tortilla, corn, other chips</td>\n",
       "      <td>0.0</td>\n",
       "      <td>0.0</td>\n",
       "      <td>NaN</td>\n",
       "      <td>NaN</td>\n",
       "      <td>NaN</td>\n",
       "      <td>1.7</td>\n",
       "      <td>0.499</td>\n",
       "      <td>0.153</td>\n",
       "      <td>...</td>\n",
       "      <td>NaN</td>\n",
       "      <td>NaN</td>\n",
       "      <td>NaN</td>\n",
       "      <td>NaN</td>\n",
       "      <td>NaN</td>\n",
       "      <td>NaN</td>\n",
       "      <td>NaN</td>\n",
       "      <td>[Bean chips]</td>\n",
       "      <td>bean chips</td>\n",
       "      <td>bean chips</td>\n",
       "    </tr>\n",
       "    <tr>\n",
       "      <th>5095</th>\n",
       "      <td>Dessert dip</td>\n",
       "      <td>Jams, syrups, toppings</td>\n",
       "      <td>1.0</td>\n",
       "      <td>0.0</td>\n",
       "      <td>NaN</td>\n",
       "      <td>NaN</td>\n",
       "      <td>NaN</td>\n",
       "      <td>0.0</td>\n",
       "      <td>0.025</td>\n",
       "      <td>0.199</td>\n",
       "      <td>...</td>\n",
       "      <td>NaN</td>\n",
       "      <td>NaN</td>\n",
       "      <td>NaN</td>\n",
       "      <td>NaN</td>\n",
       "      <td>NaN</td>\n",
       "      <td>NaN</td>\n",
       "      <td>NaN</td>\n",
       "      <td>[Dessert dip]</td>\n",
       "      <td>dessert dip</td>\n",
       "      <td>dessert dip</td>\n",
       "    </tr>\n",
       "    <tr>\n",
       "      <th>4320</th>\n",
       "      <td>Dip, bean, original flavor</td>\n",
       "      <td>Dip, bean, original flavor</td>\n",
       "      <td>0.0</td>\n",
       "      <td>0.0</td>\n",
       "      <td>NaN</td>\n",
       "      <td>NaN</td>\n",
       "      <td>NaN</td>\n",
       "      <td>0.6</td>\n",
       "      <td>0.090</td>\n",
       "      <td>0.100</td>\n",
       "      <td>...</td>\n",
       "      <td>0.0</td>\n",
       "      <td>NaN</td>\n",
       "      <td>NaN</td>\n",
       "      <td>NaN</td>\n",
       "      <td>NaN</td>\n",
       "      <td>NaN</td>\n",
       "      <td>NaN</td>\n",
       "      <td>[Dip, bean, original flavor]</td>\n",
       "      <td>dip bean original flavor</td>\n",
       "      <td>original flavor bean dip</td>\n",
       "    </tr>\n",
       "    <tr>\n",
       "      <th>4322</th>\n",
       "      <td>Dip, FRITO'S, bean, original flavor</td>\n",
       "      <td>Dip, FRITO'S, bean, original flavor</td>\n",
       "      <td>NaN</td>\n",
       "      <td>NaN</td>\n",
       "      <td>NaN</td>\n",
       "      <td>NaN</td>\n",
       "      <td>NaN</td>\n",
       "      <td>NaN</td>\n",
       "      <td>0.090</td>\n",
       "      <td>0.100</td>\n",
       "      <td>...</td>\n",
       "      <td>0.0</td>\n",
       "      <td>NaN</td>\n",
       "      <td>NaN</td>\n",
       "      <td>NaN</td>\n",
       "      <td>NaN</td>\n",
       "      <td>NaN</td>\n",
       "      <td>NaN</td>\n",
       "      <td>[Dip, FRITO'S, bean, original flavor]</td>\n",
       "      <td>dip frito's bean original flavor</td>\n",
       "      <td>original flavor bean frito's dip</td>\n",
       "    </tr>\n",
       "  </tbody>\n",
       "</table>\n",
       "<p>11 rows × 252 columns</p>\n",
       "</div>"
      ],
      "text/plain": [
       "                                     name  \\\n",
       "265                      Onion dip, light   \n",
       "268                  Spinach dip, regular   \n",
       "269                    Spinach dip, light   \n",
       "270                Vegetable dip, regular   \n",
       "271                  Vegetable dip, light   \n",
       "2115    Bean dip, made with refried beans   \n",
       "2124                            Bean cake   \n",
       "2143                           Bean chips   \n",
       "5095                          Dessert dip   \n",
       "4320           Dip, bean, original flavor   \n",
       "4322  Dip, FRITO'S, bean, original flavor   \n",
       "\n",
       "                              parent_name  Cryptoxanthin, beta  Lycopene  \\\n",
       "265           Dips, gravies, other sauces                  1.0       0.0   \n",
       "268           Dips, gravies, other sauces                  2.0       0.0   \n",
       "269           Dips, gravies, other sauces                  1.0       0.0   \n",
       "270           Dips, gravies, other sauces                  2.0       0.0   \n",
       "271           Dips, gravies, other sauces                  1.0       0.0   \n",
       "2115          Dips, gravies, other sauces                  0.0       0.0   \n",
       "2124             Bean, pea, legume dishes                  0.0       0.0   \n",
       "2143          Tortilla, corn, other chips                  0.0       0.0   \n",
       "5095               Jams, syrups, toppings                  1.0       0.0   \n",
       "4320           Dip, bean, original flavor                  0.0       0.0   \n",
       "4322  Dip, FRITO'S, bean, original flavor                  NaN       NaN   \n",
       "\n",
       "      Tocopherol, delta  Tocotrienol, gamma  Tocotrienol, delta  \\\n",
       "265                 NaN                 NaN                 NaN   \n",
       "268                 NaN                 NaN                 NaN   \n",
       "269                 NaN                 NaN                 NaN   \n",
       "270                 NaN                 NaN                 NaN   \n",
       "271                 NaN                 NaN                 NaN   \n",
       "2115                NaN                 NaN                 NaN   \n",
       "2124                NaN                 NaN                 NaN   \n",
       "2143                NaN                 NaN                 NaN   \n",
       "5095                NaN                 NaN                 NaN   \n",
       "4320                NaN                 NaN                 NaN   \n",
       "4322                NaN                 NaN                 NaN   \n",
       "\n",
       "      Vitamin C, total ascorbic acid  Thiamin  Riboflavin  ...  PUFA 20:3 n-6  \\\n",
       "265                              0.9    0.030       0.067  ...            NaN   \n",
       "268                              0.5    0.026       0.106  ...            NaN   \n",
       "269                              0.5    0.032       0.078  ...            NaN   \n",
       "270                              1.7    0.017       0.114  ...            NaN   \n",
       "271                              1.6    0.024       0.079  ...            NaN   \n",
       "2115                             0.6    0.090       0.100  ...            NaN   \n",
       "2124                             0.3    0.268       0.139  ...            NaN   \n",
       "2143                             1.7    0.499       0.153  ...            NaN   \n",
       "5095                             0.0    0.025       0.199  ...            NaN   \n",
       "4320                             0.6    0.090       0.100  ...            0.0   \n",
       "4322                             NaN    0.090       0.100  ...            0.0   \n",
       "\n",
       "      Fluoride, F  PUFA 18:2 i  SFA 13:0  Phytosterols  PUFA 2:4 n-6  \\\n",
       "265           NaN          NaN       NaN           NaN           NaN   \n",
       "268           NaN          NaN       NaN           NaN           NaN   \n",
       "269           NaN          NaN       NaN           NaN           NaN   \n",
       "270           NaN          NaN       NaN           NaN           NaN   \n",
       "271           NaN          NaN       NaN           NaN           NaN   \n",
       "2115          NaN          NaN       NaN           NaN           NaN   \n",
       "2124          NaN          NaN       NaN           NaN           NaN   \n",
       "2143          NaN          NaN       NaN           NaN           NaN   \n",
       "5095          NaN          NaN       NaN           NaN           NaN   \n",
       "4320          NaN          NaN       NaN           NaN           NaN   \n",
       "4322          NaN          NaN       NaN           NaN           NaN   \n",
       "\n",
       "      MUFA 18:1-11 t (18:1t n-7)                                    bow  \\\n",
       "265                          NaN                     [Onion dip, light]   \n",
       "268                          NaN                 [Spinach dip, regular]   \n",
       "269                          NaN                   [Spinach dip, light]   \n",
       "270                          NaN               [Vegetable dip, regular]   \n",
       "271                          NaN                 [Vegetable dip, light]   \n",
       "2115                         NaN    [Bean dip, made with refried beans]   \n",
       "2124                         NaN                            [Bean cake]   \n",
       "2143                         NaN                           [Bean chips]   \n",
       "5095                         NaN                          [Dessert dip]   \n",
       "4320                         NaN           [Dip, bean, original flavor]   \n",
       "4322                         NaN  [Dip, FRITO'S, bean, original flavor]   \n",
       "\n",
       "                          title_simple             title_simple_reversed  \n",
       "265                    onion dip light                   light onion dip  \n",
       "268                spinach dip regular               regular spinach dip  \n",
       "269                  spinach dip light                 light spinach dip  \n",
       "270              vegetable dip regular             regular vegetable dip  \n",
       "271                vegetable dip light               light vegetable dip  \n",
       "2115  bean dip made with refried beans  made with refried beans bean dip  \n",
       "2124                         bean cake                         bean cake  \n",
       "2143                        bean chips                        bean chips  \n",
       "5095                       dessert dip                       dessert dip  \n",
       "4320          dip bean original flavor          original flavor bean dip  \n",
       "4322  dip frito's bean original flavor  original flavor bean frito's dip  \n",
       "\n",
       "[11 rows x 252 columns]"
      ]
     },
     "execution_count": 2251,
     "metadata": {},
     "output_type": "execute_result"
    }
   ],
   "source": [
    "results_foodcom_11['7 layer bean dip']['matches']"
   ]
  },
  {
   "cell_type": "code",
   "execution_count": 2060,
   "id": "74926db5",
   "metadata": {},
   "outputs": [
    {
     "name": "stdout",
     "output_type": "stream",
     "text": [
      "MedAE for kcal_100g and calories 62.61756513926329\n",
      "MSE for kcal_100g and calories 16536.62434233101\n",
      "MedAE for kcal_100g and Energy 63.1367303609342\n",
      "MSE for kcal_100g and Energy 16906.751848522308\n",
      "Only overlapping data\n",
      "MedAE for kcal_100g and calories 62.29289215686272\n",
      "MSE for kcal_100g and calories 14391.260183730099\n",
      "MedAE for kcal_100g and Energy 64.99619036455279\n",
      "MSE for kcal_100g and Energy 14217.034968673977\n"
     ]
    }
   ],
   "source": [
    "calc_errors(df_mrgd_fc_rev_median, 'calories')\n",
    "calc_errors(df_mrgd_fc_rev_median, 'Energy')\n",
    "print('Only overlapping data')\n",
    "calc_errors(df_mrgd_fc_rev_median[df_mrgd_fc_rev_median.clean_title.isin(data_exists)].copy(), 'calories')\n",
    "calc_errors(df_mrgd_fc_rev_median[df_mrgd_fc_rev_median.clean_title.isin(data_exists)].copy(), 'Energy')"
   ]
  },
  {
   "cell_type": "code",
   "execution_count": 2225,
   "id": "c7d42e18",
   "metadata": {},
   "outputs": [
    {
     "name": "stdout",
     "output_type": "stream",
     "text": [
      "MedAE for kcal_100g and calories 62.61756513926329\n",
      "MSE for kcal_100g and calories 16536.62434233101\n",
      "MedAE for kcal_100g and Energy 63.54109453089001\n",
      "MSE for kcal_100g and Energy 15579.304262108439\n",
      "Only overlapping data\n",
      "MedAE for kcal_100g and calories 62.29289215686272\n",
      "MSE for kcal_100g and calories 14391.260183730099\n",
      "MedAE for kcal_100g and Energy 64.73244969658256\n",
      "MSE for kcal_100g and Energy 13156.05931486129\n"
     ]
    },
    {
     "data": {
      "text/html": [
       "<div>\n",
       "<style scoped>\n",
       "    .dataframe tbody tr th:only-of-type {\n",
       "        vertical-align: middle;\n",
       "    }\n",
       "\n",
       "    .dataframe tbody tr th {\n",
       "        vertical-align: top;\n",
       "    }\n",
       "\n",
       "    .dataframe thead th {\n",
       "        text-align: right;\n",
       "    }\n",
       "</style>\n",
       "<table border=\"1\" class=\"dataframe\">\n",
       "  <thead>\n",
       "    <tr style=\"text-align: right;\">\n",
       "      <th></th>\n",
       "      <th>clean_title</th>\n",
       "      <th>kcal</th>\n",
       "      <th>carb</th>\n",
       "      <th>fat</th>\n",
       "      <th>prot</th>\n",
       "      <th>sodium</th>\n",
       "      <th>chol</th>\n",
       "      <th>ss_clean</th>\n",
       "      <th>factor_100g</th>\n",
       "      <th>kcal_100g</th>\n",
       "      <th>...</th>\n",
       "      <th>diff_cals</th>\n",
       "      <th>diff_calories</th>\n",
       "      <th>diff_abs_calories</th>\n",
       "      <th>diff_squ_calories</th>\n",
       "      <th>diff_Energy</th>\n",
       "      <th>diff_abs_Energy</th>\n",
       "      <th>diff_squ_Energy</th>\n",
       "      <th>diff_kcal_100g</th>\n",
       "      <th>diff_abs_kcal_100g</th>\n",
       "      <th>diff_squ_kcal_100g</th>\n",
       "    </tr>\n",
       "  </thead>\n",
       "  <tbody>\n",
       "    <tr>\n",
       "      <th>47</th>\n",
       "      <td>15 layer russian honey cake</td>\n",
       "      <td>282.40</td>\n",
       "      <td>125.6</td>\n",
       "      <td>145.8</td>\n",
       "      <td>14.8</td>\n",
       "      <td>183.10</td>\n",
       "      <td>46.60</td>\n",
       "      <td>94.0</td>\n",
       "      <td>0.94</td>\n",
       "      <td>300.425532</td>\n",
       "      <td>...</td>\n",
       "      <td>-27.774468</td>\n",
       "      <td>-27.584468</td>\n",
       "      <td>27.584468</td>\n",
       "      <td>760.902880</td>\n",
       "      <td>-27.774468</td>\n",
       "      <td>27.774468</td>\n",
       "      <td>771.421077</td>\n",
       "      <td>0.0</td>\n",
       "      <td>0.0</td>\n",
       "      <td>0.0</td>\n",
       "    </tr>\n",
       "    <tr>\n",
       "      <th>89</th>\n",
       "      <td>7 layer bean dip</td>\n",
       "      <td>452.65</td>\n",
       "      <td>70.6</td>\n",
       "      <td>326.7</td>\n",
       "      <td>70.0</td>\n",
       "      <td>775.45</td>\n",
       "      <td>68.95</td>\n",
       "      <td>184.0</td>\n",
       "      <td>1.84</td>\n",
       "      <td>244.020935</td>\n",
       "      <td>...</td>\n",
       "      <td>50.220935</td>\n",
       "      <td>125.420935</td>\n",
       "      <td>125.420935</td>\n",
       "      <td>15730.410993</td>\n",
       "      <td>50.220935</td>\n",
       "      <td>50.220935</td>\n",
       "      <td>2522.142335</td>\n",
       "      <td>0.0</td>\n",
       "      <td>0.0</td>\n",
       "      <td>0.0</td>\n",
       "    </tr>\n",
       "    <tr>\n",
       "      <th>90</th>\n",
       "      <td>7 layer dip</td>\n",
       "      <td>138.40</td>\n",
       "      <td>44.4</td>\n",
       "      <td>77.4</td>\n",
       "      <td>21.2</td>\n",
       "      <td>752.30</td>\n",
       "      <td>21.50</td>\n",
       "      <td>120.0</td>\n",
       "      <td>1.20</td>\n",
       "      <td>115.333333</td>\n",
       "      <td>...</td>\n",
       "      <td>-133.066667</td>\n",
       "      <td>-171.766667</td>\n",
       "      <td>171.766667</td>\n",
       "      <td>29503.787778</td>\n",
       "      <td>-133.066667</td>\n",
       "      <td>133.066667</td>\n",
       "      <td>17706.737778</td>\n",
       "      <td>0.0</td>\n",
       "      <td>0.0</td>\n",
       "      <td>0.0</td>\n",
       "    </tr>\n",
       "    <tr>\n",
       "      <th>134</th>\n",
       "      <td>alfajores de maizena</td>\n",
       "      <td>364.70</td>\n",
       "      <td>202.0</td>\n",
       "      <td>148.5</td>\n",
       "      <td>10.4</td>\n",
       "      <td>226.60</td>\n",
       "      <td>87.80</td>\n",
       "      <td>61.0</td>\n",
       "      <td>0.61</td>\n",
       "      <td>597.868852</td>\n",
       "      <td>...</td>\n",
       "      <td>243.068852</td>\n",
       "      <td>286.268852</td>\n",
       "      <td>286.268852</td>\n",
       "      <td>81949.855888</td>\n",
       "      <td>243.068852</td>\n",
       "      <td>243.068852</td>\n",
       "      <td>59082.467036</td>\n",
       "      <td>0.0</td>\n",
       "      <td>0.0</td>\n",
       "      <td>0.0</td>\n",
       "    </tr>\n",
       "    <tr>\n",
       "      <th>136</th>\n",
       "      <td>alfredo sauce</td>\n",
       "      <td>489.90</td>\n",
       "      <td>10.0</td>\n",
       "      <td>453.6</td>\n",
       "      <td>34.4</td>\n",
       "      <td>312.40</td>\n",
       "      <td>159.00</td>\n",
       "      <td>107.0</td>\n",
       "      <td>1.07</td>\n",
       "      <td>457.850467</td>\n",
       "      <td>...</td>\n",
       "      <td>247.850467</td>\n",
       "      <td>22.950467</td>\n",
       "      <td>22.950467</td>\n",
       "      <td>526.723949</td>\n",
       "      <td>247.850467</td>\n",
       "      <td>247.850467</td>\n",
       "      <td>61429.854136</td>\n",
       "      <td>0.0</td>\n",
       "      <td>0.0</td>\n",
       "      <td>0.0</td>\n",
       "    </tr>\n",
       "    <tr>\n",
       "      <th>...</th>\n",
       "      <td>...</td>\n",
       "      <td>...</td>\n",
       "      <td>...</td>\n",
       "      <td>...</td>\n",
       "      <td>...</td>\n",
       "      <td>...</td>\n",
       "      <td>...</td>\n",
       "      <td>...</td>\n",
       "      <td>...</td>\n",
       "      <td>...</td>\n",
       "      <td>...</td>\n",
       "      <td>...</td>\n",
       "      <td>...</td>\n",
       "      <td>...</td>\n",
       "      <td>...</td>\n",
       "      <td>...</td>\n",
       "      <td>...</td>\n",
       "      <td>...</td>\n",
       "      <td>...</td>\n",
       "      <td>...</td>\n",
       "      <td>...</td>\n",
       "    </tr>\n",
       "    <tr>\n",
       "      <th>9724</th>\n",
       "      <td>yellow chicken curry</td>\n",
       "      <td>1585.90</td>\n",
       "      <td>1079.6</td>\n",
       "      <td>331.2</td>\n",
       "      <td>166.8</td>\n",
       "      <td>266.80</td>\n",
       "      <td>72.60</td>\n",
       "      <td>670.0</td>\n",
       "      <td>6.70</td>\n",
       "      <td>236.701493</td>\n",
       "      <td>...</td>\n",
       "      <td>134.701493</td>\n",
       "      <td>130.401493</td>\n",
       "      <td>130.401493</td>\n",
       "      <td>17004.549256</td>\n",
       "      <td>134.701493</td>\n",
       "      <td>134.701493</td>\n",
       "      <td>18144.492092</td>\n",
       "      <td>0.0</td>\n",
       "      <td>0.0</td>\n",
       "      <td>0.0</td>\n",
       "    </tr>\n",
       "    <tr>\n",
       "      <th>9788</th>\n",
       "      <td>zucchini bread</td>\n",
       "      <td>358.20</td>\n",
       "      <td>168.8</td>\n",
       "      <td>176.4</td>\n",
       "      <td>16.0</td>\n",
       "      <td>431.30</td>\n",
       "      <td>46.50</td>\n",
       "      <td>89.0</td>\n",
       "      <td>0.89</td>\n",
       "      <td>402.471910</td>\n",
       "      <td>...</td>\n",
       "      <td>115.671910</td>\n",
       "      <td>8.371910</td>\n",
       "      <td>8.371910</td>\n",
       "      <td>70.088879</td>\n",
       "      <td>115.671910</td>\n",
       "      <td>115.671910</td>\n",
       "      <td>13379.990789</td>\n",
       "      <td>0.0</td>\n",
       "      <td>0.0</td>\n",
       "      <td>0.0</td>\n",
       "    </tr>\n",
       "    <tr>\n",
       "      <th>9793</th>\n",
       "      <td>zucchini fritters</td>\n",
       "      <td>96.60</td>\n",
       "      <td>17.6</td>\n",
       "      <td>60.3</td>\n",
       "      <td>18.8</td>\n",
       "      <td>263.40</td>\n",
       "      <td>59.70</td>\n",
       "      <td>58.0</td>\n",
       "      <td>0.58</td>\n",
       "      <td>166.551724</td>\n",
       "      <td>...</td>\n",
       "      <td>-195.281609</td>\n",
       "      <td>26.851724</td>\n",
       "      <td>26.851724</td>\n",
       "      <td>721.015089</td>\n",
       "      <td>-195.281609</td>\n",
       "      <td>195.281609</td>\n",
       "      <td>38134.906890</td>\n",
       "      <td>0.0</td>\n",
       "      <td>0.0</td>\n",
       "      <td>0.0</td>\n",
       "    </tr>\n",
       "    <tr>\n",
       "      <th>9801</th>\n",
       "      <td>zucchini pancakes</td>\n",
       "      <td>362.90</td>\n",
       "      <td>87.2</td>\n",
       "      <td>241.2</td>\n",
       "      <td>38.0</td>\n",
       "      <td>831.70</td>\n",
       "      <td>216.50</td>\n",
       "      <td>165.0</td>\n",
       "      <td>1.65</td>\n",
       "      <td>219.939394</td>\n",
       "      <td>...</td>\n",
       "      <td>-50.660606</td>\n",
       "      <td>36.239394</td>\n",
       "      <td>36.239394</td>\n",
       "      <td>1313.293673</td>\n",
       "      <td>-50.660606</td>\n",
       "      <td>50.660606</td>\n",
       "      <td>2566.497006</td>\n",
       "      <td>0.0</td>\n",
       "      <td>0.0</td>\n",
       "      <td>0.0</td>\n",
       "    </tr>\n",
       "    <tr>\n",
       "      <th>9806</th>\n",
       "      <td>zucchini quiche</td>\n",
       "      <td>247.30</td>\n",
       "      <td>26.4</td>\n",
       "      <td>159.3</td>\n",
       "      <td>62.8</td>\n",
       "      <td>325.40</td>\n",
       "      <td>141.40</td>\n",
       "      <td>183.0</td>\n",
       "      <td>1.83</td>\n",
       "      <td>135.136612</td>\n",
       "      <td>...</td>\n",
       "      <td>-128.663388</td>\n",
       "      <td>-63.113388</td>\n",
       "      <td>63.113388</td>\n",
       "      <td>3983.299742</td>\n",
       "      <td>-128.663388</td>\n",
       "      <td>128.663388</td>\n",
       "      <td>16554.267406</td>\n",
       "      <td>0.0</td>\n",
       "      <td>0.0</td>\n",
       "      <td>0.0</td>\n",
       "    </tr>\n",
       "  </tbody>\n",
       "</table>\n",
       "<p>704 rows × 40 columns</p>\n",
       "</div>"
      ],
      "text/plain": [
       "                      clean_title     kcal    carb    fat   prot  sodium  \\\n",
       "47    15 layer russian honey cake   282.40   125.6  145.8   14.8  183.10   \n",
       "89               7 layer bean dip   452.65    70.6  326.7   70.0  775.45   \n",
       "90                    7 layer dip   138.40    44.4   77.4   21.2  752.30   \n",
       "134          alfajores de maizena   364.70   202.0  148.5   10.4  226.60   \n",
       "136                 alfredo sauce   489.90    10.0  453.6   34.4  312.40   \n",
       "...                           ...      ...     ...    ...    ...     ...   \n",
       "9724         yellow chicken curry  1585.90  1079.6  331.2  166.8  266.80   \n",
       "9788               zucchini bread   358.20   168.8  176.4   16.0  431.30   \n",
       "9793            zucchini fritters    96.60    17.6   60.3   18.8  263.40   \n",
       "9801            zucchini pancakes   362.90    87.2  241.2   38.0  831.70   \n",
       "9806              zucchini quiche   247.30    26.4  159.3   62.8  325.40   \n",
       "\n",
       "        chol  ss_clean  factor_100g   kcal_100g  ...   diff_cals  \\\n",
       "47     46.60      94.0         0.94  300.425532  ...  -27.774468   \n",
       "89     68.95     184.0         1.84  244.020935  ...   50.220935   \n",
       "90     21.50     120.0         1.20  115.333333  ... -133.066667   \n",
       "134    87.80      61.0         0.61  597.868852  ...  243.068852   \n",
       "136   159.00     107.0         1.07  457.850467  ...  247.850467   \n",
       "...      ...       ...          ...         ...  ...         ...   \n",
       "9724   72.60     670.0         6.70  236.701493  ...  134.701493   \n",
       "9788   46.50      89.0         0.89  402.471910  ...  115.671910   \n",
       "9793   59.70      58.0         0.58  166.551724  ... -195.281609   \n",
       "9801  216.50     165.0         1.65  219.939394  ...  -50.660606   \n",
       "9806  141.40     183.0         1.83  135.136612  ... -128.663388   \n",
       "\n",
       "      diff_calories  diff_abs_calories  diff_squ_calories  diff_Energy  \\\n",
       "47       -27.584468          27.584468         760.902880   -27.774468   \n",
       "89       125.420935         125.420935       15730.410993    50.220935   \n",
       "90      -171.766667         171.766667       29503.787778  -133.066667   \n",
       "134      286.268852         286.268852       81949.855888   243.068852   \n",
       "136       22.950467          22.950467         526.723949   247.850467   \n",
       "...             ...                ...                ...          ...   \n",
       "9724     130.401493         130.401493       17004.549256   134.701493   \n",
       "9788       8.371910           8.371910          70.088879   115.671910   \n",
       "9793      26.851724          26.851724         721.015089  -195.281609   \n",
       "9801      36.239394          36.239394        1313.293673   -50.660606   \n",
       "9806     -63.113388          63.113388        3983.299742  -128.663388   \n",
       "\n",
       "      diff_abs_Energy diff_squ_Energy diff_kcal_100g diff_abs_kcal_100g  \\\n",
       "47          27.774468      771.421077            0.0                0.0   \n",
       "89          50.220935     2522.142335            0.0                0.0   \n",
       "90         133.066667    17706.737778            0.0                0.0   \n",
       "134        243.068852    59082.467036            0.0                0.0   \n",
       "136        247.850467    61429.854136            0.0                0.0   \n",
       "...               ...             ...            ...                ...   \n",
       "9724       134.701493    18144.492092            0.0                0.0   \n",
       "9788       115.671910    13379.990789            0.0                0.0   \n",
       "9793       195.281609    38134.906890            0.0                0.0   \n",
       "9801        50.660606     2566.497006            0.0                0.0   \n",
       "9806       128.663388    16554.267406            0.0                0.0   \n",
       "\n",
       "     diff_squ_kcal_100g  \n",
       "47                  0.0  \n",
       "89                  0.0  \n",
       "90                  0.0  \n",
       "134                 0.0  \n",
       "136                 0.0  \n",
       "...                 ...  \n",
       "9724                0.0  \n",
       "9788                0.0  \n",
       "9793                0.0  \n",
       "9801                0.0  \n",
       "9806                0.0  \n",
       "\n",
       "[704 rows x 40 columns]"
      ]
     },
     "execution_count": 2225,
     "metadata": {},
     "output_type": "execute_result"
    }
   ],
   "source": [
    "calc_errors(df_mrgd_foodcom_rev, 'calories')\n",
    "calc_errors(df_mrgd_foodcom_rev, 'Energy')\n",
    "print('Only overlapping data')\n",
    "calc_errors(df_mrgd_foodcom_rev[df_mrgd_foodcom_rev.clean_title.isin(data_exists)].copy(), 'calories')\n",
    "calc_errors(df_mrgd_foodcom_rev[df_mrgd_foodcom_rev.clean_title.isin(data_exists)].copy(), 'Energy')"
   ]
  },
  {
   "cell_type": "code",
   "execution_count": 2075,
   "id": "91ce2557",
   "metadata": {},
   "outputs": [
    {
     "name": "stdout",
     "output_type": "stream",
     "text": [
      "MedAE for Energy and calories 47.35000000000001\n",
      "MSE for Energy and calories 7798.354253797369\n",
      "MedAE for Energy and calories 43.7\n",
      "MSE for Energy and calories 6941.28152460543\n"
     ]
    }
   ],
   "source": [
    "calc_errors(df_mrgd_foodcom_rev.copy(), 'calories', 'Energy')\n",
    "calc_errors(df_mrgd_foodcom_rev[df_mrgd_foodcom_rev.clean_title.isin(data_exists)].copy(), 'calories', 'Energy')"
   ]
  },
  {
   "cell_type": "code",
   "execution_count": 1991,
   "id": "c4d53f36",
   "metadata": {},
   "outputs": [
    {
     "data": {
      "text/plain": [
       "<AxesSubplot:xlabel='kcal_100g', ylabel='Energy'>"
      ]
     },
     "execution_count": 1991,
     "metadata": {},
     "output_type": "execute_result"
    },
    {
     "data": {
      "image/png": "[encoded data removed]",
      "text/plain": [
       "<Figure size 432x288 with 1 Axes>"
      ]
     },
     "metadata": {
      "needs_background": "light"
     },
     "output_type": "display_data"
    }
   ],
   "source": [
    "df_mrgd_foodcom_rev[df_mrgd_foodcom_rev.kcal < 900][['Energy', 'kcal_100g']].plot.scatter(x='kcal_100g', y='Energy')"
   ]
  },
  {
   "cell_type": "code",
   "execution_count": 2039,
   "id": "d810705b",
   "metadata": {},
   "outputs": [
    {
     "data": {
      "text/plain": [
       "<AxesSubplot:xlabel='kcal_100g', ylabel='Energy'>"
      ]
     },
     "execution_count": 2039,
     "metadata": {},
     "output_type": "execute_result"
    },
    {
     "data": {
      "image/png": "[encoded data removed]",
      "text/plain": [
       "<Figure size 432x288 with 1 Axes>"
      ]
     },
     "metadata": {
      "needs_background": "light"
     },
     "output_type": "display_data"
    }
   ],
   "source": [
    "df_mrgd_foodcom_rev[df_mrgd_foodcom_rev.clean_title.isin(data_exists)][['kcal_100g', 'Energy']].plot.scatter(x='kcal_100g', y='Energy')"
   ]
  },
  {
   "cell_type": "code",
   "execution_count": 2043,
   "id": "51516508",
   "metadata": {},
   "outputs": [
    {
     "data": {
      "text/plain": [
       "<AxesSubplot:xlabel='calories', ylabel='Energy'>"
      ]
     },
     "execution_count": 2043,
     "metadata": {},
     "output_type": "execute_result"
    },
    {
     "data": {
      "image/png": "[encoded data removed]",
      "text/plain": [
       "<Figure size 432x288 with 1 Axes>"
      ]
     },
     "metadata": {
      "needs_background": "light"
     },
     "output_type": "display_data"
    }
   ],
   "source": [
    "df_mrgd_foodcom_rev[df_mrgd_foodcom_rev.clean_title.isin(data_exists)][['calories', 'Energy']].plot.scatter(x='calories', y='Energy')"
   ]
  },
  {
   "cell_type": "code",
   "execution_count": 1937,
   "id": "2449d45a",
   "metadata": {},
   "outputs": [],
   "source": [
    "df_mrgd_foodcom_rev['diff_cals'] = df_mrgd_foodcom_rev.kcal_100g - df_mrgd_foodcom_rev.Energy"
   ]
  },
  {
   "cell_type": "code",
   "execution_count": 2028,
   "id": "26f4d778",
   "metadata": {},
   "outputs": [
    {
     "data": {
      "text/html": [
       "<div>\n",
       "<style scoped>\n",
       "    .dataframe tbody tr th:only-of-type {\n",
       "        vertical-align: middle;\n",
       "    }\n",
       "\n",
       "    .dataframe tbody tr th {\n",
       "        vertical-align: top;\n",
       "    }\n",
       "\n",
       "    .dataframe thead th {\n",
       "        text-align: right;\n",
       "    }\n",
       "</style>\n",
       "<table border=\"1\" class=\"dataframe\">\n",
       "  <thead>\n",
       "    <tr style=\"text-align: right;\">\n",
       "      <th></th>\n",
       "      <th>clean_title</th>\n",
       "      <th>Energy</th>\n",
       "      <th>kcal_100g</th>\n",
       "      <th>diff_cals</th>\n",
       "    </tr>\n",
       "  </thead>\n",
       "  <tbody>\n",
       "    <tr>\n",
       "      <th>6033</th>\n",
       "      <td>mullein garlic ear oil</td>\n",
       "      <td>884.0</td>\n",
       "      <td>39.411765</td>\n",
       "      <td>-844.588235</td>\n",
       "    </tr>\n",
       "    <tr>\n",
       "      <th>7564</th>\n",
       "      <td>roasted salted sunflower seed</td>\n",
       "      <td>596.0</td>\n",
       "      <td>37.616865</td>\n",
       "      <td>-558.383135</td>\n",
       "    </tr>\n",
       "    <tr>\n",
       "      <th>3003</th>\n",
       "      <td>dipping oil for bread</td>\n",
       "      <td>821.0</td>\n",
       "      <td>290.876404</td>\n",
       "      <td>-530.123596</td>\n",
       "    </tr>\n",
       "    <tr>\n",
       "      <th>151</th>\n",
       "      <td>almond butter cookies vegan</td>\n",
       "      <td>501.2</td>\n",
       "      <td>30.542169</td>\n",
       "      <td>-470.657831</td>\n",
       "    </tr>\n",
       "    <tr>\n",
       "      <th>6012</th>\n",
       "      <td>mounds candy bar brownies</td>\n",
       "      <td>516.8</td>\n",
       "      <td>49.833887</td>\n",
       "      <td>-466.966113</td>\n",
       "    </tr>\n",
       "    <tr>\n",
       "      <th>6221</th>\n",
       "      <td>nori roasted seaweed) cheese snacks</td>\n",
       "      <td>532.2</td>\n",
       "      <td>66.170213</td>\n",
       "      <td>-466.029787</td>\n",
       "    </tr>\n",
       "    <tr>\n",
       "      <th>6984</th>\n",
       "      <td>popcorn seasoning mixes</td>\n",
       "      <td>504.0</td>\n",
       "      <td>41.676647</td>\n",
       "      <td>-462.323353</td>\n",
       "    </tr>\n",
       "    <tr>\n",
       "      <th>6395</th>\n",
       "      <td>orange or lemon) infused olive oil</td>\n",
       "      <td>887.2</td>\n",
       "      <td>425.209205</td>\n",
       "      <td>-461.990795</td>\n",
       "    </tr>\n",
       "    <tr>\n",
       "      <th>2917</th>\n",
       "      <td>dehydrator ' sour cream  onion' potato chips</td>\n",
       "      <td>525.2</td>\n",
       "      <td>70.743243</td>\n",
       "      <td>-454.456757</td>\n",
       "    </tr>\n",
       "    <tr>\n",
       "      <th>4701</th>\n",
       "      <td>how to blanch, split,  sliver almonds</td>\n",
       "      <td>585.6</td>\n",
       "      <td>134.607843</td>\n",
       "      <td>-450.992157</td>\n",
       "    </tr>\n",
       "  </tbody>\n",
       "</table>\n",
       "</div>"
      ],
      "text/plain": [
       "                                       clean_title  Energy   kcal_100g  \\\n",
       "6033                        mullein garlic ear oil   884.0   39.411765   \n",
       "7564                 roasted salted sunflower seed   596.0   37.616865   \n",
       "3003                         dipping oil for bread   821.0  290.876404   \n",
       "151                    almond butter cookies vegan   501.2   30.542169   \n",
       "6012                     mounds candy bar brownies   516.8   49.833887   \n",
       "6221           nori roasted seaweed) cheese snacks   532.2   66.170213   \n",
       "6984                       popcorn seasoning mixes   504.0   41.676647   \n",
       "6395            orange or lemon) infused olive oil   887.2  425.209205   \n",
       "2917  dehydrator ' sour cream  onion' potato chips   525.2   70.743243   \n",
       "4701         how to blanch, split,  sliver almonds   585.6  134.607843   \n",
       "\n",
       "       diff_cals  \n",
       "6033 -844.588235  \n",
       "7564 -558.383135  \n",
       "3003 -530.123596  \n",
       "151  -470.657831  \n",
       "6012 -466.966113  \n",
       "6221 -466.029787  \n",
       "6984 -462.323353  \n",
       "6395 -461.990795  \n",
       "2917 -454.456757  \n",
       "4701 -450.992157  "
      ]
     },
     "execution_count": 2028,
     "metadata": {},
     "output_type": "execute_result"
    }
   ],
   "source": [
    "df_mrgd_foodcom_rev.nsmallest(10, 'diff_cals')[['clean_title', 'Energy', 'kcal_100g', 'diff_cals']]"
   ]
  },
  {
   "cell_type": "code",
   "execution_count": 2027,
   "id": "547e32cf",
   "metadata": {},
   "outputs": [
    {
     "data": {
      "text/html": [
       "<div>\n",
       "<style scoped>\n",
       "    .dataframe tbody tr th:only-of-type {\n",
       "        vertical-align: middle;\n",
       "    }\n",
       "\n",
       "    .dataframe tbody tr th {\n",
       "        vertical-align: top;\n",
       "    }\n",
       "\n",
       "    .dataframe thead th {\n",
       "        text-align: right;\n",
       "    }\n",
       "</style>\n",
       "<table border=\"1\" class=\"dataframe\">\n",
       "  <thead>\n",
       "    <tr style=\"text-align: right;\">\n",
       "      <th></th>\n",
       "      <th>clean_title</th>\n",
       "      <th>Energy</th>\n",
       "      <th>kcal_100g</th>\n",
       "      <th>diff_cals</th>\n",
       "    </tr>\n",
       "  </thead>\n",
       "  <tbody>\n",
       "    <tr>\n",
       "      <th>7228</th>\n",
       "      <td>quick polenta rounds with sage butter and parm...</td>\n",
       "      <td>127.6</td>\n",
       "      <td>894.736842</td>\n",
       "      <td>767.136842</td>\n",
       "    </tr>\n",
       "    <tr>\n",
       "      <th>7302</th>\n",
       "      <td>raspberry dressing vinaigrette), no added sugar</td>\n",
       "      <td>140.6</td>\n",
       "      <td>891.111111</td>\n",
       "      <td>750.511111</td>\n",
       "    </tr>\n",
       "    <tr>\n",
       "      <th>8732</th>\n",
       "      <td>tartar sauce from scratch</td>\n",
       "      <td>135.8</td>\n",
       "      <td>878.021108</td>\n",
       "      <td>742.221108</td>\n",
       "    </tr>\n",
       "    <tr>\n",
       "      <th>2491</th>\n",
       "      <td>creamy italian salad dressing</td>\n",
       "      <td>155.4</td>\n",
       "      <td>857.619048</td>\n",
       "      <td>702.219048</td>\n",
       "    </tr>\n",
       "    <tr>\n",
       "      <th>4117</th>\n",
       "      <td>greek seasoning mix</td>\n",
       "      <td>151.0</td>\n",
       "      <td>825.625000</td>\n",
       "      <td>674.625000</td>\n",
       "    </tr>\n",
       "    <tr>\n",
       "      <th>5344</th>\n",
       "      <td>linda's spicy mayonnaise sauce for sushi</td>\n",
       "      <td>131.4</td>\n",
       "      <td>776.694915</td>\n",
       "      <td>645.294915</td>\n",
       "    </tr>\n",
       "    <tr>\n",
       "      <th>7741</th>\n",
       "      <td>sauteed shrimp and remoulade sauce over angel ...</td>\n",
       "      <td>156.8</td>\n",
       "      <td>796.398104</td>\n",
       "      <td>639.598104</td>\n",
       "    </tr>\n",
       "    <tr>\n",
       "      <th>1485</th>\n",
       "      <td>caramelized pineapple</td>\n",
       "      <td>154.4</td>\n",
       "      <td>793.076923</td>\n",
       "      <td>638.676923</td>\n",
       "    </tr>\n",
       "    <tr>\n",
       "      <th>4527</th>\n",
       "      <td>hoisin sauce</td>\n",
       "      <td>209.6</td>\n",
       "      <td>843.014706</td>\n",
       "      <td>633.414706</td>\n",
       "    </tr>\n",
       "    <tr>\n",
       "      <th>2294</th>\n",
       "      <td>cornbread sweet  moist</td>\n",
       "      <td>249.6</td>\n",
       "      <td>881.777778</td>\n",
       "      <td>632.177778</td>\n",
       "    </tr>\n",
       "  </tbody>\n",
       "</table>\n",
       "</div>"
      ],
      "text/plain": [
       "                                            clean_title  Energy   kcal_100g  \\\n",
       "7228  quick polenta rounds with sage butter and parm...   127.6  894.736842   \n",
       "7302    raspberry dressing vinaigrette), no added sugar   140.6  891.111111   \n",
       "8732                          tartar sauce from scratch   135.8  878.021108   \n",
       "2491                      creamy italian salad dressing   155.4  857.619048   \n",
       "4117                                greek seasoning mix   151.0  825.625000   \n",
       "5344           linda's spicy mayonnaise sauce for sushi   131.4  776.694915   \n",
       "7741  sauteed shrimp and remoulade sauce over angel ...   156.8  796.398104   \n",
       "1485                              caramelized pineapple   154.4  793.076923   \n",
       "4527                                       hoisin sauce   209.6  843.014706   \n",
       "2294                             cornbread sweet  moist   249.6  881.777778   \n",
       "\n",
       "       diff_cals  \n",
       "7228  767.136842  \n",
       "7302  750.511111  \n",
       "8732  742.221108  \n",
       "2491  702.219048  \n",
       "4117  674.625000  \n",
       "5344  645.294915  \n",
       "7741  639.598104  \n",
       "1485  638.676923  \n",
       "4527  633.414706  \n",
       "2294  632.177778  "
      ]
     },
     "execution_count": 2027,
     "metadata": {},
     "output_type": "execute_result"
    }
   ],
   "source": [
    "df_mrgd_foodcom_rev.nlargest(10, 'diff_cals')[['clean_title', 'Energy', 'kcal_100g', 'diff_cals']]"
   ]
  },
  {
   "cell_type": "markdown",
   "id": "95f7f1f9",
   "metadata": {},
   "source": [
    "## AEK"
   ]
  },
  {
   "cell_type": "code",
   "execution_count": 1655,
   "id": "5f3b65f9",
   "metadata": {},
   "outputs": [],
   "source": [
    "aek_sample = pd.read_csv('food_data/aek/food_diaries_mod.csv', index_col=0)\n"
   ]
  },
  {
   "cell_type": "code",
   "execution_count": 1994,
   "id": "f7bb1838",
   "metadata": {},
   "outputs": [],
   "source": [
    "cj_aek = pd.read_csv('food_data/aek/food_diary_nutrition.csv', index_col=0)"
   ]
  },
  {
   "cell_type": "code",
   "execution_count": null,
   "id": "0e583bb6",
   "metadata": {},
   "outputs": [],
   "source": [
    "results_aek = lookup_all_nutrition_vectors_sent_trans(aek_sample.clean_title.values, \n",
    "                                        embedded_db_loc=embedded_db_rev_dict, columns=columns,\n",
    "                                        title_col='title_simple_reversed')"
   ]
  },
  {
   "cell_type": "code",
   "execution_count": 1941,
   "id": "d995d4d6",
   "metadata": {},
   "outputs": [],
   "source": [
    "df_aek = transform_nut_dict_to_df(results_aek, columns=columns, prefix='')"
   ]
  },
  {
   "cell_type": "code",
   "execution_count": 1998,
   "id": "53244f35",
   "metadata": {},
   "outputs": [
    {
     "data": {
      "text/html": [
       "<div>\n",
       "<style scoped>\n",
       "    .dataframe tbody tr th:only-of-type {\n",
       "        vertical-align: middle;\n",
       "    }\n",
       "\n",
       "    .dataframe tbody tr th {\n",
       "        vertical-align: top;\n",
       "    }\n",
       "\n",
       "    .dataframe thead th {\n",
       "        text-align: right;\n",
       "    }\n",
       "</style>\n",
       "<table border=\"1\" class=\"dataframe\">\n",
       "  <thead>\n",
       "    <tr style=\"text-align: right;\">\n",
       "      <th></th>\n",
       "      <th>index</th>\n",
       "      <th>food</th>\n",
       "      <th>clean_title</th>\n",
       "      <th>calories_100g</th>\n",
       "      <th>grams</th>\n",
       "      <th>index.1</th>\n",
       "      <th>food_title</th>\n",
       "      <th>calories</th>\n",
       "      <th>carbohydrates_total_g</th>\n",
       "      <th>cholesterol_mg</th>\n",
       "      <th>fat_saturated_g</th>\n",
       "      <th>fat_total_g</th>\n",
       "      <th>fiber_g</th>\n",
       "      <th>potassium_mg</th>\n",
       "      <th>protein_g</th>\n",
       "      <th>sodium_mg</th>\n",
       "      <th>sugar_g</th>\n",
       "    </tr>\n",
       "  </thead>\n",
       "  <tbody>\n",
       "    <tr>\n",
       "      <th>6</th>\n",
       "      <td>6</td>\n",
       "      <td>homemade - deep fried five spices(ngor hiang),...</td>\n",
       "      <td>homemade deep fried five spices(ngor hiang)</td>\n",
       "      <td>230.000000</td>\n",
       "      <td>100.00</td>\n",
       "      <td>0</td>\n",
       "      <td>homemade deep fried five spices(ngor hiang)</td>\n",
       "      <td>NaN</td>\n",
       "      <td>NaN</td>\n",
       "      <td>NaN</td>\n",
       "      <td>NaN</td>\n",
       "      <td>NaN</td>\n",
       "      <td>NaN</td>\n",
       "      <td>NaN</td>\n",
       "      <td>NaN</td>\n",
       "      <td>NaN</td>\n",
       "      <td>NaN</td>\n",
       "    </tr>\n",
       "    <tr>\n",
       "      <th>7</th>\n",
       "      <td>7</td>\n",
       "      <td>scotts - porridge, 20 g</td>\n",
       "      <td>scotts porridge</td>\n",
       "      <td>355.000000</td>\n",
       "      <td>20.00</td>\n",
       "      <td>1</td>\n",
       "      <td>scotts porridge</td>\n",
       "      <td>91.00</td>\n",
       "      <td>12.70</td>\n",
       "      <td>7.0</td>\n",
       "      <td>1.20</td>\n",
       "      <td>2.40</td>\n",
       "      <td>1.2</td>\n",
       "      <td>136.0</td>\n",
       "      <td>4.70</td>\n",
       "      <td>47.0</td>\n",
       "      <td>0.1</td>\n",
       "    </tr>\n",
       "    <tr>\n",
       "      <th>9</th>\n",
       "      <td>9</td>\n",
       "      <td>bread white - bread white, 100 g</td>\n",
       "      <td>bread white bread white</td>\n",
       "      <td>247.000000</td>\n",
       "      <td>100.00</td>\n",
       "      <td>2</td>\n",
       "      <td>bread white bread white</td>\n",
       "      <td>261.55</td>\n",
       "      <td>49.25</td>\n",
       "      <td>0.0</td>\n",
       "      <td>0.70</td>\n",
       "      <td>3.35</td>\n",
       "      <td>2.7</td>\n",
       "      <td>96.5</td>\n",
       "      <td>8.85</td>\n",
       "      <td>489.0</td>\n",
       "      <td>5.6</td>\n",
       "    </tr>\n",
       "    <tr>\n",
       "      <th>17</th>\n",
       "      <td>17</td>\n",
       "      <td>singapore hpb - lor mee, 1 bowl (540 g)</td>\n",
       "      <td>singapore hpb lor mee</td>\n",
       "      <td>70.555556</td>\n",
       "      <td>540.00</td>\n",
       "      <td>3</td>\n",
       "      <td>singapore hpb lor mee</td>\n",
       "      <td>NaN</td>\n",
       "      <td>NaN</td>\n",
       "      <td>NaN</td>\n",
       "      <td>NaN</td>\n",
       "      <td>NaN</td>\n",
       "      <td>NaN</td>\n",
       "      <td>NaN</td>\n",
       "      <td>NaN</td>\n",
       "      <td>NaN</td>\n",
       "      <td>NaN</td>\n",
       "    </tr>\n",
       "    <tr>\n",
       "      <th>33</th>\n",
       "      <td>33</td>\n",
       "      <td>rice - brown rice, 100 g</td>\n",
       "      <td>rice brown rice</td>\n",
       "      <td>118.000000</td>\n",
       "      <td>100.00</td>\n",
       "      <td>4</td>\n",
       "      <td>rice brown rice</td>\n",
       "      <td>111.00</td>\n",
       "      <td>23.30</td>\n",
       "      <td>0.0</td>\n",
       "      <td>0.20</td>\n",
       "      <td>0.80</td>\n",
       "      <td>1.8</td>\n",
       "      <td>76.0</td>\n",
       "      <td>2.30</td>\n",
       "      <td>0.0</td>\n",
       "      <td>0.0</td>\n",
       "    </tr>\n",
       "    <tr>\n",
       "      <th>...</th>\n",
       "      <td>...</td>\n",
       "      <td>...</td>\n",
       "      <td>...</td>\n",
       "      <td>...</td>\n",
       "      <td>...</td>\n",
       "      <td>...</td>\n",
       "      <td>...</td>\n",
       "      <td>...</td>\n",
       "      <td>...</td>\n",
       "      <td>...</td>\n",
       "      <td>...</td>\n",
       "      <td>...</td>\n",
       "      <td>...</td>\n",
       "      <td>...</td>\n",
       "      <td>...</td>\n",
       "      <td>...</td>\n",
       "      <td>...</td>\n",
       "    </tr>\n",
       "    <tr>\n",
       "      <th>29376</th>\n",
       "      <td>29376</td>\n",
       "      <td>sodexo campus - brown rice, 3.2 oz</td>\n",
       "      <td>sodexo campus brown rice</td>\n",
       "      <td>123.456790</td>\n",
       "      <td>90.72</td>\n",
       "      <td>4754</td>\n",
       "      <td>sodexo campus brown rice</td>\n",
       "      <td>110.00</td>\n",
       "      <td>23.10</td>\n",
       "      <td>0.0</td>\n",
       "      <td>0.20</td>\n",
       "      <td>0.80</td>\n",
       "      <td>1.8</td>\n",
       "      <td>77.0</td>\n",
       "      <td>2.30</td>\n",
       "      <td>0.0</td>\n",
       "      <td>0.0</td>\n",
       "    </tr>\n",
       "    <tr>\n",
       "      <th>29378</th>\n",
       "      <td>29378</td>\n",
       "      <td>homemade - chicken curry &amp; rice, 1 -2.5oz chic...</td>\n",
       "      <td>homemade chicken curry &amp; rice</td>\n",
       "      <td>811.344716</td>\n",
       "      <td>70.87</td>\n",
       "      <td>4755</td>\n",
       "      <td>homemade chicken curry &amp; rice</td>\n",
       "      <td>116.85</td>\n",
       "      <td>15.80</td>\n",
       "      <td>15.5</td>\n",
       "      <td>0.35</td>\n",
       "      <td>2.45</td>\n",
       "      <td>0.5</td>\n",
       "      <td>69.0</td>\n",
       "      <td>7.40</td>\n",
       "      <td>15.5</td>\n",
       "      <td>0.5</td>\n",
       "    </tr>\n",
       "    <tr>\n",
       "      <th>29383</th>\n",
       "      <td>29383</td>\n",
       "      <td>rice bowl - rice, 45 g</td>\n",
       "      <td>rice bowl rice</td>\n",
       "      <td>355.555556</td>\n",
       "      <td>45.00</td>\n",
       "      <td>4756</td>\n",
       "      <td>rice bowl rice</td>\n",
       "      <td>125.45</td>\n",
       "      <td>18.80</td>\n",
       "      <td>12.0</td>\n",
       "      <td>0.65</td>\n",
       "      <td>3.15</td>\n",
       "      <td>0.8</td>\n",
       "      <td>81.5</td>\n",
       "      <td>5.95</td>\n",
       "      <td>116.0</td>\n",
       "      <td>0.7</td>\n",
       "    </tr>\n",
       "    <tr>\n",
       "      <th>29384</th>\n",
       "      <td>29384</td>\n",
       "      <td>sweet potato, 0.5 cup (133 g)</td>\n",
       "      <td>sweet potato</td>\n",
       "      <td>42.857143</td>\n",
       "      <td>133.00</td>\n",
       "      <td>4757</td>\n",
       "      <td>sweet potato</td>\n",
       "      <td>77.50</td>\n",
       "      <td>17.50</td>\n",
       "      <td>0.0</td>\n",
       "      <td>0.00</td>\n",
       "      <td>0.10</td>\n",
       "      <td>2.5</td>\n",
       "      <td>32.0</td>\n",
       "      <td>1.40</td>\n",
       "      <td>26.0</td>\n",
       "      <td>5.8</td>\n",
       "    </tr>\n",
       "    <tr>\n",
       "      <th>29400</th>\n",
       "      <td>29400</td>\n",
       "      <td>singapore hpb - hor fun, 0.2 bowl (693 g)</td>\n",
       "      <td>singapore hpb hor fun</td>\n",
       "      <td>21.645022</td>\n",
       "      <td>693.00</td>\n",
       "      <td>4758</td>\n",
       "      <td>singapore hpb hor fun</td>\n",
       "      <td>NaN</td>\n",
       "      <td>NaN</td>\n",
       "      <td>NaN</td>\n",
       "      <td>NaN</td>\n",
       "      <td>NaN</td>\n",
       "      <td>NaN</td>\n",
       "      <td>NaN</td>\n",
       "      <td>NaN</td>\n",
       "      <td>NaN</td>\n",
       "      <td>NaN</td>\n",
       "    </tr>\n",
       "  </tbody>\n",
       "</table>\n",
       "<p>4759 rows × 17 columns</p>\n",
       "</div>"
      ],
      "text/plain": [
       "       index                                               food  \\\n",
       "6          6  homemade - deep fried five spices(ngor hiang),...   \n",
       "7          7                            scotts - porridge, 20 g   \n",
       "9          9                   bread white - bread white, 100 g   \n",
       "17        17            singapore hpb - lor mee, 1 bowl (540 g)   \n",
       "33        33                           rice - brown rice, 100 g   \n",
       "...      ...                                                ...   \n",
       "29376  29376                 sodexo campus - brown rice, 3.2 oz   \n",
       "29378  29378  homemade - chicken curry & rice, 1 -2.5oz chic...   \n",
       "29383  29383                             rice bowl - rice, 45 g   \n",
       "29384  29384                      sweet potato, 0.5 cup (133 g)   \n",
       "29400  29400          singapore hpb - hor fun, 0.2 bowl (693 g)   \n",
       "\n",
       "                                       clean_title  calories_100g   grams  \\\n",
       "6      homemade deep fried five spices(ngor hiang)     230.000000  100.00   \n",
       "7                                  scotts porridge     355.000000   20.00   \n",
       "9                          bread white bread white     247.000000  100.00   \n",
       "17                           singapore hpb lor mee      70.555556  540.00   \n",
       "33                                 rice brown rice     118.000000  100.00   \n",
       "...                                            ...            ...     ...   \n",
       "29376                     sodexo campus brown rice     123.456790   90.72   \n",
       "29378                homemade chicken curry & rice     811.344716   70.87   \n",
       "29383                               rice bowl rice     355.555556   45.00   \n",
       "29384                                 sweet potato      42.857143  133.00   \n",
       "29400                        singapore hpb hor fun      21.645022  693.00   \n",
       "\n",
       "       index.1                                   food_title  calories  \\\n",
       "6            0  homemade deep fried five spices(ngor hiang)       NaN   \n",
       "7            1                              scotts porridge     91.00   \n",
       "9            2                      bread white bread white    261.55   \n",
       "17           3                        singapore hpb lor mee       NaN   \n",
       "33           4                              rice brown rice    111.00   \n",
       "...        ...                                          ...       ...   \n",
       "29376     4754                     sodexo campus brown rice    110.00   \n",
       "29378     4755                homemade chicken curry & rice    116.85   \n",
       "29383     4756                               rice bowl rice    125.45   \n",
       "29384     4757                                 sweet potato     77.50   \n",
       "29400     4758                        singapore hpb hor fun       NaN   \n",
       "\n",
       "       carbohydrates_total_g  cholesterol_mg  fat_saturated_g  fat_total_g  \\\n",
       "6                        NaN             NaN              NaN          NaN   \n",
       "7                      12.70             7.0             1.20         2.40   \n",
       "9                      49.25             0.0             0.70         3.35   \n",
       "17                       NaN             NaN              NaN          NaN   \n",
       "33                     23.30             0.0             0.20         0.80   \n",
       "...                      ...             ...              ...          ...   \n",
       "29376                  23.10             0.0             0.20         0.80   \n",
       "29378                  15.80            15.5             0.35         2.45   \n",
       "29383                  18.80            12.0             0.65         3.15   \n",
       "29384                  17.50             0.0             0.00         0.10   \n",
       "29400                    NaN             NaN              NaN          NaN   \n",
       "\n",
       "       fiber_g  potassium_mg  protein_g  sodium_mg  sugar_g  \n",
       "6          NaN           NaN        NaN        NaN      NaN  \n",
       "7          1.2         136.0       4.70       47.0      0.1  \n",
       "9          2.7          96.5       8.85      489.0      5.6  \n",
       "17         NaN           NaN        NaN        NaN      NaN  \n",
       "33         1.8          76.0       2.30        0.0      0.0  \n",
       "...        ...           ...        ...        ...      ...  \n",
       "29376      1.8          77.0       2.30        0.0      0.0  \n",
       "29378      0.5          69.0       7.40       15.5      0.5  \n",
       "29383      0.8          81.5       5.95      116.0      0.7  \n",
       "29384      2.5          32.0       1.40       26.0      5.8  \n",
       "29400      NaN           NaN        NaN        NaN      NaN  \n",
       "\n",
       "[4759 rows x 17 columns]"
      ]
     },
     "execution_count": 1998,
     "metadata": {},
     "output_type": "execute_result"
    }
   ],
   "source": [
    "cj_aek"
   ]
  },
  {
   "cell_type": "code",
   "execution_count": 2014,
   "id": "f294dc18",
   "metadata": {},
   "outputs": [],
   "source": [
    "df_mrg_aek = cj_aek.merge(df_aek, on='clean_title', how='left')\n",
    "df_mrg_aek = df_mrg_aek[(df_mrg_aek.calories_100g > 30) & (df_mrg_aek.calories_100g < 900)][['clean_title', 'calories_100g', 'calories', 'Energy']]\n",
    "df_mrg_aek.Energy = df_mrg_aek.Energy.astype(float)"
   ]
  },
  {
   "cell_type": "code",
   "execution_count": 2015,
   "id": "aab179da",
   "metadata": {},
   "outputs": [
    {
     "data": {
      "text/plain": [
       "<AxesSubplot:xlabel='calories_100g', ylabel='Energy'>"
      ]
     },
     "execution_count": 2015,
     "metadata": {},
     "output_type": "execute_result"
    },
    {
     "data": {
      "image/png": "[encoded data removed]",
      "text/plain": [
       "<Figure size 432x288 with 1 Axes>"
      ]
     },
     "metadata": {
      "needs_background": "light"
     },
     "output_type": "display_data"
    }
   ],
   "source": [
    "df_mrg_aek[['calories_100g', 'Energy']].plot.scatter(x='calories_100g', y='Energy')"
   ]
  },
  {
   "cell_type": "code",
   "execution_count": 2016,
   "id": "55bfef85",
   "metadata": {},
   "outputs": [
    {
     "data": {
      "text/plain": [
       "<AxesSubplot:xlabel='calories_100g', ylabel='calories'>"
      ]
     },
     "execution_count": 2016,
     "metadata": {},
     "output_type": "execute_result"
    },
    {
     "data": {
      "image/png": "[encoded data removed]",
      "text/plain": [
       "<Figure size 432x288 with 1 Axes>"
      ]
     },
     "metadata": {
      "needs_background": "light"
     },
     "output_type": "display_data"
    }
   ],
   "source": [
    "df_mrg_aek[['calories_100g', 'calories']].plot.scatter(x='calories_100g', y='calories')"
   ]
  },
  {
   "cell_type": "code",
   "execution_count": 2003,
   "id": "cc4e8274",
   "metadata": {},
   "outputs": [],
   "source": [
    "df_mrg_aek['diff_abs'] = df_mrg_aek.calories_100g - df_mrg_aek.Energy"
   ]
  },
  {
   "cell_type": "code",
   "execution_count": 2018,
   "id": "0f8c8ad4",
   "metadata": {},
   "outputs": [
    {
     "data": {
      "text/html": [
       "<div>\n",
       "<style scoped>\n",
       "    .dataframe tbody tr th:only-of-type {\n",
       "        vertical-align: middle;\n",
       "    }\n",
       "\n",
       "    .dataframe tbody tr th {\n",
       "        vertical-align: top;\n",
       "    }\n",
       "\n",
       "    .dataframe thead th {\n",
       "        text-align: right;\n",
       "    }\n",
       "</style>\n",
       "<table border=\"1\" class=\"dataframe\">\n",
       "  <thead>\n",
       "    <tr style=\"text-align: right;\">\n",
       "      <th></th>\n",
       "      <th>calories_100g</th>\n",
       "      <th>calories</th>\n",
       "      <th>Energy</th>\n",
       "    </tr>\n",
       "  </thead>\n",
       "  <tbody>\n",
       "    <tr>\n",
       "      <th>calories_100g</th>\n",
       "      <td>1.000000</td>\n",
       "      <td>0.565462</td>\n",
       "      <td>0.508254</td>\n",
       "    </tr>\n",
       "    <tr>\n",
       "      <th>calories</th>\n",
       "      <td>0.565462</td>\n",
       "      <td>1.000000</td>\n",
       "      <td>0.717309</td>\n",
       "    </tr>\n",
       "    <tr>\n",
       "      <th>Energy</th>\n",
       "      <td>0.508254</td>\n",
       "      <td>0.717309</td>\n",
       "      <td>1.000000</td>\n",
       "    </tr>\n",
       "  </tbody>\n",
       "</table>\n",
       "</div>"
      ],
      "text/plain": [
       "               calories_100g  calories    Energy\n",
       "calories_100g       1.000000  0.565462  0.508254\n",
       "calories            0.565462  1.000000  0.717309\n",
       "Energy              0.508254  0.717309  1.000000"
      ]
     },
     "execution_count": 2018,
     "metadata": {},
     "output_type": "execute_result"
    }
   ],
   "source": [
    "df_mrg_aek[(df_mrg_aek.calories_100g > 30) & (df_mrg_aek.calories_100g < 900)][['calories_100g', 'calories', 'Energy']].corr()"
   ]
  },
  {
   "cell_type": "markdown",
   "id": "0f7ff6cd",
   "metadata": {},
   "source": [
    "### Epicurious"
   ]
  },
  {
   "cell_type": "code",
   "execution_count": 1629,
   "id": "328ff4cc",
   "metadata": {},
   "outputs": [
    {
     "data": {
      "text/html": [
       "<div>\n",
       "<style scoped>\n",
       "    .dataframe tbody tr th:only-of-type {\n",
       "        vertical-align: middle;\n",
       "    }\n",
       "\n",
       "    .dataframe tbody tr th {\n",
       "        vertical-align: top;\n",
       "    }\n",
       "\n",
       "    .dataframe thead th {\n",
       "        text-align: right;\n",
       "    }\n",
       "</style>\n",
       "<table border=\"1\" class=\"dataframe\">\n",
       "  <thead>\n",
       "    <tr style=\"text-align: right;\">\n",
       "      <th></th>\n",
       "      <th>title</th>\n",
       "      <th>calories</th>\n",
       "      <th>protein</th>\n",
       "      <th>fat</th>\n",
       "      <th>sodium</th>\n",
       "      <th>clean_title</th>\n",
       "    </tr>\n",
       "  </thead>\n",
       "  <tbody>\n",
       "    <tr>\n",
       "      <th>0</th>\n",
       "      <td>Lentil, Apple, and Turkey Wrap</td>\n",
       "      <td>426.0</td>\n",
       "      <td>30.0</td>\n",
       "      <td>7.0</td>\n",
       "      <td>559.0</td>\n",
       "      <td>lentil apple and turkey wrap</td>\n",
       "    </tr>\n",
       "    <tr>\n",
       "      <th>1</th>\n",
       "      <td>Boudin Blanc Terrine with Red Onion Confit</td>\n",
       "      <td>403.0</td>\n",
       "      <td>18.0</td>\n",
       "      <td>23.0</td>\n",
       "      <td>1439.0</td>\n",
       "      <td>boudin blanc terrine with red onion confit</td>\n",
       "    </tr>\n",
       "    <tr>\n",
       "      <th>2</th>\n",
       "      <td>Potato and Fennel Soup Hodge</td>\n",
       "      <td>165.0</td>\n",
       "      <td>6.0</td>\n",
       "      <td>7.0</td>\n",
       "      <td>165.0</td>\n",
       "      <td>potato and fennel soup hodge</td>\n",
       "    </tr>\n",
       "    <tr>\n",
       "      <th>4</th>\n",
       "      <td>Spinach Noodle Casserole</td>\n",
       "      <td>547.0</td>\n",
       "      <td>20.0</td>\n",
       "      <td>32.0</td>\n",
       "      <td>452.0</td>\n",
       "      <td>spinach noodle casserole</td>\n",
       "    </tr>\n",
       "    <tr>\n",
       "      <th>5</th>\n",
       "      <td>The Best Blts</td>\n",
       "      <td>948.0</td>\n",
       "      <td>19.0</td>\n",
       "      <td>79.0</td>\n",
       "      <td>1042.0</td>\n",
       "      <td>the best blts</td>\n",
       "    </tr>\n",
       "  </tbody>\n",
       "</table>\n",
       "</div>"
      ],
      "text/plain": [
       "                                         title  calories  protein   fat  \\\n",
       "0              Lentil, Apple, and Turkey Wrap      426.0     30.0   7.0   \n",
       "1  Boudin Blanc Terrine with Red Onion Confit      403.0     18.0  23.0   \n",
       "2                Potato and Fennel Soup Hodge      165.0      6.0   7.0   \n",
       "4                    Spinach Noodle Casserole      547.0     20.0  32.0   \n",
       "5                               The Best Blts      948.0     19.0  79.0   \n",
       "\n",
       "   sodium                                 clean_title  \n",
       "0   559.0                lentil apple and turkey wrap  \n",
       "1  1439.0  boudin blanc terrine with red onion confit  \n",
       "2   165.0                potato and fennel soup hodge  \n",
       "4   452.0                    spinach noodle casserole  \n",
       "5  1042.0                               the best blts  "
      ]
     },
     "execution_count": 1629,
     "metadata": {},
     "output_type": "execute_result"
    }
   ],
   "source": [
    "epic_sample = pd.read_csv('food_data/epicurious/epi_clean.csv', index_col=0)\n",
    "epic_sample.head()"
   ]
  },
  {
   "cell_type": "code",
   "execution_count": 1951,
   "id": "c856d96e",
   "metadata": {},
   "outputs": [
    {
     "name": "stdout",
     "output_type": "stream",
     "text": [
      "CPU times: user 2h 9min 41s, sys: 1min 4s, total: 2h 10min 46s\n",
      "Wall time: 4min 30s\n"
     ]
    }
   ],
   "source": [
    "%%time\n",
    "results_epic = lookup_all_nutrition_vectors_sent_trans(epic_sample.clean_title.values, \n",
    "                                                       embedded_db_loc=embedded_db_rev_dict, columns=columns,\n",
    "                                                       title_col='title_simple_reversed')"
   ]
  },
  {
   "cell_type": "code",
   "execution_count": 1952,
   "id": "de6168cc",
   "metadata": {},
   "outputs": [],
   "source": [
    "df_epic = transform_nut_dict_to_df(results_epic, columns=columns, prefix='')"
   ]
  },
  {
   "cell_type": "code",
   "execution_count": 1633,
   "id": "d49175d0",
   "metadata": {},
   "outputs": [
    {
     "data": {
      "text/plain": [
       "array(['chinese barbecued spareribs'], dtype=object)"
      ]
     },
     "execution_count": 1633,
     "metadata": {},
     "output_type": "execute_result"
    }
   ],
   "source": [
    "df_epic[df_epic.clean_title.str.contains('chinese barbecued spareribs')].clean_title.values"
   ]
  },
  {
   "cell_type": "code",
   "execution_count": 1953,
   "id": "b59606b4",
   "metadata": {},
   "outputs": [
    {
     "data": {
      "text/html": [
       "<div>\n",
       "<style scoped>\n",
       "    .dataframe tbody tr th:only-of-type {\n",
       "        vertical-align: middle;\n",
       "    }\n",
       "\n",
       "    .dataframe tbody tr th {\n",
       "        vertical-align: top;\n",
       "    }\n",
       "\n",
       "    .dataframe thead th {\n",
       "        text-align: right;\n",
       "    }\n",
       "</style>\n",
       "<table border=\"1\" class=\"dataframe\">\n",
       "  <thead>\n",
       "    <tr style=\"text-align: right;\">\n",
       "      <th></th>\n",
       "      <th>title_simple_reversed</th>\n",
       "      <th>similarity</th>\n",
       "    </tr>\n",
       "  </thead>\n",
       "  <tbody>\n",
       "    <tr>\n",
       "      <th>5976</th>\n",
       "      <td>lean and fat eaten with sauce barbecued sparer...</td>\n",
       "      <td>0.678674</td>\n",
       "    </tr>\n",
       "    <tr>\n",
       "      <th>5977</th>\n",
       "      <td>lean only eaten with sauce barbecued spareribs...</td>\n",
       "      <td>0.633105</td>\n",
       "    </tr>\n",
       "    <tr>\n",
       "      <th>5857</th>\n",
       "      <td>lean and fat eaten with sauce barbecued shortr...</td>\n",
       "      <td>0.610180</td>\n",
       "    </tr>\n",
       "    <tr>\n",
       "      <th>8482</th>\n",
       "      <td>beef and vegetables chinese restaurant</td>\n",
       "      <td>0.605699</td>\n",
       "    </tr>\n",
       "    <tr>\n",
       "      <th>8169</th>\n",
       "      <td>chicken and vegetables chinese restaurant</td>\n",
       "      <td>0.598109</td>\n",
       "    </tr>\n",
       "  </tbody>\n",
       "</table>\n",
       "</div>"
      ],
      "text/plain": [
       "                                  title_simple_reversed  similarity\n",
       "5976  lean and fat eaten with sauce barbecued sparer...    0.678674\n",
       "5977  lean only eaten with sauce barbecued spareribs...    0.633105\n",
       "5857  lean and fat eaten with sauce barbecued shortr...    0.610180\n",
       "8482             beef and vegetables chinese restaurant    0.605699\n",
       "8169          chicken and vegetables chinese restaurant    0.598109"
      ]
     },
     "execution_count": 1953,
     "metadata": {},
     "output_type": "execute_result"
    }
   ],
   "source": [
    "results_epic['chinese barbecued spareribs']['similarity']"
   ]
  },
  {
   "cell_type": "code",
   "execution_count": 1954,
   "id": "5783de4e",
   "metadata": {},
   "outputs": [],
   "source": [
    "df_mrg_epic = epic_sample.merge(df_epic, on='clean_title', how='left')"
   ]
  },
  {
   "cell_type": "code",
   "execution_count": 1955,
   "id": "b2874996",
   "metadata": {},
   "outputs": [
    {
     "data": {
      "text/html": [
       "<div>\n",
       "<style scoped>\n",
       "    .dataframe tbody tr th:only-of-type {\n",
       "        vertical-align: middle;\n",
       "    }\n",
       "\n",
       "    .dataframe tbody tr th {\n",
       "        vertical-align: top;\n",
       "    }\n",
       "\n",
       "    .dataframe thead th {\n",
       "        text-align: right;\n",
       "    }\n",
       "</style>\n",
       "<table border=\"1\" class=\"dataframe\">\n",
       "  <thead>\n",
       "    <tr style=\"text-align: right;\">\n",
       "      <th></th>\n",
       "      <th>title</th>\n",
       "      <th>calories</th>\n",
       "      <th>protein</th>\n",
       "      <th>fat</th>\n",
       "      <th>sodium</th>\n",
       "      <th>clean_title</th>\n",
       "      <th>Energy</th>\n",
       "      <th>Water</th>\n",
       "      <th>Carbohydrate, by difference</th>\n",
       "      <th>Protein</th>\n",
       "      <th>Total lipid (fat)</th>\n",
       "      <th>Fiber, total dietary</th>\n",
       "      <th>Sugars, total including NLEA</th>\n",
       "      <th>Cholesterol</th>\n",
       "      <th>Alcohol, ethyl</th>\n",
       "      <th>Caffeine</th>\n",
       "      <th>Vitamin C, total ascorbic acid</th>\n",
       "      <th>Vitamin D (D2 + D3)</th>\n",
       "    </tr>\n",
       "  </thead>\n",
       "  <tbody>\n",
       "    <tr>\n",
       "      <th>0</th>\n",
       "      <td>Lentil, Apple, and Turkey Wrap</td>\n",
       "      <td>426.0</td>\n",
       "      <td>30.0</td>\n",
       "      <td>7.0</td>\n",
       "      <td>559.0</td>\n",
       "      <td>lentil apple and turkey wrap</td>\n",
       "      <td>223.8</td>\n",
       "      <td>54.72</td>\n",
       "      <td>20.38</td>\n",
       "      <td>11.656</td>\n",
       "      <td>10.468</td>\n",
       "      <td>1.5</td>\n",
       "      <td>2.464</td>\n",
       "      <td>32.6</td>\n",
       "      <td>0.0</td>\n",
       "      <td>0.0</td>\n",
       "      <td>2.88</td>\n",
       "      <td>0.6</td>\n",
       "    </tr>\n",
       "    <tr>\n",
       "      <th>1</th>\n",
       "      <td>Boudin Blanc Terrine with Red Onion Confit</td>\n",
       "      <td>403.0</td>\n",
       "      <td>18.0</td>\n",
       "      <td>23.0</td>\n",
       "      <td>1439.0</td>\n",
       "      <td>boudin blanc terrine with red onion confit</td>\n",
       "      <td>131.8</td>\n",
       "      <td>74.56</td>\n",
       "      <td>8.362</td>\n",
       "      <td>8.044</td>\n",
       "      <td>7.366</td>\n",
       "      <td>1.08</td>\n",
       "      <td>1.4225</td>\n",
       "      <td>31.0</td>\n",
       "      <td>0.0</td>\n",
       "      <td>0.0</td>\n",
       "      <td>5.52</td>\n",
       "      <td>0.22</td>\n",
       "    </tr>\n",
       "    <tr>\n",
       "      <th>2</th>\n",
       "      <td>Potato and Fennel Soup Hodge</td>\n",
       "      <td>165.0</td>\n",
       "      <td>6.0</td>\n",
       "      <td>7.0</td>\n",
       "      <td>165.0</td>\n",
       "      <td>potato and fennel soup hodge</td>\n",
       "      <td>39.2</td>\n",
       "      <td>90.76</td>\n",
       "      <td>5.39</td>\n",
       "      <td>1.25</td>\n",
       "      <td>1.492</td>\n",
       "      <td>0.64</td>\n",
       "      <td>1.184</td>\n",
       "      <td>1.6</td>\n",
       "      <td>0.0</td>\n",
       "      <td>0.0</td>\n",
       "      <td>2.84</td>\n",
       "      <td>0.075</td>\n",
       "    </tr>\n",
       "    <tr>\n",
       "      <th>3</th>\n",
       "      <td>Spinach Noodle Casserole</td>\n",
       "      <td>547.0</td>\n",
       "      <td>20.0</td>\n",
       "      <td>32.0</td>\n",
       "      <td>452.0</td>\n",
       "      <td>spinach noodle casserole</td>\n",
       "      <td>142.0</td>\n",
       "      <td>69.18</td>\n",
       "      <td>17.982</td>\n",
       "      <td>6.706</td>\n",
       "      <td>4.85</td>\n",
       "      <td>2.025</td>\n",
       "      <td>1.3175</td>\n",
       "      <td>22.0</td>\n",
       "      <td>0.0</td>\n",
       "      <td>0.0</td>\n",
       "      <td>8.9</td>\n",
       "      <td>0.16</td>\n",
       "    </tr>\n",
       "    <tr>\n",
       "      <th>4</th>\n",
       "      <td>The Best Blts</td>\n",
       "      <td>948.0</td>\n",
       "      <td>19.0</td>\n",
       "      <td>79.0</td>\n",
       "      <td>1042.0</td>\n",
       "      <td>the best blts</td>\n",
       "      <td>128.0</td>\n",
       "      <td>73.946</td>\n",
       "      <td>14.62</td>\n",
       "      <td>1.594</td>\n",
       "      <td>1.854</td>\n",
       "      <td>1.18</td>\n",
       "      <td>6.225</td>\n",
       "      <td>1.4</td>\n",
       "      <td>8.35</td>\n",
       "      <td>10.2</td>\n",
       "      <td>1.82</td>\n",
       "      <td>0.125</td>\n",
       "    </tr>\n",
       "    <tr>\n",
       "      <th>...</th>\n",
       "      <td>...</td>\n",
       "      <td>...</td>\n",
       "      <td>...</td>\n",
       "      <td>...</td>\n",
       "      <td>...</td>\n",
       "      <td>...</td>\n",
       "      <td>...</td>\n",
       "      <td>...</td>\n",
       "      <td>...</td>\n",
       "      <td>...</td>\n",
       "      <td>...</td>\n",
       "      <td>...</td>\n",
       "      <td>...</td>\n",
       "      <td>...</td>\n",
       "      <td>...</td>\n",
       "      <td>...</td>\n",
       "      <td>...</td>\n",
       "      <td>...</td>\n",
       "    </tr>\n",
       "    <tr>\n",
       "      <th>15859</th>\n",
       "      <td>Parmesan Puffs</td>\n",
       "      <td>28.0</td>\n",
       "      <td>2.0</td>\n",
       "      <td>2.0</td>\n",
       "      <td>64.0</td>\n",
       "      <td>parmesan puffs</td>\n",
       "      <td>394.4</td>\n",
       "      <td>19.508</td>\n",
       "      <td>45.262</td>\n",
       "      <td>14.652</td>\n",
       "      <td>18.172</td>\n",
       "      <td>1.36</td>\n",
       "      <td>7.9</td>\n",
       "      <td>38.6</td>\n",
       "      <td>0.0</td>\n",
       "      <td>0.0</td>\n",
       "      <td>0.0</td>\n",
       "      <td>1.34</td>\n",
       "    </tr>\n",
       "    <tr>\n",
       "      <th>15860</th>\n",
       "      <td>Artichoke and Parmesan Risotto</td>\n",
       "      <td>671.0</td>\n",
       "      <td>22.0</td>\n",
       "      <td>28.0</td>\n",
       "      <td>583.0</td>\n",
       "      <td>artichoke and parmesan risotto</td>\n",
       "      <td>176.4</td>\n",
       "      <td>67.14</td>\n",
       "      <td>16.292</td>\n",
       "      <td>4.876</td>\n",
       "      <td>10.25</td>\n",
       "      <td>1.24</td>\n",
       "      <td>2.536</td>\n",
       "      <td>24.4</td>\n",
       "      <td>0.0</td>\n",
       "      <td>0.0</td>\n",
       "      <td>4.075</td>\n",
       "      <td>0.225</td>\n",
       "    </tr>\n",
       "    <tr>\n",
       "      <th>15861</th>\n",
       "      <td>Turkey Cream Puff Pie</td>\n",
       "      <td>563.0</td>\n",
       "      <td>31.0</td>\n",
       "      <td>38.0</td>\n",
       "      <td>652.0</td>\n",
       "      <td>turkey cream puff pie</td>\n",
       "      <td>269.2</td>\n",
       "      <td>51.32</td>\n",
       "      <td>25.2</td>\n",
       "      <td>6.012</td>\n",
       "      <td>16.26</td>\n",
       "      <td>1.18</td>\n",
       "      <td>11.6475</td>\n",
       "      <td>28.8</td>\n",
       "      <td>0.0</td>\n",
       "      <td>0.25</td>\n",
       "      <td>0.75</td>\n",
       "      <td>0.35</td>\n",
       "    </tr>\n",
       "    <tr>\n",
       "      <th>15862</th>\n",
       "      <td>Snapper on Angel Hair with Citrus Cream</td>\n",
       "      <td>631.0</td>\n",
       "      <td>45.0</td>\n",
       "      <td>24.0</td>\n",
       "      <td>517.0</td>\n",
       "      <td>snapper on angel hair with citrus cream</td>\n",
       "      <td>152.6</td>\n",
       "      <td>70.12</td>\n",
       "      <td>14.758</td>\n",
       "      <td>6.078</td>\n",
       "      <td>8.11</td>\n",
       "      <td>1.16</td>\n",
       "      <td>9.635</td>\n",
       "      <td>22.0</td>\n",
       "      <td>0.0</td>\n",
       "      <td>0.0</td>\n",
       "      <td>7.96</td>\n",
       "      <td>2.925</td>\n",
       "    </tr>\n",
       "    <tr>\n",
       "      <th>15863</th>\n",
       "      <td>Baked Ham with Marmalade-Horseradish Glaze</td>\n",
       "      <td>560.0</td>\n",
       "      <td>73.0</td>\n",
       "      <td>10.0</td>\n",
       "      <td>3698.0</td>\n",
       "      <td>baked ham with marmalade-horseradish glaze</td>\n",
       "      <td>194.6</td>\n",
       "      <td>61.06</td>\n",
       "      <td>10.366</td>\n",
       "      <td>16.6</td>\n",
       "      <td>9.34</td>\n",
       "      <td>0.5</td>\n",
       "      <td>1.11</td>\n",
       "      <td>41.4</td>\n",
       "      <td>0.0</td>\n",
       "      <td>0.0</td>\n",
       "      <td>0.38</td>\n",
       "      <td>0.4</td>\n",
       "    </tr>\n",
       "  </tbody>\n",
       "</table>\n",
       "<p>15864 rows × 18 columns</p>\n",
       "</div>"
      ],
      "text/plain": [
       "                                             title  calories  protein   fat  \\\n",
       "0                  Lentil, Apple, and Turkey Wrap      426.0     30.0   7.0   \n",
       "1      Boudin Blanc Terrine with Red Onion Confit      403.0     18.0  23.0   \n",
       "2                    Potato and Fennel Soup Hodge      165.0      6.0   7.0   \n",
       "3                        Spinach Noodle Casserole      547.0     20.0  32.0   \n",
       "4                                   The Best Blts      948.0     19.0  79.0   \n",
       "...                                            ...       ...      ...   ...   \n",
       "15859                              Parmesan Puffs       28.0      2.0   2.0   \n",
       "15860              Artichoke and Parmesan Risotto      671.0     22.0  28.0   \n",
       "15861                       Turkey Cream Puff Pie      563.0     31.0  38.0   \n",
       "15862     Snapper on Angel Hair with Citrus Cream      631.0     45.0  24.0   \n",
       "15863  Baked Ham with Marmalade-Horseradish Glaze      560.0     73.0  10.0   \n",
       "\n",
       "       sodium                                 clean_title Energy   Water  \\\n",
       "0       559.0                lentil apple and turkey wrap  223.8   54.72   \n",
       "1      1439.0  boudin blanc terrine with red onion confit  131.8   74.56   \n",
       "2       165.0                potato and fennel soup hodge   39.2   90.76   \n",
       "3       452.0                    spinach noodle casserole  142.0   69.18   \n",
       "4      1042.0                               the best blts  128.0  73.946   \n",
       "...       ...                                         ...    ...     ...   \n",
       "15859    64.0                              parmesan puffs  394.4  19.508   \n",
       "15860   583.0              artichoke and parmesan risotto  176.4   67.14   \n",
       "15861   652.0                       turkey cream puff pie  269.2   51.32   \n",
       "15862   517.0     snapper on angel hair with citrus cream  152.6   70.12   \n",
       "15863  3698.0  baked ham with marmalade-horseradish glaze  194.6   61.06   \n",
       "\n",
       "      Carbohydrate, by difference Protein Total lipid (fat)  \\\n",
       "0                           20.38  11.656            10.468   \n",
       "1                           8.362   8.044             7.366   \n",
       "2                            5.39    1.25             1.492   \n",
       "3                          17.982   6.706              4.85   \n",
       "4                           14.62   1.594             1.854   \n",
       "...                           ...     ...               ...   \n",
       "15859                      45.262  14.652            18.172   \n",
       "15860                      16.292   4.876             10.25   \n",
       "15861                        25.2   6.012             16.26   \n",
       "15862                      14.758   6.078              8.11   \n",
       "15863                      10.366    16.6              9.34   \n",
       "\n",
       "      Fiber, total dietary Sugars, total including NLEA Cholesterol  \\\n",
       "0                      1.5                        2.464        32.6   \n",
       "1                     1.08                       1.4225        31.0   \n",
       "2                     0.64                        1.184         1.6   \n",
       "3                    2.025                       1.3175        22.0   \n",
       "4                     1.18                        6.225         1.4   \n",
       "...                    ...                          ...         ...   \n",
       "15859                 1.36                          7.9        38.6   \n",
       "15860                 1.24                        2.536        24.4   \n",
       "15861                 1.18                      11.6475        28.8   \n",
       "15862                 1.16                        9.635        22.0   \n",
       "15863                  0.5                         1.11        41.4   \n",
       "\n",
       "      Alcohol, ethyl Caffeine Vitamin C, total ascorbic acid  \\\n",
       "0                0.0      0.0                           2.88   \n",
       "1                0.0      0.0                           5.52   \n",
       "2                0.0      0.0                           2.84   \n",
       "3                0.0      0.0                            8.9   \n",
       "4               8.35     10.2                           1.82   \n",
       "...              ...      ...                            ...   \n",
       "15859            0.0      0.0                            0.0   \n",
       "15860            0.0      0.0                          4.075   \n",
       "15861            0.0     0.25                           0.75   \n",
       "15862            0.0      0.0                           7.96   \n",
       "15863            0.0      0.0                           0.38   \n",
       "\n",
       "      Vitamin D (D2 + D3)  \n",
       "0                     0.6  \n",
       "1                    0.22  \n",
       "2                   0.075  \n",
       "3                    0.16  \n",
       "4                   0.125  \n",
       "...                   ...  \n",
       "15859                1.34  \n",
       "15860               0.225  \n",
       "15861                0.35  \n",
       "15862               2.925  \n",
       "15863                 0.4  \n",
       "\n",
       "[15864 rows x 18 columns]"
      ]
     },
     "execution_count": 1955,
     "metadata": {},
     "output_type": "execute_result"
    }
   ],
   "source": [
    "df_mrg_epic"
   ]
  },
  {
   "cell_type": "code",
   "execution_count": 1959,
   "id": "dfd31a53",
   "metadata": {},
   "outputs": [
    {
     "data": {
      "text/plain": [
       "<AxesSubplot:xlabel='calories', ylabel='Energy'>"
      ]
     },
     "execution_count": 1959,
     "metadata": {},
     "output_type": "execute_result"
    },
    {
     "data": {
      "image/png": "[encoded data removed]",
      "text/plain": [
       "<Figure size 432x288 with 1 Axes>"
      ]
     },
     "metadata": {
      "needs_background": "light"
     },
     "output_type": "display_data"
    }
   ],
   "source": [
    "df_mrg_epic[df_mrg_epic.calories<1000][['calories', 'Energy']].plot.scatter(x='calories', y='Energy')"
   ]
  },
  {
   "cell_type": "code",
   "execution_count": 1960,
   "id": "2189a569",
   "metadata": {},
   "outputs": [
    {
     "data": {
      "text/html": [
       "<div>\n",
       "<style scoped>\n",
       "    .dataframe tbody tr th:only-of-type {\n",
       "        vertical-align: middle;\n",
       "    }\n",
       "\n",
       "    .dataframe tbody tr th {\n",
       "        vertical-align: top;\n",
       "    }\n",
       "\n",
       "    .dataframe thead th {\n",
       "        text-align: right;\n",
       "    }\n",
       "</style>\n",
       "<table border=\"1\" class=\"dataframe\">\n",
       "  <thead>\n",
       "    <tr style=\"text-align: right;\">\n",
       "      <th></th>\n",
       "      <th>calories</th>\n",
       "      <th>Energy</th>\n",
       "    </tr>\n",
       "  </thead>\n",
       "  <tbody>\n",
       "    <tr>\n",
       "      <th>calories</th>\n",
       "      <td>1.000000</td>\n",
       "      <td>0.024205</td>\n",
       "    </tr>\n",
       "    <tr>\n",
       "      <th>Energy</th>\n",
       "      <td>0.024205</td>\n",
       "      <td>1.000000</td>\n",
       "    </tr>\n",
       "  </tbody>\n",
       "</table>\n",
       "</div>"
      ],
      "text/plain": [
       "          calories    Energy\n",
       "calories  1.000000  0.024205\n",
       "Energy    0.024205  1.000000"
      ]
     },
     "execution_count": 1960,
     "metadata": {},
     "output_type": "execute_result"
    }
   ],
   "source": [
    "df_mrg_epic.Energy = df_mrg_epic.Energy.astype(float)\n",
    "df_mrg_epic[df_mrg_epic.calories<1000][['calories', 'Energy']].corr()"
   ]
  },
  {
   "cell_type": "code",
   "execution_count": null,
   "id": "2cf1a836",
   "metadata": {},
   "outputs": [],
   "source": []
  }
 ],
 "metadata": {
  "kernelspec": {
   "display_name": "Python 3",
   "language": "python",
   "name": "python3"
  },
  "language_info": {
   "codemirror_mode": {
    "name": "ipython",
    "version": 3
   },
   "file_extension": ".py",
   "mimetype": "text/x-python",
   "name": "python",
   "nbconvert_exporter": "python",
   "pygments_lexer": "ipython3",
   "version": "3.7.8"
  }
 },
 "nbformat": 4,
 "nbformat_minor": 5
}
